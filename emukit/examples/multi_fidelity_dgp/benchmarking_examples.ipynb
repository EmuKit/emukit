{
 "cells": [
  {
   "cell_type": "markdown",
   "metadata": {},
   "source": [
    "# Multi-Fidelity Deep Gaussian process benchmark\n",
    "\n",
    "This notebook replicates the benchmark experiments from the paper:\n",
    "\n",
    "[Deep Gaussian Processes for Multi-fidelity Modeling (Kurt Cutajar, Mark Pullin, Andreas Damianou, Neil Lawrence, Javier González)](https://arxiv.org/abs/1903.07320)\n",
    "\n",
    "Note that the code for one of the benchmark models in the paper, \"Deep Multi-fidelity Gaussian process\", is not publically available and so does not appear in this notebook."
   ]
  },
  {
   "cell_type": "code",
   "execution_count": 1,
   "metadata": {},
   "outputs": [],
   "source": [
    "from prettytable import PrettyTable\n",
    "import numpy as np\n",
    "import scipy.stats\n",
    "from sklearn.metrics import mean_squared_error, r2_score\n",
    "import emukit.examples.multi_fidelity_dgp\n",
    "\n",
    "from emukit.examples.multi_fidelity_dgp.baseline_model_wrappers import LinearAutoRegressiveModel, NonLinearAutoRegressiveModel, HighFidelityGp\n",
    "\n",
    "from emukit.core import ContinuousParameter, ParameterSpace\n",
    "from emukit.experimental_design import LatinDesign\n",
    "from emukit.examples.multi_fidelity_dgp.multi_fidelity_deep_gp import MultiFidelityDeepGP\n",
    "\n",
    "from emukit.test_functions.multi_fidelity import (multi_fidelity_borehole_function, multi_fidelity_branin_function,\n",
    "                                                  multi_fidelity_park_function, multi_fidelity_hartmann_3d,\n",
    "                                                  multi_fidelity_currin_function)"
   ]
  },
  {
   "cell_type": "markdown",
   "metadata": {},
   "source": [
    "# Parameters for different benchmark functions"
   ]
  },
  {
   "cell_type": "code",
   "execution_count": 2,
   "metadata": {},
   "outputs": [],
   "source": [
    "from collections import namedtuple\n",
    "\n",
    "Function = namedtuple('Function', ['name', 'y_scale', 'noise_level', 'do_x_scaling', 'num_data', 'fcn'])\n",
    "\n",
    "borehole = Function(name='borehole', y_scale=100, noise_level=[0.05, 0.1], do_x_scaling=True, num_data=[60, 5], \n",
    "                    fcn=multi_fidelity_borehole_function)\n",
    "branin = Function(name='branin', y_scale=1, noise_level=[0., 0., 0.], do_x_scaling=False, num_data=[80, 30, 10], \n",
    "                    fcn=multi_fidelity_branin_function)\n",
    "currin = Function(name='currin', y_scale=1, noise_level=[0., 0.], do_x_scaling=False, num_data=[12, 5], \n",
    "                    fcn=multi_fidelity_currin_function)\n",
    "park = Function(name='park', y_scale=1, noise_level=[0., 0.], do_x_scaling=False, num_data=[30, 5], \n",
    "                    fcn=multi_fidelity_park_function)\n",
    "hartmann_3d = Function(name='hartmann', y_scale=1, noise_level=[0., 0., 0.], do_x_scaling=False, num_data=[80, 40, 20], \n",
    "                    fcn=multi_fidelity_hartmann_3d)"
   ]
  },
  {
   "cell_type": "code",
   "execution_count": 3,
   "metadata": {},
   "outputs": [],
   "source": [
    "# Function to repeat test across different random seeds.\n",
    "\n",
    "def do_benchmark(fcn_tuple):\n",
    "    metrics = dict()\n",
    "\n",
    "    # Some random seeds to use\n",
    "    seeds = [123, 184, 202, 289, 732]\n",
    "\n",
    "    for i, seed in enumerate(seeds):\n",
    "        run_name = str(seed) + str(fcn_tuple.num_data)\n",
    "        metrics[run_name] = test_function(fcn_tuple, seed)\n",
    "        print('After ' + str(i+1) + ' runs of ' + fcn_tuple.name)\n",
    "        print_metrics(metrics)\n",
    "\n",
    "    return metrics"
   ]
  },
  {
   "cell_type": "code",
   "execution_count": 4,
   "metadata": {},
   "outputs": [],
   "source": [
    "# Print metrics as table \n",
    "def print_metrics(metrics):\n",
    "    model_names = list(list(metrics.values())[0].keys())\n",
    "    metric_names = ['r2', 'mnll', 'rmse']\n",
    "    table = PrettyTable(['model'] + metric_names)\n",
    "\n",
    "    for name in model_names:\n",
    "        mean = []\n",
    "        for metric_name in metric_names:\n",
    "            mean.append(np.mean([metric[name][metric_name] for metric in metrics.values()]))\n",
    "        table.add_row([name] + mean)\n",
    "\n",
    "    print(table)"
   ]
  },
  {
   "cell_type": "code",
   "execution_count": 5,
   "metadata": {},
   "outputs": [],
   "source": [
    "def test_function(fcn, seed):\n",
    "    np.random.seed(seed)\n",
    "\n",
    "    x_test, y_test, X, Y = generate_data(fcn, 1000)\n",
    "\n",
    "    mf_dgp_fix_lf_mean = MultiFidelityDeepGP(X, Y, n_iter=5000)\n",
    "    mf_dgp_fix_lf_mean.name = 'mf_dgp_fix_lf_mean'\n",
    "\n",
    "    models = [HighFidelityGp(X, Y), LinearAutoRegressiveModel(X, Y), NonLinearAutoRegressiveModel(X, Y), mf_dgp_fix_lf_mean]\n",
    "    return benchmark_models(models, x_test, y_test)"
   ]
  },
  {
   "cell_type": "code",
   "execution_count": 6,
   "metadata": {},
   "outputs": [],
   "source": [
    "def benchmark_models(models, x_test, y_test):\n",
    "    metrics = dict()\n",
    "    for model in models:\n",
    "        model.optimize()\n",
    "        y_mean, y_var = model.predict(x_test)\n",
    "        metrics[model.name] = calculate_metrics(y_test, y_mean, y_var)\n",
    "        print('+ ######################## +')\n",
    "        print(model.name, 'r2', metrics[model.name]['r2'])\n",
    "        print('+ ######################## + ')\n",
    "    return metrics"
   ]
  },
  {
   "cell_type": "code",
   "execution_count": 7,
   "metadata": {},
   "outputs": [],
   "source": [
    "def generate_data(fcn_tuple, n_test_points):\n",
    "    \"\"\"\n",
    "    Generates train and test data for\n",
    "    \"\"\"\n",
    "    \n",
    "    do_x_scaling = fcn_tuple.do_x_scaling\n",
    "    fcn, space = fcn_tuple.fcn()\n",
    "    \n",
    "    # Generate training data\n",
    "    new_space = ParameterSpace(space._parameters[:-1])\n",
    "    latin = LatinDesign(new_space)\n",
    "    X = [latin.get_samples(n) for n in fcn_tuple.num_data]\n",
    "    \n",
    "    # Scale X if required\n",
    "    if do_x_scaling:\n",
    "        scalings = X[0].std(axis=0)\n",
    "    else:\n",
    "        scalings = np.ones(X[0].shape[1])\n",
    "        \n",
    "    for x in X:\n",
    "        x /= scalings\n",
    "    \n",
    "    Y = []\n",
    "    for i, x in enumerate(X):\n",
    "        Y.append(fcn.f[i](x * scalings))\n",
    "    \n",
    "    y_scale = fcn_tuple.y_scale\n",
    "    \n",
    "    # scale y and add noise if required\n",
    "    noise_levels = fcn_tuple.noise_level\n",
    "    if any([n > 0 for n in noise_levels]):\n",
    "        for y, std_noise in zip(Y, noise_levels):\n",
    "            y /= y_scale + std_noise * np.random.randn(y.shape[0], 1)\n",
    "    \n",
    "    # Generate test data\n",
    "    x_test = latin.get_samples(n_test_points)\n",
    "    x_test /= scalings\n",
    "    y_test = fcn.f[-1](x_test * scalings)\n",
    "    y_test /= y_scale\n",
    "\n",
    "    i_highest_fidelity = (len(fcn_tuple.num_data) - 1) * np.ones((x_test.shape[0], 1))\n",
    "    x_test = np.concatenate([x_test, i_highest_fidelity], axis=1)\n",
    "    print(X[1].shape)\n",
    "    return x_test, y_test, X, Y"
   ]
  },
  {
   "cell_type": "code",
   "execution_count": 8,
   "metadata": {},
   "outputs": [],
   "source": [
    "def calculate_metrics(y_test, y_mean_prediction, y_var_prediction):\n",
    "    # R2\n",
    "    r2 = r2_score(y_test, y_mean_prediction)\n",
    "    # RMSE\n",
    "    rmse = np.sqrt(mean_squared_error(y_test, y_mean_prediction))\n",
    "    # Test log likelihood\n",
    "    mnll = -np.sum(scipy.stats.norm.logpdf(y_test, loc=y_mean_prediction, scale=np.sqrt(y_var_prediction)))/len(y_test)\n",
    "    return {'r2': r2, 'rmse': rmse, 'mnll': mnll}"
   ]
  },
  {
   "cell_type": "code",
   "execution_count": 9,
   "metadata": {
    "scrolled": false
   },
   "outputs": [
    {
     "name": "stdout",
     "output_type": "stream",
     "text": [
      "(5, 8)\n",
      "Optimization restart 1/10, f = 2.6780050188822546\n",
      "Optimization restart 2/10, f = 1.0935264476928328\n",
      "Optimization restart 3/10, f = 6.857006533137321\n",
      "Optimization restart 4/10, f = 2.6779984957092537\n",
      "Optimization restart 5/10, f = 6.857006533050038\n",
      "Optimization restart 6/10, f = 2.6779982188829115\n",
      "Optimization restart 7/10, f = 2.524868617934755\n",
      "Optimization restart 8/10, f = 6.8570065331075085\n",
      "Optimization restart 9/10, f = 6.857006533126267\n",
      "Optimization restart 10/10, f = 6.857006511305246\n",
      "+ ######################## +\n",
      "hf_gp r2 0.853075000266343\n",
      "+ ######################## + \n"
     ]
    },
    {
     "name": "stderr",
     "output_type": "stream",
     "text": [
      " /Users/marpulli/miniconda3/lib/python3.6/site-packages/GPy/kern/src/stationary.py:165: RuntimeWarning:overflow encountered in true_divide\n",
      " /Users/marpulli/miniconda3/lib/python3.6/site-packages/GPy/kern/src/stationary.py:166: RuntimeWarning:overflow encountered in true_divide\n",
      " /Users/marpulli/miniconda3/lib/python3.6/site-packages/GPy/kern/src/stationary.py:144: RuntimeWarning:overflow encountered in square\n",
      " /Users/marpulli/miniconda3/lib/python3.6/site-packages/GPy/kern/src/stationary.py:145: RuntimeWarning:overflow encountered in square\n",
      " /Users/marpulli/miniconda3/lib/python3.6/site-packages/GPy/kern/src/stationary.py:146: RuntimeWarning:invalid value encountered in add\n"
     ]
    },
    {
     "name": "stdout",
     "output_type": "stream",
     "text": [
      "Optimization restart 1/10, f = -156.8285538162658\n",
      "Optimization restart 2/10, f = -179.38036874969842\n",
      "Optimization restart 3/10, f = -163.36705147772054\n",
      "Optimization restart 4/10, f = -182.28237823155325\n",
      "Optimization restart 5/10, f = -176.24304083993212\n"
     ]
    },
    {
     "name": "stderr",
     "output_type": "stream",
     "text": [
      " /Users/marpulli/miniconda3/lib/python3.6/site-packages/GPy/kern/src/stationary.py:244: RuntimeWarning:invalid value encountered in true_divide\n"
     ]
    },
    {
     "name": "stdout",
     "output_type": "stream",
     "text": [
      "Optimization restart 6/10, f = -119.99978816309434\n",
      "Optimization restart 7/10, f = -175.37409704195088\n",
      "Optimization restart 8/10, f = -179.61244375281075\n",
      "Optimization restart 9/10, f = -182.86672215283113\n",
      "Optimization restart 10/10, f = -161.18706361447067\n"
     ]
    },
    {
     "name": "stderr",
     "output_type": "stream",
     "text": [
      " /Users/marpulli/miniconda3/lib/python3.6/site-packages/paramz/transformations.py:111: RuntimeWarning:overflow encountered in expm1\n"
     ]
    },
    {
     "name": "stdout",
     "output_type": "stream",
     "text": [
      "Optimization restart 1/10, f = -186.38395209569308\n",
      "Optimization restart 2/10, f = -147.3071062351859\n",
      "Optimization restart 3/10, f = -169.85954282860385\n",
      "Optimization restart 4/10, f = -179.35403697892826\n",
      "Optimization restart 5/10, f = -183.22412818655513\n",
      "Optimization restart 6/10, f = -137.07203845602123\n",
      "Optimization restart 7/10, f = -178.09572141639865\n",
      "Optimization restart 8/10, f = -171.86507595255608\n",
      "Optimization restart 9/10, f = -176.29583805979854\n",
      "Optimization restart 10/10, f = -43.10639285241553\n",
      "+ ######################## +\n",
      "ar1 r2 0.9998972497557327\n",
      "+ ######################## + \n",
      "Optimization restart 1/10, f = -136.9370331901252\n",
      "Optimization restart 2/10, f = -136.93703386790318\n",
      "Optimization restart 3/10, f = -136.93703278467692\n",
      "Optimization restart 4/10, f = -136.93703641182705\n",
      "Optimization restart 5/10, f = -136.93703548981853\n",
      "Optimization restart 6/10, f = -136.93703389359064\n",
      "Optimization restart 7/10, f = -136.9370235017134\n",
      "Optimization restart 8/10, f = -136.93703798785725\n",
      "Optimization restart 9/10, f = -136.93703234380965\n",
      "Optimization restart 10/10, f = -136.9370318243432\n",
      "Optimization restart 1/10, f = -6.14655335135112\n"
     ]
    },
    {
     "name": "stderr",
     "output_type": "stream",
     "text": [
      " /Users/marpulli/miniconda3/lib/python3.6/site-packages/GPy/kern/src/stationary.py:244: RuntimeWarning:invalid value encountered in true_divide\n"
     ]
    },
    {
     "name": "stdout",
     "output_type": "stream",
     "text": [
      "Optimization restart 2/10, f = 2.5248676236134466\n",
      "Optimization restart 3/10, f = 2.524868325063706\n",
      "Optimization restart 4/10, f = 6.857006533146583\n",
      "Optimization restart 5/10, f = 2.5248697071171575\n",
      "Optimization restart 6/10, f = 6.857006532504605\n",
      "Optimization restart 7/10, f = 1.0935260099510984\n",
      "Optimization restart 8/10, f = -7.649649343166953\n"
     ]
    },
    {
     "name": "stderr",
     "output_type": "stream",
     "text": [
      " /Users/marpulli/miniconda3/lib/python3.6/site-packages/GPy/kern/src/stationary.py:166: RuntimeWarning:overflow encountered in true_divide\n",
      " /Users/marpulli/miniconda3/lib/python3.6/site-packages/GPy/kern/src/stationary.py:137: RuntimeWarning:overflow encountered in square\n",
      " /Users/marpulli/miniconda3/lib/python3.6/site-packages/GPy/kern/src/stationary.py:138: RuntimeWarning:invalid value encountered in add\n",
      " /Users/marpulli/miniconda3/lib/python3.6/site-packages/GPy/kern/src/stationary.py:168: RuntimeWarning:overflow encountered in true_divide\n",
      " /Users/marpulli/miniconda3/lib/python3.6/site-packages/GPy/kern/src/rbf.py:51: RuntimeWarning:overflow encountered in square\n",
      " /Users/marpulli/miniconda3/lib/python3.6/site-packages/GPy/kern/src/rbf.py:54: RuntimeWarning:invalid value encountered in multiply\n"
     ]
    },
    {
     "name": "stdout",
     "output_type": "stream",
     "text": [
      "Optimization restart 9/10, f = -7.6497521754149265\n",
      "Optimization restart 10/10, f = 6.857006532978832\n",
      "+ ######################## +\n",
      "nargp r2 0.9985789738974397\n",
      "+ ######################## + \n"
     ]
    },
    {
     "name": "stderr",
     "output_type": "stream",
     "text": [
      " /Users/marpulli/miniconda3/lib/python3.6/site-packages/tensorflow/python/ops/gradients_impl.py:108: UserWarning:Converting sparse IndexedSlices to a dense Tensor of unknown shape. This may consume a large amount of memory.\n"
     ]
    },
    {
     "name": "stdout",
     "output_type": "stream",
     "text": [
      "+ ######################## +\n",
      "mf_dgp_fix_lf_mean r2 0.9987049708753993\n",
      "+ ######################## + \n",
      "After 1 runs of borehole\n",
      "+--------------------+--------------------+---------------------+----------------------+\n",
      "|       model        |         r2         |         mnll        |         rmse         |\n",
      "+--------------------+--------------------+---------------------+----------------------+\n",
      "|       hf_gp        | 0.853075000266343  |  96.14594484403838  | 0.17314327654728623  |\n",
      "|        ar1         | 0.9998972497557327 | -3.9025995002940634 | 0.004578774062605934 |\n",
      "|       nargp        | 0.9985789738974397 | -2.7349785645424847 | 0.017027810574982254 |\n",
      "| mf_dgp_fix_lf_mean | 0.9987049708753993 |  -2.031759496425357 | 0.016255395866799045 |\n",
      "+--------------------+--------------------+---------------------+----------------------+\n",
      "(5, 8)\n",
      "Optimization restart 1/10, f = 0.33646433185789526\n",
      "Optimization restart 2/10, f = 6.095755725618849\n",
      "Optimization restart 3/10, f = 6.095755513850342\n",
      "Optimization restart 4/10, f = 6.0957557256189405\n",
      "Optimization restart 5/10, f = 1.5379812066780483\n",
      "Optimization restart 6/10, f = 0.3364650038683079\n",
      "Optimization restart 7/10, f = 3.9545616483075983\n",
      "Optimization restart 8/10, f = 6.095755725619259\n",
      "Optimization restart 9/10, f = 6.095748900357012\n",
      "Optimization restart 10/10, f = 6.095755725618842\n",
      "+ ######################## +\n",
      "hf_gp r2 0.7611915182665484\n",
      "+ ######################## + \n"
     ]
    },
    {
     "name": "stderr",
     "output_type": "stream",
     "text": [
      " /Users/marpulli/miniconda3/lib/python3.6/site-packages/GPy/kern/src/stationary.py:165: RuntimeWarning:overflow encountered in true_divide\n",
      " /Users/marpulli/miniconda3/lib/python3.6/site-packages/GPy/kern/src/stationary.py:166: RuntimeWarning:overflow encountered in true_divide\n",
      " /Users/marpulli/miniconda3/lib/python3.6/site-packages/GPy/kern/src/stationary.py:146: RuntimeWarning:invalid value encountered in add\n",
      " /Users/marpulli/miniconda3/lib/python3.6/site-packages/GPy/kern/src/stationary.py:144: RuntimeWarning:overflow encountered in square\n",
      " /Users/marpulli/miniconda3/lib/python3.6/site-packages/GPy/kern/src/stationary.py:145: RuntimeWarning:overflow encountered in square\n"
     ]
    },
    {
     "name": "stdout",
     "output_type": "stream",
     "text": [
      "Optimization restart 1/10, f = -175.7017231933433\n",
      "Optimization restart 2/10, f = -179.72025414287847\n",
      "Optimization restart 3/10, f = -172.54208731026495\n",
      "Optimization restart 4/10, f = -171.370638232173\n"
     ]
    },
    {
     "name": "stderr",
     "output_type": "stream",
     "text": [
      " /Users/marpulli/miniconda3/lib/python3.6/site-packages/GPy/kern/src/stationary.py:244: RuntimeWarning:invalid value encountered in true_divide\n"
     ]
    },
    {
     "name": "stdout",
     "output_type": "stream",
     "text": [
      "Optimization restart 5/10, f = -137.27491107308924\n",
      "Optimization restart 6/10, f = -127.25252791765338\n",
      "Optimization restart 7/10, f = -183.13166466037566\n",
      "Optimization restart 8/10, f = -169.60249271488678\n",
      "Optimization restart 9/10, f = 13.886584113044236\n",
      "Optimization restart 10/10, f = -139.55901389884826\n"
     ]
    },
    {
     "name": "stderr",
     "output_type": "stream",
     "text": [
      " /Users/marpulli/miniconda3/lib/python3.6/site-packages/paramz/transformations.py:111: RuntimeWarning:overflow encountered in expm1\n"
     ]
    },
    {
     "name": "stdout",
     "output_type": "stream",
     "text": [
      "Optimization restart 1/10, f = -188.78584087902138\n",
      "Optimization restart 2/10, f = -165.9255045776461\n",
      "Optimization restart 3/10, f = -153.37076733339003\n",
      "Optimization restart 4/10, f = -188.9609216585933\n",
      "Optimization restart 5/10, f = 13.886284349594561\n",
      "Optimization restart 6/10, f = -187.42461585981636\n",
      "Optimization restart 7/10, f = 13.886287725923232\n",
      "Optimization restart 8/10, f = -185.04689075322142\n",
      "Optimization restart 9/10, f = -153.69295765749064\n",
      "Optimization restart 10/10, f = -154.9567659155038\n",
      "+ ######################## +\n",
      "ar1 r2 0.9998843925649263\n",
      "+ ######################## + \n",
      "Optimization restart 1/10, f = -130.92876017188414\n",
      "Optimization restart 2/10, f = -130.92876657276398\n",
      "Optimization restart 3/10, f = -130.92876767135255\n",
      "Optimization restart 4/10, f = -130.92876559595632\n",
      "Optimization restart 5/10, f = -130.9287654318012\n",
      "Optimization restart 6/10, f = -130.9287645952371\n",
      "Optimization restart 7/10, f = -130.9287645595528\n",
      "Optimization restart 8/10, f = -130.92876255847608\n",
      "Optimization restart 9/10, f = -130.92876248903968\n",
      "Optimization restart 10/10, f = -130.92876461108852\n",
      "Optimization restart 1/10, f = 0.33646433417389154\n",
      "Optimization restart 2/10, f = 6.095755708788834\n",
      "Optimization restart 3/10, f = 6.0957557256458585\n",
      "Optimization restart 4/10, f = 0.33646432872405807\n"
     ]
    },
    {
     "name": "stderr",
     "output_type": "stream",
     "text": [
      " /Users/marpulli/miniconda3/lib/python3.6/site-packages/GPy/kern/src/stationary.py:166: RuntimeWarning:overflow encountered in true_divide\n",
      " /Users/marpulli/miniconda3/lib/python3.6/site-packages/GPy/kern/src/stationary.py:138: RuntimeWarning:invalid value encountered in add\n",
      " /Users/marpulli/miniconda3/lib/python3.6/site-packages/GPy/kern/src/stationary.py:137: RuntimeWarning:overflow encountered in square\n",
      " /Users/marpulli/miniconda3/lib/python3.6/site-packages/GPy/kern/src/rbf.py:51: RuntimeWarning:overflow encountered in square\n"
     ]
    },
    {
     "name": "stdout",
     "output_type": "stream",
     "text": [
      "Optimization restart 5/10, f = -9.375357877143411\n",
      "Optimization restart 6/10, f = 6.0957556083365665\n",
      "Optimization restart 7/10, f = 6.095755725581395\n",
      "Optimization restart 8/10, f = -7.7623016245230865\n",
      "Optimization restart 9/10, f = 6.09575307745472\n",
      "Optimization restart 10/10, f = 2.47841213380755\n",
      "+ ######################## +\n",
      "nargp r2 0.9995643044326001\n",
      "+ ######################## + \n"
     ]
    },
    {
     "name": "stderr",
     "output_type": "stream",
     "text": [
      " /Users/marpulli/miniconda3/lib/python3.6/site-packages/tensorflow/python/ops/gradients_impl.py:108: UserWarning:Converting sparse IndexedSlices to a dense Tensor of unknown shape. This may consume a large amount of memory.\n"
     ]
    },
    {
     "name": "stdout",
     "output_type": "stream",
     "text": [
      "+ ######################## +\n",
      "mf_dgp_fix_lf_mean r2 0.9986658368962823\n",
      "+ ######################## + \n",
      "After 2 runs of borehole\n",
      "+--------------------+--------------------+---------------------+----------------------+\n",
      "|       model        |         r2         |         mnll        |         rmse         |\n",
      "+--------------------+--------------------+---------------------+----------------------+\n",
      "|       hf_gp        | 0.8071332592664457 |  160.3940242445727  | 0.19708450539643602  |\n",
      "|        ar1         | 0.9998908211603295 | -3.6043566191251193 | 0.004720923879911397 |\n",
      "|       nargp        | 0.9990716391650198 | -2.9429921739227374 | 0.013234313348665924 |\n",
      "| mf_dgp_fix_lf_mean | 0.9986854038858408 | -1.9802407338682442 | 0.01638793355339148  |\n",
      "+--------------------+--------------------+---------------------+----------------------+\n",
      "(5, 8)\n",
      "Optimization restart 1/10, f = 1.8779979043393498\n",
      "Optimization restart 2/10, f = 6.399411289184439\n",
      "Optimization restart 3/10, f = 6.399411289183076\n",
      "Optimization restart 4/10, f = 6.399411289183035\n",
      "Optimization restart 5/10, f = 6.39941013106259\n",
      "Optimization restart 6/10, f = 6.399411286262382\n",
      "Optimization restart 7/10, f = 6.399411261576359\n",
      "Optimization restart 8/10, f = 6.399411289114404\n",
      "Optimization restart 9/10, f = 6.399411289184419\n",
      "Optimization restart 10/10, f = 6.399407864088797\n",
      "+ ######################## +\n",
      "hf_gp r2 -1.0449939360597384\n",
      "+ ######################## + \n"
     ]
    },
    {
     "name": "stderr",
     "output_type": "stream",
     "text": [
      " /Users/marpulli/miniconda3/lib/python3.6/site-packages/GPy/kern/src/stationary.py:144: RuntimeWarning:overflow encountered in square\n",
      " /Users/marpulli/miniconda3/lib/python3.6/site-packages/GPy/kern/src/stationary.py:145: RuntimeWarning:overflow encountered in square\n",
      " /Users/marpulli/miniconda3/lib/python3.6/site-packages/GPy/kern/src/stationary.py:146: RuntimeWarning:invalid value encountered in add\n",
      " /Users/marpulli/miniconda3/lib/python3.6/site-packages/GPy/kern/src/stationary.py:165: RuntimeWarning:overflow encountered in true_divide\n",
      " /Users/marpulli/miniconda3/lib/python3.6/site-packages/GPy/kern/src/stationary.py:166: RuntimeWarning:overflow encountered in true_divide\n"
     ]
    },
    {
     "name": "stdout",
     "output_type": "stream",
     "text": [
      "Optimization restart 1/10, f = -168.50921710500506\n"
     ]
    },
    {
     "name": "stderr",
     "output_type": "stream",
     "text": [
      " /Users/marpulli/miniconda3/lib/python3.6/site-packages/GPy/kern/src/stationary.py:244: RuntimeWarning:invalid value encountered in true_divide\n"
     ]
    },
    {
     "name": "stdout",
     "output_type": "stream",
     "text": [
      "Optimization restart 2/10, f = -161.62602033740683\n",
      "Optimization restart 3/10, f = -168.75166115236362\n",
      "Optimization restart 4/10, f = -169.01421767386614\n",
      "Optimization restart 5/10, f = -187.61243482187768\n",
      "Optimization restart 6/10, f = -176.795221077795\n",
      "Optimization restart 7/10, f = -175.71193696883745\n",
      "Optimization restart 8/10, f = 26.180066864086797\n",
      "Optimization restart 9/10, f = -182.1766033778814\n",
      "Optimization restart 10/10, f = -168.87254062558475\n"
     ]
    },
    {
     "name": "stderr",
     "output_type": "stream",
     "text": [
      " /Users/marpulli/miniconda3/lib/python3.6/site-packages/paramz/transformations.py:111: RuntimeWarning:overflow encountered in expm1\n"
     ]
    },
    {
     "name": "stdout",
     "output_type": "stream",
     "text": [
      "Optimization restart 1/10, f = -189.16556929055702\n",
      "Optimization restart 2/10, f = -166.75937587932424\n",
      "Optimization restart 3/10, f = -176.2901213945462\n",
      "Optimization restart 4/10, f = -174.91520529093754\n",
      "Optimization restart 5/10, f = -147.00795492820075\n",
      "Optimization restart 6/10, f = -184.356586721933\n",
      "Optimization restart 7/10, f = -176.88761909732565\n",
      "Optimization restart 8/10, f = -186.1073368257119\n",
      "Optimization restart 9/10, f = -187.07412628413127\n",
      "Optimization restart 10/10, f = -132.06991924414854\n",
      "+ ######################## +\n",
      "ar1 r2 0.9998895199793003\n",
      "+ ######################## + \n",
      "Optimization restart 1/10, f = -137.3542531386492\n",
      "Optimization restart 2/10, f = -137.35425221332142\n",
      "Optimization restart 3/10, f = -137.3542551400852\n",
      "Optimization restart 4/10, f = -137.35425127731895\n",
      "Optimization restart 5/10, f = -137.35425358580272\n",
      "Optimization restart 6/10, f = -137.35425074586522\n",
      "Optimization restart 7/10, f = -137.3542530367982\n",
      "Optimization restart 8/10, f = -137.35425178905263\n",
      "Optimization restart 9/10, f = -137.35425463999096\n",
      "Optimization restart 10/10, f = -137.35425613814476\n",
      "Optimization restart 1/10, f = -7.502851717252344\n",
      "Optimization restart 2/10, f = -7.00846589942962\n",
      "Optimization restart 3/10, f = 1.272825245284324\n",
      "Optimization restart 4/10, f = 6.399411289181681\n",
      "Optimization restart 5/10, f = 6.399411254758363\n",
      "Optimization restart 6/10, f = 6.399411278013759\n"
     ]
    },
    {
     "name": "stderr",
     "output_type": "stream",
     "text": [
      " /Users/marpulli/miniconda3/lib/python3.6/site-packages/GPy/kern/src/stationary.py:244: RuntimeWarning:invalid value encountered in true_divide\n"
     ]
    },
    {
     "name": "stdout",
     "output_type": "stream",
     "text": [
      "Optimization restart 7/10, f = -8.271854167697615\n",
      "Optimization restart 8/10, f = 6.3994112869529465\n",
      "Optimization restart 9/10, f = 6.3994112646066394\n"
     ]
    },
    {
     "name": "stderr",
     "output_type": "stream",
     "text": [
      " /Users/marpulli/miniconda3/lib/python3.6/site-packages/GPy/kern/src/stationary.py:166: RuntimeWarning:overflow encountered in true_divide\n",
      " /Users/marpulli/miniconda3/lib/python3.6/site-packages/GPy/kern/src/stationary.py:137: RuntimeWarning:overflow encountered in square\n",
      " /Users/marpulli/miniconda3/lib/python3.6/site-packages/GPy/kern/src/stationary.py:138: RuntimeWarning:invalid value encountered in add\n",
      " /Users/marpulli/miniconda3/lib/python3.6/site-packages/GPy/kern/src/rbf.py:51: RuntimeWarning:overflow encountered in square\n"
     ]
    },
    {
     "name": "stdout",
     "output_type": "stream",
     "text": [
      "Optimization restart 10/10, f = -7.398659437770409\n",
      "+ ######################## +\n",
      "nargp r2 0.9990111982546624\n",
      "+ ######################## + \n"
     ]
    },
    {
     "name": "stderr",
     "output_type": "stream",
     "text": [
      " /Users/marpulli/miniconda3/lib/python3.6/site-packages/tensorflow/python/ops/gradients_impl.py:108: UserWarning:Converting sparse IndexedSlices to a dense Tensor of unknown shape. This may consume a large amount of memory.\n"
     ]
    },
    {
     "name": "stdout",
     "output_type": "stream",
     "text": [
      "+ ######################## +\n",
      "mf_dgp_fix_lf_mean r2 0.9989347077881694\n",
      "+ ######################## + \n",
      "After 3 runs of borehole\n",
      "+--------------------+---------------------+---------------------+----------------------+\n",
      "|       model        |          r2         |         mnll        |         rmse         |\n",
      "+--------------------+---------------------+---------------------+----------------------+\n",
      "|       hf_gp        | 0.18975752749105101 |  291.4859828798956  |  0.3432502967362628  |\n",
      "|        ar1         |  0.9998903874333198 | -3.7475329752624433 | 0.004704488747757613 |\n",
      "|       nargp        |  0.9990514921949006 | -2.9134123986447107 | 0.013481512355637095 |\n",
      "| mf_dgp_fix_lf_mean |  0.9987685051866171 |  -1.973888364544819 | 0.015760758174585637 |\n",
      "+--------------------+---------------------+---------------------+----------------------+\n",
      "(5, 8)\n",
      "Optimization restart 1/10, f = -0.23815772080697117\n",
      "Optimization restart 2/10, f = 6.722265352396027\n",
      "Optimization restart 3/10, f = 6.7222653523893525\n",
      "Optimization restart 4/10, f = 6.722265332062253\n",
      "Optimization restart 5/10, f = 6.722265351017118\n",
      "Optimization restart 6/10, f = 6.722265352503228\n",
      "Optimization restart 7/10, f = 6.722265352394983\n",
      "Optimization restart 8/10, f = 6.722265348756739\n",
      "Optimization restart 9/10, f = 6.722265348961233\n",
      "Optimization restart 10/10, f = 6.722265352389432\n",
      "+ ######################## +\n",
      "hf_gp r2 0.3592719700444962\n",
      "+ ######################## + \n"
     ]
    },
    {
     "name": "stderr",
     "output_type": "stream",
     "text": [
      " /Users/marpulli/miniconda3/lib/python3.6/site-packages/GPy/kern/src/stationary.py:165: RuntimeWarning:overflow encountered in true_divide\n",
      " /Users/marpulli/miniconda3/lib/python3.6/site-packages/GPy/kern/src/stationary.py:166: RuntimeWarning:overflow encountered in true_divide\n",
      " /Users/marpulli/miniconda3/lib/python3.6/site-packages/GPy/kern/src/stationary.py:144: RuntimeWarning:overflow encountered in square\n",
      " /Users/marpulli/miniconda3/lib/python3.6/site-packages/GPy/kern/src/stationary.py:145: RuntimeWarning:overflow encountered in square\n",
      " /Users/marpulli/miniconda3/lib/python3.6/site-packages/GPy/kern/src/stationary.py:146: RuntimeWarning:invalid value encountered in add\n"
     ]
    },
    {
     "name": "stdout",
     "output_type": "stream",
     "text": [
      "Optimization restart 1/10, f = -177.50715700135964\n",
      "Optimization restart 2/10, f = -182.35137908524368\n",
      "Optimization restart 3/10, f = -171.81106134555398\n",
      "Optimization restart 4/10, f = -174.44659814920016\n",
      "Optimization restart 5/10, f = -157.11188901523144\n",
      "Optimization restart 6/10, f = -175.5289781791669\n",
      "Optimization restart 7/10, f = -167.18342777251877\n",
      "Optimization restart 8/10, f = -176.49503972337988\n",
      "Optimization restart 9/10, f = -168.89886437947865\n",
      "Optimization restart 10/10, f = -169.4018849717763\n",
      "Optimization restart 1/10, f = -182.35137944948804\n"
     ]
    },
    {
     "name": "stderr",
     "output_type": "stream",
     "text": [
      " /Users/marpulli/miniconda3/lib/python3.6/site-packages/paramz/transformations.py:111: RuntimeWarning:overflow encountered in expm1\n"
     ]
    },
    {
     "name": "stdout",
     "output_type": "stream",
     "text": [
      "Optimization restart 2/10, f = -152.91855664270662\n",
      "Optimization restart 3/10, f = -164.92761180484882\n",
      "Optimization restart 4/10, f = -177.5966665426517\n",
      "Optimization restart 5/10, f = -166.72400186170802\n",
      "Optimization restart 6/10, f = -179.09841439538982\n",
      "Optimization restart 7/10, f = -168.8735610114593\n"
     ]
    },
    {
     "name": "stderr",
     "output_type": "stream",
     "text": [
      " /Users/marpulli/miniconda3/lib/python3.6/site-packages/GPy/kern/src/stationary.py:244: RuntimeWarning:invalid value encountered in true_divide\n"
     ]
    },
    {
     "name": "stdout",
     "output_type": "stream",
     "text": [
      "Optimization restart 8/10, f = -152.4452965078218\n",
      "Optimization restart 9/10, f = -163.93108712632892\n",
      "Optimization restart 10/10, f = -178.6932816478879\n",
      "+ ######################## +\n",
      "ar1 r2 0.9998995831570738\n",
      "+ ######################## + \n",
      "Optimization restart 1/10, f = -129.41513361638297\n"
     ]
    },
    {
     "name": "stderr",
     "output_type": "stream",
     "text": [
      " /Users/marpulli/miniconda3/lib/python3.6/site-packages/GPy/kern/src/stationary.py:244: RuntimeWarning:invalid value encountered in true_divide\n"
     ]
    },
    {
     "name": "stdout",
     "output_type": "stream",
     "text": [
      "Optimization restart 2/10, f = -136.08333505094856\n",
      "Optimization restart 3/10, f = -130.6522278066674\n",
      "Optimization restart 4/10, f = -136.08334209462464\n"
     ]
    },
    {
     "name": "stderr",
     "output_type": "stream",
     "text": [
      " /Users/marpulli/miniconda3/lib/python3.6/site-packages/GPy/kern/src/stationary.py:166: RuntimeWarning:overflow encountered in true_divide\n",
      " /Users/marpulli/miniconda3/lib/python3.6/site-packages/GPy/kern/src/stationary.py:137: RuntimeWarning:overflow encountered in square\n",
      " /Users/marpulli/miniconda3/lib/python3.6/site-packages/GPy/kern/src/stationary.py:138: RuntimeWarning:invalid value encountered in add\n"
     ]
    },
    {
     "name": "stdout",
     "output_type": "stream",
     "text": [
      "Optimization restart 5/10, f = -135.81131203970205\n",
      "Optimization restart 6/10, f = -136.0833480173486\n",
      "Optimization restart 7/10, f = -136.08333939381376\n",
      "Optimization restart 8/10, f = -136.0833458248548\n",
      "Optimization restart 9/10, f = -136.08334704902\n",
      "Optimization restart 10/10, f = -136.0833460676893\n"
     ]
    },
    {
     "name": "stderr",
     "output_type": "stream",
     "text": [
      " /Users/marpulli/miniconda3/lib/python3.6/site-packages/GPy/kern/src/rbf.py:51: RuntimeWarning:overflow encountered in square\n"
     ]
    },
    {
     "name": "stdout",
     "output_type": "stream",
     "text": [
      "Optimization restart 1/10, f = -6.992756964026395\n",
      "Optimization restart 2/10, f = 1.3627646820082702\n",
      "Optimization restart 3/10, f = 6.7222653512107735\n",
      "Optimization restart 4/10, f = 6.722265252631112\n",
      "Optimization restart 5/10, f = -0.3415159407557442\n",
      "Optimization restart 6/10, f = 6.722265294805144\n",
      "Optimization restart 7/10, f = 6.72226534710218\n",
      "Optimization restart 8/10, f = 6.722265347988294\n",
      "Optimization restart 9/10, f = 1.362767090557449\n",
      "Optimization restart 10/10, f = 6.7222653404306945\n",
      "+ ######################## +\n",
      "nargp r2 0.9985701574364635\n",
      "+ ######################## + \n"
     ]
    },
    {
     "name": "stderr",
     "output_type": "stream",
     "text": [
      " /Users/marpulli/miniconda3/lib/python3.6/site-packages/tensorflow/python/ops/gradients_impl.py:108: UserWarning:Converting sparse IndexedSlices to a dense Tensor of unknown shape. This may consume a large amount of memory.\n"
     ]
    },
    {
     "name": "stdout",
     "output_type": "stream",
     "text": [
      "+ ######################## +\n",
      "mf_dgp_fix_lf_mean r2 0.9991096860342353\n",
      "+ ######################## + \n",
      "After 4 runs of borehole\n",
      "+--------------------+--------------------+---------------------+----------------------+\n",
      "|       model        |         r2         |         mnll        |         rmse         |\n",
      "+--------------------+--------------------+---------------------+----------------------+\n",
      "|       hf_gp        | 0.2321361381294123 |  220.03007452734528 |  0.3484158039203253  |\n",
      "|        ar1         | 0.9998926863642583 | -3.8390772703338856 | 0.004667312717971484 |\n",
      "|       nargp        | 0.9989311585052914 | -2.8651052224341105 | 0.014408912703090446 |\n",
      "| mf_dgp_fix_lf_mean | 0.9988538003985217 | -1.9679598894890824 | 0.01521190997933396  |\n",
      "+--------------------+--------------------+---------------------+----------------------+\n",
      "(5, 8)\n",
      "Optimization restart 1/10, f = 0.9907906809758065\n",
      "Optimization restart 2/10, f = 0.9724527878094236\n",
      "Optimization restart 3/10, f = 6.259344442108942\n",
      "Optimization restart 4/10, f = 6.259344442214564\n",
      "Optimization restart 5/10, f = 1.735477460434291\n"
     ]
    },
    {
     "name": "stderr",
     "output_type": "stream",
     "text": [
      " /Users/marpulli/miniconda3/lib/python3.6/site-packages/GPy/kern/src/stationary.py:166: RuntimeWarning:overflow encountered in true_divide\n",
      " /Users/marpulli/miniconda3/lib/python3.6/site-packages/GPy/kern/src/stationary.py:137: RuntimeWarning:overflow encountered in square\n",
      " /Users/marpulli/miniconda3/lib/python3.6/site-packages/GPy/kern/src/stationary.py:138: RuntimeWarning:invalid value encountered in add\n"
     ]
    },
    {
     "name": "stdout",
     "output_type": "stream",
     "text": [
      "Optimization restart 6/10, f = 0.7803455588388024\n",
      "Optimization restart 7/10, f = 6.259344430279247\n",
      "Optimization restart 8/10, f = 1.6758547791956753\n",
      "Optimization restart 9/10, f = 6.259344442214996\n",
      "Optimization restart 10/10, f = 6.259344442215002\n",
      "+ ######################## +\n",
      "hf_gp r2 0.8481594974914033\n",
      "+ ######################## + \n"
     ]
    },
    {
     "name": "stderr",
     "output_type": "stream",
     "text": [
      " /Users/marpulli/miniconda3/lib/python3.6/site-packages/GPy/kern/src/stationary.py:165: RuntimeWarning:overflow encountered in true_divide\n",
      " /Users/marpulli/miniconda3/lib/python3.6/site-packages/GPy/kern/src/stationary.py:166: RuntimeWarning:overflow encountered in true_divide\n",
      " /Users/marpulli/miniconda3/lib/python3.6/site-packages/GPy/kern/src/stationary.py:144: RuntimeWarning:overflow encountered in square\n",
      " /Users/marpulli/miniconda3/lib/python3.6/site-packages/GPy/kern/src/stationary.py:145: RuntimeWarning:overflow encountered in square\n",
      " /Users/marpulli/miniconda3/lib/python3.6/site-packages/GPy/kern/src/stationary.py:146: RuntimeWarning:invalid value encountered in add\n"
     ]
    },
    {
     "name": "stdout",
     "output_type": "stream",
     "text": [
      "Optimization restart 1/10, f = -181.31134943751303\n",
      "Optimization restart 2/10, f = -189.4348946936675\n",
      "Optimization restart 3/10, f = -188.09083252468946\n"
     ]
    },
    {
     "name": "stderr",
     "output_type": "stream",
     "text": [
      " /Users/marpulli/miniconda3/lib/python3.6/site-packages/GPy/kern/src/stationary.py:244: RuntimeWarning:invalid value encountered in true_divide\n"
     ]
    },
    {
     "name": "stdout",
     "output_type": "stream",
     "text": [
      "Optimization restart 4/10, f = -188.61780048223127\n",
      "Optimization restart 5/10, f = -150.27283685249677\n",
      "Optimization restart 6/10, f = -188.24072325890927\n",
      "Optimization restart 7/10, f = -180.75341908927533\n",
      "Optimization restart 8/10, f = -184.0017011293242\n",
      "Optimization restart 9/10, f = -187.53274566935198\n",
      "Optimization restart 10/10, f = -186.31852219986737\n"
     ]
    },
    {
     "name": "stderr",
     "output_type": "stream",
     "text": [
      " /Users/marpulli/miniconda3/lib/python3.6/site-packages/paramz/transformations.py:111: RuntimeWarning:overflow encountered in expm1\n"
     ]
    },
    {
     "name": "stdout",
     "output_type": "stream",
     "text": [
      "Optimization restart 1/10, f = -191.13771457815267\n",
      "Optimization restart 2/10, f = -145.64378159530622\n",
      "Optimization restart 3/10, f = -129.13467425198428\n",
      "Optimization restart 4/10, f = -185.7379559753191\n",
      "Optimization restart 5/10, f = -167.21016944745378\n",
      "Optimization restart 6/10, f = -182.9160787575003\n",
      "Optimization restart 7/10, f = -186.7798129508015\n",
      "Optimization restart 8/10, f = -184.86279072240546\n",
      "Optimization restart 9/10, f = -107.9576409924531\n",
      "Optimization restart 10/10, f = -163.6479869895175\n",
      "+ ######################## +\n",
      "ar1 r2 0.9999315069185383\n",
      "+ ######################## + \n",
      "Optimization restart 1/10, f = -136.62855225569234\n",
      "Optimization restart 2/10, f = -136.6285539897515\n",
      "Optimization restart 3/10, f = -136.6285520436615\n",
      "Optimization restart 4/10, f = -136.62854176665266\n",
      "Optimization restart 5/10, f = -136.6285532370645\n",
      "Optimization restart 6/10, f = -136.62854672011755\n",
      "Optimization restart 7/10, f = -136.62855250724243\n",
      "Optimization restart 8/10, f = -136.62855333575612\n",
      "Optimization restart 9/10, f = -136.62855097681143\n",
      "Optimization restart 10/10, f = -136.62855260158574\n",
      "Optimization restart 1/10, f = -8.170876824511511\n",
      "Optimization restart 2/10, f = 6.259344442214996\n",
      "Optimization restart 3/10, f = 6.259344442216607\n"
     ]
    },
    {
     "name": "stderr",
     "output_type": "stream",
     "text": [
      " /Users/marpulli/miniconda3/lib/python3.6/site-packages/GPy/kern/src/stationary.py:166: RuntimeWarning:overflow encountered in true_divide\n",
      " /Users/marpulli/miniconda3/lib/python3.6/site-packages/GPy/kern/src/stationary.py:138: RuntimeWarning:invalid value encountered in add\n"
     ]
    },
    {
     "name": "stdout",
     "output_type": "stream",
     "text": [
      "Optimization restart 4/10, f = -8.38410054022058\n",
      "Optimization restart 5/10, f = 6.259340118373446\n",
      "Optimization restart 6/10, f = 6.259344442227789\n",
      "Optimization restart 7/10, f = 6.259344433821681\n",
      "Optimization restart 8/10, f = 6.259341465731598\n",
      "Optimization restart 9/10, f = 6.259341904715415\n",
      "Optimization restart 10/10, f = 0.7803571265329232\n",
      "+ ######################## +\n",
      "nargp r2 0.9987292088929406\n",
      "+ ######################## + \n"
     ]
    },
    {
     "name": "stderr",
     "output_type": "stream",
     "text": [
      " /Users/marpulli/miniconda3/lib/python3.6/site-packages/tensorflow/python/ops/gradients_impl.py:108: UserWarning:Converting sparse IndexedSlices to a dense Tensor of unknown shape. This may consume a large amount of memory.\n"
     ]
    },
    {
     "name": "stdout",
     "output_type": "stream",
     "text": [
      "+ ######################## +\n",
      "mf_dgp_fix_lf_mean r2 0.9980699864341062\n",
      "+ ######################## + \n",
      "After 5 runs of borehole\n",
      "+--------------------+--------------------+---------------------+----------------------+\n",
      "|       model        |         r2         |         mnll        |         rmse         |\n",
      "+--------------------+--------------------+---------------------+----------------------+\n",
      "|       hf_gp        | 0.3553408100018105 |  322.9443044652573  |  0.3135555055193182  |\n",
      "|        ar1         | 0.9999004504751143 | -3.9483659816140753 | 0.004473445236622577 |\n",
      "|       nargp        | 0.9988907685828211 | -2.8525534323669226 | 0.01471285112951268  |\n",
      "| mf_dgp_fix_lf_mean | 0.9986970376056385 | -1.9576738453062468 | 0.016095532828221362 |\n",
      "+--------------------+--------------------+---------------------+----------------------+\n"
     ]
    }
   ],
   "source": [
    "metrics = []\n",
    "metrics.append(do_benchmark(borehole))"
   ]
  },
  {
   "cell_type": "code",
   "execution_count": 10,
   "metadata": {
    "scrolled": false
   },
   "outputs": [
    {
     "ename": "NameError",
     "evalue": "name 'fcn_name' is not defined",
     "traceback": [
      "\u001b[0;31m---------------------------------------------------------------------------\u001b[0m",
      "\u001b[0;31mNameError\u001b[0m                                 Traceback (most recent call last)",
      "\u001b[0;32m<ipython-input-10-773b88f317d3>\u001b[0m in \u001b[0;36m<module>\u001b[0;34m\u001b[0m\n\u001b[1;32m      1\u001b[0m \u001b[0;32mfor\u001b[0m \u001b[0;34m(\u001b[0m\u001b[0mmetric\u001b[0m\u001b[0;34m)\u001b[0m \u001b[0;32min\u001b[0m \u001b[0mzip\u001b[0m\u001b[0;34m(\u001b[0m\u001b[0mmetrics\u001b[0m\u001b[0;34m)\u001b[0m\u001b[0;34m:\u001b[0m\u001b[0;34m\u001b[0m\u001b[0;34m\u001b[0m\u001b[0m\n\u001b[0;32m----> 2\u001b[0;31m     \u001b[0mprint\u001b[0m\u001b[0;34m(\u001b[0m\u001b[0mfcn_name\u001b[0m\u001b[0;34m)\u001b[0m\u001b[0;34m\u001b[0m\u001b[0;34m\u001b[0m\u001b[0m\n\u001b[0m\u001b[1;32m      3\u001b[0m     \u001b[0mprint_metrics\u001b[0m\u001b[0;34m(\u001b[0m\u001b[0mmetric\u001b[0m\u001b[0;34m[\u001b[0m\u001b[0;36m0\u001b[0m\u001b[0;34m]\u001b[0m\u001b[0;34m)\u001b[0m\u001b[0;34m\u001b[0m\u001b[0;34m\u001b[0m\u001b[0m\n",
      "\u001b[0;31mNameError\u001b[0m: name 'fcn_name' is not defined"
     ],
     "output_type": "error"
    }
   ],
   "source": [
    "for (metric) in zip(metrics):\n",
    "    print(fcn_name)\n",
    "    print_metrics(metric[0])"
   ]
  },
  {
   "cell_type": "markdown",
   "metadata": {},
   "source": []
  }
 ],
 "metadata": {
  "kernelspec": {
   "display_name": "Python 3",
   "language": "python",
   "name": "python3"
  },
  "language_info": {
   "codemirror_mode": {
    "name": "ipython",
    "version": 3
   },
   "file_extension": ".py",
   "mimetype": "text/x-python",
   "name": "python",
   "nbconvert_exporter": "python",
   "pygments_lexer": "ipython3",
   "version": "3.6.7"
  }
 },
 "nbformat": 4,
 "nbformat_minor": 2
}
