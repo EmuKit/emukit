{
 "cells": [
  {
   "cell_type": "markdown",
   "metadata": {},
   "source": [
    "# MFDGP model for malaria data\n",
    "\n",
    "This notebook fits the MF-DGP model to malaria data. We assume the low fidelity is data from the year 2005 and high fidelity is data from 2015. \n",
    "\n",
    "The inputs to the model are the latitude/longitude points and the is the infection rate of malaria among children which varies between 0 and 1. \n",
    "\n",
    "Where the data is < 0, that means we have no data so these points are discarded. \n",
    "\n",
    "We use all the data from the low fidelity, and take a small subsample from the high fidelity then test against the remaining high fidelity data."
   ]
  },
  {
   "cell_type": "code",
   "execution_count": 1,
   "metadata": {},
   "outputs": [],
   "source": [
    "import numpy as np\n",
    "import matplotlib.pyplot as plt\n",
    "\n",
    "from emukit.multi_fidelity.models.multi_fidelity_deep_gp import DGP_Base, MultiFidelityDeepGP\n",
    "from gpflow.kernels import RBF, White, Linear\n",
    "from gpflow.likelihoods import Gaussian\n",
    "from gpflow.actions import Loop, Action\n",
    "from gpflow.mean_functions import Zero\n",
    "from gpflow.training import AdamOptimizer\n",
    "import gpflow.training.monitor as mon"
   ]
  },
  {
   "cell_type": "code",
   "execution_count": 2,
   "metadata": {},
   "outputs": [],
   "source": [
    "def make_dgpMF_model(X, Y, Z):\n",
    "    return MultiFidelityDeepGP(X, Y, Z, Gaussian(), minibatch_size=1000)"
   ]
  },
  {
   "cell_type": "markdown",
   "metadata": {},
   "source": [
    "# Load data\n",
    "\n",
    "To download data go to [https://map.ox.ac.uk/explorer/#/](https://map.ox.ac.uk/explorer/#/) and select the layer `Plasmodium falciparum parasite rate in 2-10 year olds in Africa` and click download. Select the zip file option. You should then have a zip file called `2015_Nature_Africa_PR.2000.zip`.\n",
    "\n",
    "Unzip the folder and enter the folder locaiton below."
   ]
  },
  {
   "cell_type": "code",
   "execution_count": null,
   "metadata": {},
   "outputs": [],
   "source": [
    "import os\n",
    "import georaster\n",
    "import pandas as pd\n",
    "\n",
    "data_folder_location = '~/Downloads/2015_Nature_Africa_PR.2000/'\n",
    "\n",
    "name_lf = '2015_Nature_Africa_PR.2005.tif'\n",
    "name_hf = '2015_Nature_Africa_PR.2015.tif'\n",
    "lf_data = get_map_as_df(os.path.join(data_folder_location, name_lf))\n",
    "hf_data = get_map_as_df(os.path.join(data_folder_location, name_hf))\n",
    "    \n",
    "def get_map_as_df(path):\n",
    "    my_image = georaster.SingleBandRaster(fpath, load_data=False)\n",
    "    return pd.DataFrame(data=np.stack([image.coordinates()[1].flatten(), image.coordinates()[0].flatten(),\n",
    "                  image.read_single_band(1).flatten()], axis=1), columns=['latitude', 'longitude', 'value'])"
   ]
  },
  {
   "cell_type": "markdown",
   "metadata": {},
   "source": [
    "**Change paths to where your data is stored**"
   ]
  },
  {
   "cell_type": "code",
   "execution_count": 4,
   "metadata": {},
   "outputs": [],
   "source": [
    "import scipy.special\n",
    "\n",
    "# Discard points where we have no data\n",
    "lf_valid = lf_data.value > 0\n",
    "hf_valid = hf_data.value > 0\n",
    "\n",
    "y_lf = lf_data.value.values[lf_valid, None]\n",
    "y_hf = hf_data.value.values[hf_valid, None]\n",
    "\n",
    "# Transform data so it lies on real line\n",
    "y_lf_transformed = scipy.special.logit(y_lf)\n",
    "y_hf_transformed = scipy.special.logit(y_hf)\n",
    "\n",
    "# Construct features\n",
    "x_lf = np.stack([lf_data.latitude.values[lf_valid], lf_data.longitude.values[lf_valid]], axis=1)\n",
    "x_hf = np.stack([hf_data.latitude.values[hf_valid], hf_data.longitude.values[hf_valid]], axis=1)\n",
    "\n",
    "# Choose a random subset of high fidelity points for training\n",
    "i_train = np.random.choice(x_hf.shape[0], 1000, replace=False)\n",
    "\n",
    "x_hf_train = x_hf[i_train, :]\n",
    "y_hf_train = y_hf_transformed[i_train, :]"
   ]
  },
  {
   "cell_type": "markdown",
   "metadata": {},
   "source": [
    "### Initialze inducing points to a subset of the data"
   ]
  },
  {
   "cell_type": "code",
   "execution_count": 5,
   "metadata": {},
   "outputs": [],
   "source": [
    "i_z = np.random.choice(x_lf.shape[0], 750, replace=False)\n",
    "z_low = x_lf[i_z, :]\n",
    "\n",
    "i_z_low = np.random.choice(x_lf.shape[0], 100, replace=False)\n",
    "z_high = np.concatenate([x_lf[i_z_low, :], y_lf_transformed[i_z_low, :]], axis=1)"
   ]
  },
  {
   "cell_type": "code",
   "execution_count": 6,
   "metadata": {},
   "outputs": [
    {
     "name": "stdout",
     "output_type": "stream",
     "text": [
      "\n",
      "Data at Fidelity  1\n",
      "X -  (890223, 2)\n",
      "Y -  (890223, 1)\n",
      "Z -  (750, 2)\n",
      "\n",
      "Data at Fidelity  2\n",
      "X -  (1000, 2)\n",
      "Y -  (1000, 1)\n",
      "Z -  (100, 3)\n"
     ]
    }
   ],
   "source": [
    "dgp = make_dgpMF_model([x_lf, x_hf_train], [y_lf_transformed, y_hf_train], [z_low, z_high])"
   ]
  },
  {
   "cell_type": "markdown",
   "metadata": {},
   "source": [
    "### Trainining loop + some printing"
   ]
  },
  {
   "cell_type": "code",
   "execution_count": 8,
   "metadata": {},
   "outputs": [],
   "source": [
    "class PrintAction(Action):\n",
    "    def __init__(self, model, text):\n",
    "        self.model = model\n",
    "        self.text = text\n",
    "        \n",
    "    def run(self, ctx):\n",
    "        if ctx.iteration % 500 == 0:\n",
    "            likelihood = ctx.session.run(self.model.likelihood_tensor)\n",
    "            objective = ctx.session.run(self.model.objective)\n",
    "\n",
    "            print('ELBO {:.4f};  KL {:,.4f}'.format(ctx.session.run(self.model.L), ctx.session.run(self.model.KL)))\n",
    "            print('{}: iteration {} objective {:,.4f}'.format(self.text, ctx.iteration, objective))\n",
    "\n",
    "\n",
    "def run_adam(model, lr, iterations, callback=None):\n",
    "    adam = AdamOptimizer(lr).make_optimize_action(model)\n",
    "    actions = [adam] if callback is None else [adam, callback]\n",
    "    loop = Loop(actions, stop=iterations)()\n",
    "    model.anchor(model.enquire_session())"
   ]
  },
  {
   "cell_type": "code",
   "execution_count": null,
   "metadata": {
    "scrolled": false
   },
   "outputs": [],
   "source": [
    "# we then optimize the model jointly, keeping the likelihood variance fixed\n",
    "\n",
    "dgp.model.likelihood.likelihood.variance = y_hf_train.var()*.01\n",
    "dgp.model.likelihood.likelihood.variance.trainable = True\n",
    "\n",
    "run_adam(dgp.model, 3e-3, 20000, callback=PrintAction(dgp.model, 'MF-DGP with Adam')) #3e-3 learning rate is also decent"
   ]
  },
  {
   "cell_type": "code",
   "execution_count": null,
   "metadata": {},
   "outputs": [],
   "source": [
    "import scipy\n",
    "# batch predict\n",
    "batch_size = 1000\n",
    "n_points = x_hf.shape[0]\n",
    "n_batches = int(np.ceil(n_points/batch_size))\n",
    "y_result = np.zeros(n_points)\n",
    "for i in range(n_batches):\n",
    "    i_start = i*batch_size\n",
    "    i_end = np.min([(i+1) * batch_size, n_points])\n",
    "    transformed_predictions = dgp.predict_f(x_hf[i_start:i_end, :], 200)[0].mean(axis=0)\n",
    "    y_result[i_start:i_end] = scipy.special.expit(transformed_predictions)[:, 0]"
   ]
  },
  {
   "cell_type": "code",
   "execution_count": null,
   "metadata": {},
   "outputs": [],
   "source": [
    "plt.figure(figsize=(12, 12))\n",
    "plt.scatter(y_hf, y_result, alpha=0.1)\n",
    "min_max = [y_hf.min(), y_hf.max()]\n",
    "plt.plot(min_max, min_max, color='r')\n",
    "plt.xlabel('Truth')\n",
    "plt.ylabel('Prediction');"
   ]
  },
  {
   "cell_type": "code",
   "execution_count": null,
   "metadata": {},
   "outputs": [],
   "source": [
    "from sklearn.metrics import r2_score\n",
    "r2_score(y_hf, y_result)"
   ]
  }
 ],
 "metadata": {
  "kernelspec": {
   "display_name": "Python 3",
   "language": "python",
   "name": "python3"
  },
  "language_info": {
   "codemirror_mode": {
    "name": "ipython",
    "version": 3
   },
   "file_extension": ".py",
   "mimetype": "text/x-python",
   "name": "python",
   "nbconvert_exporter": "python",
   "pygments_lexer": "ipython3",
   "version": "3.6.6"
  }
 },
 "nbformat": 4,
 "nbformat_minor": 2
}
