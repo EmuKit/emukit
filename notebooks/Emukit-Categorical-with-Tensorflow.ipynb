{
 "cells": [
  {
   "cell_type": "markdown",
   "metadata": {},
   "source": [
    "# Categorical variables: optimizing neural network with TensorFlow and Emukit"
   ]
  },
  {
   "cell_type": "markdown",
   "metadata": {},
   "source": [
    "This notebook is going to illustrate how to use categorical variables with Emukit."
   ]
  },
  {
   "cell_type": "code",
   "execution_count": 1,
   "metadata": {},
   "outputs": [],
   "source": [
    "### General imports\n",
    "%matplotlib inline\n",
    "import numpy as np\n",
    "import matplotlib.pyplot as plt"
   ]
  },
  {
   "cell_type": "code",
   "execution_count": 2,
   "metadata": {},
   "outputs": [],
   "source": [
    "### Necessary imports\n",
    "import tensorflow as tf\n",
    "import GPy\n",
    "\n",
    "from emukit.core import ContinuousParameter, DiscreteParameter, ParameterSpace\n",
    "from emukit.model_wrappers import GPyModelWrapper\n",
    "from emukit.bayesian_optimization.loops import BayesianOptimizationLoop"
   ]
  },
  {
   "cell_type": "markdown",
   "metadata": {},
   "source": [
    "For this example we are going to optimize a very simple neural network built with TensorFlow. We will reuse the very first example of [how to use TensorFlow](https://colab.research.google.com/github/tensorflow/docs/blob/master/site/en/tutorials/_index.ipynb) with number of epochs reduced to 1 in the interest of saving time. We are going to consider two hyper parameters that are going to be subjects of optimization:\n",
    "* Type of optimizer. We are going to choose from Adam, AdaGrad and SGD. This is clearly a categorical parameter.\n",
    "* Dropout rate, ranging between 0.05 and 0.95. This parameter is continuous.  "
   ]
  },
  {
   "cell_type": "markdown",
   "metadata": {},
   "source": [
    "Here is the definition of the function we are going to optimize:"
   ]
  },
  {
   "cell_type": "code",
   "execution_count": 3,
   "metadata": {},
   "outputs": [],
   "source": [
    "mnist = tf.keras.datasets.mnist\n",
    "\n",
    "(x_train, y_train),(x_test, y_test) = mnist.load_data()\n",
    "x_train, x_test = x_train / 255.0, x_test / 255.0 \n",
    "\n",
    "def eval_model(dropout_rate, optimizer):\n",
    "    model = tf.keras.models.Sequential([\n",
    "      tf.keras.layers.Flatten(),\n",
    "      tf.keras.layers.Dense(512, activation=tf.nn.relu),\n",
    "      tf.keras.layers.Dropout(dropout_rate),\n",
    "      tf.keras.layers.Dense(10, activation=tf.nn.softmax)\n",
    "    ])\n",
    "    model.compile(optimizer=optimizer,\n",
    "                  loss='sparse_categorical_crossentropy',\n",
    "                  metrics=['accuracy'])\n",
    "\n",
    "    model.fit(x_train, y_train, epochs=1)\n",
    "    loss, accuracy = model.evaluate(x_test, y_test)\n",
    "    \n",
    "    return accuracy"
   ]
  },
  {
   "cell_type": "markdown",
   "metadata": {},
   "source": [
    "Emukit takes both objective and model as inputs. So when users come to Emukit it is expected that they have already done necessary conversions to turn categorical parameters into numerical values. If that is the case, users should create a DiscreteParameter object with numerical values as the domain. If that is not the case yet, Emukit can generate [one-hot encoding](https://www.kaggle.com/dansbecker/using-categorical-data-with-one-hot-encoding).\n",
    "\n",
    "Emukit provides a convenience method for both cases, which takes optinal encodings if they are already created. In this example we will use Emukit to generate encodings for us."
   ]
  },
  {
   "cell_type": "code",
   "execution_count": 4,
   "metadata": {},
   "outputs": [],
   "source": [
    "from emukit.core.discrete_parameter import create_discrete_parameter_for_categories\n",
    "\n",
    "optimizers = ['adam', 'sgd', 'adagrad']\n",
    "optimizer_discrete_param, cat_to_encoding, encoding_to_cat = create_discrete_parameter_for_categories('optimizer', optimizers)"
   ]
  },
  {
   "cell_type": "markdown",
   "metadata": {},
   "source": [
    "Let's examine the returned data:"
   ]
  },
  {
   "cell_type": "code",
   "execution_count": 5,
   "metadata": {},
   "outputs": [
    {
     "name": "stdout",
     "output_type": "stream",
     "text": [
      "optimizer\n",
      "[1, 10, 100]\n",
      "{'adam': 1, 'sgd': 10, 'adagrad': 100}\n",
      "{1: 'adam', 10: 'sgd', 100: 'adagrad'}\n"
     ]
    }
   ],
   "source": [
    "print(optimizer_discrete_param.name)\n",
    "print(optimizer_discrete_param.domain)\n",
    "print(cat_to_encoding)\n",
    "print(encoding_to_cat)"
   ]
  },
  {
   "cell_type": "markdown",
   "metadata": {},
   "source": [
    "We can use random forest as our model, which comes in Emukit's examples package. Notice that you need Scikit-learn installed to be able to use it:"
   ]
  },
  {
   "cell_type": "code",
   "execution_count": 6,
   "metadata": {
    "scrolled": true
   },
   "outputs": [
    {
     "name": "stdout",
     "output_type": "stream",
     "text": [
      "Epoch 1/1\n",
      "60000/60000 [==============================] - 9s 158us/step - loss: 0.6104 - acc: 0.8496\n",
      "10000/10000 [==============================] - 1s 81us/step\n",
      "Epoch 1/1\n",
      "60000/60000 [==============================] - 11s 190us/step - loss: 0.2022 - acc: 0.9418\n",
      "10000/10000 [==============================] - 1s 78us/step\n",
      "Epoch 1/1\n",
      "60000/60000 [==============================] - 17s 276us/step - loss: 0.2004 - acc: 0.9409\n",
      "10000/10000 [==============================] - 1s 78us/step\n"
     ]
    }
   ],
   "source": [
    "from emukit.examples.models.random_forest import RandomForest\n",
    "\n",
    "X_init = np.array([[0.9, 10], [0.3, 100], [0.75, 1]])\n",
    "Y_init = np.array([[eval_model(x[0], encoding_to_cat[x[1]])] for x in X_init])\n",
    "\n",
    "rf_model = RandomForest(X_init, Y_init)"
   ]
  },
  {
   "cell_type": "markdown",
   "metadata": {},
   "source": [
    "Emukit requires objective function to accept 2d array as an input, and it also expects model and objective function to accept input of the same form. It is not the case with our objective yet: it declares input parameters explicitly, and expects optimizer name instead of encoding value. Let's fit it. This is where mappings we obtained before may come handy:"
   ]
  },
  {
   "cell_type": "code",
   "execution_count": 7,
   "metadata": {},
   "outputs": [],
   "source": [
    "def emukit_friendly_objective_function(input_rows):\n",
    "    output = []\n",
    "    for row in input_rows:\n",
    "        print(row)\n",
    "        eval_result = eval_model(row[0], encoding_to_cat[int(row[1])])\n",
    "        output.append([eval_result])\n",
    "    \n",
    "    return np.array(output)"
   ]
  },
  {
   "cell_type": "markdown",
   "metadata": {},
   "source": [
    "Notice conversion to `int` above. Emukit will return values as floats, so it is important to convert them back to integers to avoid any errors."
   ]
  },
  {
   "cell_type": "markdown",
   "metadata": {},
   "source": [
    "At this point everything is ready to run the optimization loop."
   ]
  },
  {
   "cell_type": "code",
   "execution_count": 8,
   "metadata": {},
   "outputs": [
    {
     "name": "stdout",
     "output_type": "stream",
     "text": [
      "[0.91027994 1.        ]\n",
      "Epoch 1/1\n",
      "60000/60000 [==============================] - 17s 289us/step - loss: 0.1979 - acc: 0.9414\n",
      "10000/10000 [==============================] - 1s 67us/step\n",
      "[ 0.83616399 10.        ]\n",
      "Epoch 1/1\n",
      "60000/60000 [==============================] - 9s 158us/step - loss: 0.5993 - acc: 0.8567\n",
      "10000/10000 [==============================] - 1s 88us/step\n",
      "[ 0.59484717 10.        ]\n",
      "Epoch 1/1\n",
      "60000/60000 [==============================] - 10s 174us/step - loss: 0.6081 - acc: 0.8486\n",
      "10000/10000 [==============================] - 1s 109us/step\n",
      "[ 0.92925499 10.        ]\n",
      "Epoch 1/1\n",
      "60000/60000 [==============================] - 10s 164us/step - loss: 0.5997 - acc: 0.8542\n",
      "10000/10000 [==============================] - 1s 67us/step\n",
      "[  0.66118252 100.        ]\n",
      "Epoch 1/1\n",
      "60000/60000 [==============================] - 12s 203us/step - loss: 0.2001 - acc: 0.9423\n",
      "10000/10000 [==============================] - 1s 94us/step\n",
      "[ 0.70974949 10.        ]\n",
      "Epoch 1/1\n",
      "60000/60000 [==============================] - 9s 157us/step - loss: 0.6165 - acc: 0.8481\n",
      "10000/10000 [==============================] - 1s 85us/step\n",
      "[ 0.74719039 10.        ]\n",
      "Epoch 1/1\n",
      "60000/60000 [==============================] - 10s 170us/step - loss: 0.6054 - acc: 0.8525\n",
      "10000/10000 [==============================] - 1s 95us/step\n",
      "[ 0.48144165 10.        ]\n",
      "Epoch 1/1\n",
      "60000/60000 [==============================] - 14s 227us/step - loss: 0.6027 - acc: 0.8535\n",
      "10000/10000 [==============================] - 2s 236us/step\n",
      "[ 0.28517391 10.        ]\n",
      "Epoch 1/1\n",
      "60000/60000 [==============================] - 18s 305us/step - loss: 0.6066 - acc: 0.8508\n",
      "10000/10000 [==============================] - 1s 135us/step\n",
      "[ 0.3346011 10.       ]\n",
      "Epoch 1/1\n",
      "60000/60000 [==============================] - 15s 247us/step - loss: 0.5942 - acc: 0.8559\n",
      "10000/10000 [==============================] - 1s 69us/step\n",
      "[ 0.29671804 10.        ]\n",
      "Epoch 1/1\n",
      "60000/60000 [==============================] - 11s 189us/step - loss: 0.6067 - acc: 0.8515\n",
      "10000/10000 [==============================] - 1s 83us/step\n",
      "[ 0.93766332 10.        ]\n",
      "Epoch 1/1\n",
      "60000/60000 [==============================] - 11s 182us/step - loss: 0.6070 - acc: 0.8536\n",
      "10000/10000 [==============================] - 1s 111us/step\n",
      "[ 0.27586128 10.        ]\n",
      "Epoch 1/1\n",
      "60000/60000 [==============================] - 8s 138us/step - loss: 0.5999 - acc: 0.8533\n",
      "10000/10000 [==============================] - 1s 76us/step\n",
      "[0.28986256 1.        ]\n",
      "Epoch 1/1\n",
      "60000/60000 [==============================] - 16s 261us/step - loss: 0.2006 - acc: 0.9405\n",
      "10000/10000 [==============================] - 1s 78us/step\n",
      "[  0.28652455 100.        ]\n",
      "Epoch 1/1\n",
      "60000/60000 [==============================] - 12s 196us/step - loss: 0.2051 - acc: 0.9410\n",
      "10000/10000 [==============================] - 1s 74us/step\n"
     ]
    }
   ],
   "source": [
    "space = ParameterSpace([\n",
    "    ContinuousParameter('dropout_rate', 0.05, 0.95),\n",
    "    optimizer_discrete_param\n",
    "])\n",
    "\n",
    "loop = BayesianOptimizationLoop(rf_model, space, X_init, Y_init)\n",
    "loop.run_loop(emukit_friendly_objective_function, 15)"
   ]
  },
  {
   "cell_type": "markdown",
   "metadata": {},
   "source": [
    "Let's plot the results of the optimization run."
   ]
  },
  {
   "cell_type": "code",
   "execution_count": 11,
   "metadata": {},
   "outputs": [
    {
     "data": {
      "image/png": "[encoded data removed]",
      "text/plain": [
       "<Figure size 432x288 with 1 Axes>"
      ]
     },
     "metadata": {},
     "output_type": "display_data"
    }
   ],
   "source": [
    "%matplotlib inline\n",
    "import matplotlib.pyplot as plt\n",
    "\n",
    "plt.title('Executions of objective')\n",
    "plt.xlabel('Iterations')\n",
    "plt.ylabel('Accuracy')\n",
    "plt.plot(range(loop.loop_state.Y.shape[0]), loop.loop_state.Y[:, 0], c='k')\n",
    "plt.scatter(range(3), loop.loop_state.Y[:3, 0], c='r', linewidths=5, label=\"Initial values\")\n",
    "plt.scatter(range(3, loop.loop_state.Y.shape[0]), loop.loop_state.Y[3:, 0], c='b', linewidths=5, label=\"Optimizaion executions\")\n",
    "plt.legend();"
   ]
  },
  {
   "cell_type": "code",
   "execution_count": null,
   "metadata": {},
   "outputs": [],
   "source": []
  }
 ],
 "metadata": {
  "kernelspec": {
   "display_name": "Python 3",
   "language": "python",
   "name": "python3"
  },
  "language_info": {
   "codemirror_mode": {
    "name": "ipython",
    "version": 3
   },
   "file_extension": ".py",
   "mimetype": "text/x-python",
   "name": "python",
   "nbconvert_exporter": "python",
   "pygments_lexer": "ipython3",
   "version": "3.6.5"
  }
 },
 "nbformat": 4,
 "nbformat_minor": 2
}
