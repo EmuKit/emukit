{
 "cells": [
  {
   "cell_type": "markdown",
   "metadata": {},
   "source": [
    "# Categorical variables: optimizing a neural network with TensorFlow and Emukit"
   ]
  },
  {
   "cell_type": "markdown",
   "metadata": {},
   "source": [
    "This notebook is going to illustrate how to use categorical variables with Emukit."
   ]
  },
  {
   "cell_type": "code",
   "execution_count": 1,
   "metadata": {},
   "outputs": [],
   "source": [
    "### General imports\n",
    "%matplotlib inline\n",
    "import numpy as np\n",
    "import matplotlib.pyplot as plt"
   ]
  },
  {
   "cell_type": "code",
   "execution_count": 2,
   "metadata": {},
   "outputs": [],
   "source": [
    "### Necessary imports\n",
    "import tensorflow as tf\n",
    "import GPy\n",
    "\n",
    "from emukit.core import ContinuousParameter, ParameterSpace, CategoricalParameter, OneHotEncoding\n",
    "from emukit.model_wrappers import GPyModelWrapper\n",
    "from emukit.bayesian_optimization.loops import BayesianOptimizationLoop"
   ]
  },
  {
   "cell_type": "markdown",
   "metadata": {},
   "source": [
    "For this example we are going to optimize a very simple neural network built with TensorFlow. We will reuse the very first example of [how to use TensorFlow](https://colab.research.google.com/github/tensorflow/docs/blob/master/site/en/tutorials/_index.ipynb) with number of epochs reduced to 1 in the interest of saving time. We are going to consider two hyper parameters that are going to be subjects of optimization:\n",
    "* Type of optimizer. We are going to choose from Adam, AdaGrad and SGD. This is clearly a categorical parameter.\n",
    "* Dropout rate, ranging between 0.05 and 0.95. This parameter is continuous.  "
   ]
  },
  {
   "cell_type": "markdown",
   "metadata": {},
   "source": [
    "Here is the definition of the function we are going to optimize:"
   ]
  },
  {
   "cell_type": "code",
   "execution_count": 3,
   "metadata": {},
   "outputs": [],
   "source": [
    "mnist = tf.keras.datasets.mnist\n",
    "\n",
    "(x_train, y_train),(x_test, y_test) = mnist.load_data()\n",
    "x_train, x_test = x_train / 255.0, x_test / 255.0 \n",
    "\n",
    "def eval_model(dropout_rate, optimizer):\n",
    "    model = tf.keras.models.Sequential([\n",
    "      tf.keras.layers.Flatten(),\n",
    "      tf.keras.layers.Dense(512, activation=tf.nn.relu),\n",
    "      tf.keras.layers.Dropout(dropout_rate),\n",
    "      tf.keras.layers.Dense(10, activation=tf.nn.softmax)\n",
    "    ])\n",
    "    model.compile(optimizer=optimizer,\n",
    "                  loss='sparse_categorical_crossentropy',\n",
    "                  metrics=['accuracy'])\n",
    "\n",
    "    model.fit(x_train, y_train, epochs=1)\n",
    "    loss, accuracy = model.evaluate(x_test, y_test)\n",
    "    \n",
    "    return accuracy"
   ]
  },
  {
   "cell_type": "markdown",
   "metadata": {},
   "source": [
    "Emukit takes both objective and model as inputs. So when users come to Emukit it is expected that they have already done necessary conversions to turn categorical parameters into numerical values, known as encodings.\n",
    "\n",
    "Encodings in Emukit are represented with `Encoding` class and its subclasses. Emukit provides implementations for a few standard encodings (at the time of writing there are two: one hot and ordinal). If your encoding is not included in one of these, you can either `Encoding` class directly, or subclass it. We should leave discussion of these options to a different tutorial.\n",
    "\n",
    "For this example we will use one hot encoding already included in Emukit."
   ]
  },
  {
   "cell_type": "code",
   "execution_count": 4,
   "metadata": {},
   "outputs": [],
   "source": [
    "optimizers = ['adam', 'adagrad', 'sgd']\n",
    "encoding = OneHotEncoding(optimizers)\n",
    "space = ParameterSpace([\n",
    "    ContinuousParameter('dropout_rate', 0.05, 0.95),\n",
    "    CategoricalParameter('optimizer', encoding)\n",
    "])"
   ]
  },
  {
   "cell_type": "markdown",
   "metadata": {},
   "source": [
    "Emukit requires objective function to accept 2d array as an input, and it also expects model and objective function to accept input of the same form. It is not the case with our objective yet: it declares input parameters explicitly, and expects optimizer name instead of encoding value. Let's fix it. Note how we can use our encoding object here:"
   ]
  },
  {
   "cell_type": "code",
   "execution_count": 5,
   "metadata": {},
   "outputs": [],
   "source": [
    "def emukit_friendly_objective_function(input_rows):\n",
    "    output = []\n",
    "    for row in input_rows:\n",
    "        dropout_rate = row[0]\n",
    "        optimizer = encoding.get_category(row[1:])\n",
    "        eval_result = eval_model(dropout_rate, optimizer)\n",
    "        \n",
    "        # Emukit minimizes, so we need to revert accuracy\n",
    "        output.append([-1 * eval_result])\n",
    "    \n",
    "    return np.array(output)"
   ]
  },
  {
   "cell_type": "markdown",
   "metadata": {},
   "source": [
    "We can use random forest as our model, which comes in Emukit's examples package. Notice that you need Scikit-learn installed to be able to use it. We will use a couple of random values to initialize it:"
   ]
  },
  {
   "cell_type": "code",
   "execution_count": 6,
   "metadata": {},
   "outputs": [
    {
     "name": "stdout",
     "output_type": "stream",
     "text": [
      "Epoch 1/1\n",
      "60000/60000 [==============================] - 8s 142us/step - loss: 0.6078 - acc: 0.8521\n",
      "10000/10000 [==============================] - 1s 67us/step\n",
      "Epoch 1/1\n",
      "60000/60000 [==============================] - 11s 175us/step - loss: 0.2071 - acc: 0.9404\n",
      "10000/10000 [==============================] - 1s 66us/step\n",
      "Epoch 1/1\n",
      "60000/60000 [==============================] - 8s 138us/step - loss: 0.6165 - acc: 0.8481\n",
      "10000/10000 [==============================] - 1s 80us/step\n",
      "Epoch 1/1\n",
      "60000/60000 [==============================] - 12s 207us/step - loss: 0.2009 - acc: 0.9419\n",
      "10000/10000 [==============================] - 1s 65us/step\n",
      "Epoch 1/1\n",
      "60000/60000 [==============================] - 12s 204us/step - loss: 0.2000 - acc: 0.9422\n",
      "10000/10000 [==============================] - 1s 65us/step\n"
     ]
    }
   ],
   "source": [
    "from emukit.examples.models.random_forest import RandomForest\n",
    "from emukit.experimental_design import RandomDesign\n",
    "\n",
    "random_design = RandomDesign(space)\n",
    "initial_points_count = 5\n",
    "X_init = random_design.get_samples(initial_points_count)\n",
    "Y_init = emukit_friendly_objective_function(X_init)\n",
    "\n",
    "rf_model = RandomForest(X_init, Y_init)"
   ]
  },
  {
   "cell_type": "markdown",
   "metadata": {},
   "source": [
    "Let's examine the returned data:"
   ]
  },
  {
   "cell_type": "code",
   "execution_count": 7,
   "metadata": {},
   "outputs": [
    {
     "data": {
      "text/plain": [
       "array([[-0.9102],\n",
       "       [-0.9655],\n",
       "       [-0.9083],\n",
       "       [-0.9653],\n",
       "       [-0.9653]])"
      ]
     },
     "execution_count": 7,
     "metadata": {},
     "output_type": "execute_result"
    }
   ],
   "source": [
    "Y_init"
   ]
  },
  {
   "cell_type": "markdown",
   "metadata": {},
   "source": [
    "At this point everything is ready to run the optimization loop."
   ]
  },
  {
   "cell_type": "code",
   "execution_count": 8,
   "metadata": {},
   "outputs": [
    {
     "name": "stdout",
     "output_type": "stream",
     "text": [
      "Epoch 1/1\n",
      "60000/60000 [==============================] - 18s 292us/step - loss: 0.1998 - acc: 0.9412\n",
      "10000/10000 [==============================] - 1s 74us/step\n",
      "Epoch 1/1\n",
      "60000/60000 [==============================] - 17s 281us/step - loss: 0.2034 - acc: 0.9401\n",
      "10000/10000 [==============================] - 1s 69us/step\n",
      "Epoch 1/1\n",
      "60000/60000 [==============================] - 18s 293us/step - loss: 0.1991 - acc: 0.9405\n",
      "10000/10000 [==============================] - 1s 70us/step\n",
      "Epoch 1/1\n",
      "60000/60000 [==============================] - 11s 178us/step - loss: 0.6056 - acc: 0.8527\n",
      "10000/10000 [==============================] - 1s 70us/step\n",
      "Epoch 1/1\n",
      "60000/60000 [==============================] - 26s 427us/step - loss: 0.1993 - acc: 0.9419\n",
      "10000/10000 [==============================] - 1s 114us/step\n",
      "Epoch 1/1\n",
      "60000/60000 [==============================] - 15s 251us/step - loss: 0.2003 - acc: 0.9417\n",
      "10000/10000 [==============================] - 1s 99us/step\n",
      "Epoch 1/1\n",
      "60000/60000 [==============================] - 11s 189us/step - loss: 0.1992 - acc: 0.9426\n",
      "10000/10000 [==============================] - 1s 100us/step\n",
      "Epoch 1/1\n",
      "60000/60000 [==============================] - 12s 206us/step - loss: 0.2006 - acc: 0.9425\n",
      "10000/10000 [==============================] - 1s 78us/step\n",
      "Epoch 1/1\n",
      "60000/60000 [==============================] - 16s 274us/step - loss: 0.2022 - acc: 0.9408\n",
      "10000/10000 [==============================] - 1s 78us/step\n",
      "Epoch 1/1\n",
      "60000/60000 [==============================] - 13s 209us/step - loss: 0.2125 - acc: 0.9404\n",
      "10000/10000 [==============================] - 1s 91us/step\n"
     ]
    }
   ],
   "source": [
    "loop = BayesianOptimizationLoop(rf_model, space)\n",
    "loop.run_loop(emukit_friendly_objective_function, 10)"
   ]
  },
  {
   "cell_type": "markdown",
   "metadata": {},
   "source": [
    "Let's plot the results of the optimization run."
   ]
  },
  {
   "cell_type": "code",
   "execution_count": 9,
   "metadata": {},
   "outputs": [
    {
     "data": {
      "image/png": "[encoded data removed]",
      "text/plain": [
       "<Figure size 432x288 with 1 Axes>"
      ]
     },
     "metadata": {},
     "output_type": "display_data"
    }
   ],
   "source": [
    "%matplotlib inline\n",
    "import matplotlib.pyplot as plt\n",
    "\n",
    "accuracies = -1 * loop.loop_state.Y\n",
    "\n",
    "plt.title('Executions of objective')\n",
    "plt.xlabel('Iterations')\n",
    "plt.ylabel('Accuracy')\n",
    "plt.plot(range(accuracies.shape[0]), accuracies[:, 0], c='k')\n",
    "plt.scatter(range(initial_points_count), accuracies[:initial_points_count, 0], c='r', linewidths=5, label=\"Initial values\")\n",
    "plt.scatter(range(initial_points_count, accuracies.shape[0]), accuracies[initial_points_count:, 0], c='b', linewidths=5, label=\"Optimizaion executions\")\n",
    "plt.legend();"
   ]
  }
 ],
 "metadata": {
  "kernelspec": {
   "display_name": "Python 3",
   "language": "python",
   "name": "python3"
  },
  "language_info": {
   "codemirror_mode": {
    "name": "ipython",
    "version": 3
   },
   "file_extension": ".py",
   "mimetype": "text/x-python",
   "name": "python",
   "nbconvert_exporter": "python",
   "pygments_lexer": "ipython3",
   "version": "3.6.5"
  }
 },
 "nbformat": 4,
 "nbformat_minor": 2
}
