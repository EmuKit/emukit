{
 "cells": [
  {
   "cell_type": "markdown",
   "metadata": {},
   "source": [
    "# Categorical variables: optimizing a neural network with TensorFlow and Emukit"
   ]
  },
  {
   "cell_type": "markdown",
   "metadata": {},
   "source": [
    "This notebook is going to illustrate how to use categorical variables with Emukit."
   ]
  },
  {
   "cell_type": "code",
   "execution_count": 1,
   "metadata": {},
   "outputs": [],
   "source": [
    "### General imports\n",
    "%matplotlib inline\n",
    "import numpy as np\n",
    "import matplotlib.pyplot as plt"
   ]
  },
  {
   "cell_type": "code",
   "execution_count": 2,
   "metadata": {},
   "outputs": [],
   "source": [
    "### Necessary imports\n",
    "import tensorflow as tf\n",
    "import GPy\n",
    "\n",
    "from emukit.core import ContinuousParameter, ParameterSpace, CategoricalParameter, OneHotEncoding\n",
    "from emukit.model_wrappers import GPyModelWrapper\n",
    "from emukit.bayesian_optimization.loops import BayesianOptimizationLoop"
   ]
  },
  {
   "cell_type": "markdown",
   "metadata": {},
   "source": [
    "For this example we are going to optimize a very simple neural network built with TensorFlow. We will reuse the very first example of [how to use TensorFlow](https://colab.research.google.com/github/tensorflow/docs/blob/master/site/en/tutorials/_index.ipynb) with number of epochs reduced to 1 in the interest of saving time. We are going to consider two hyper parameters that are going to be subjects of optimization:\n",
    "* Type of optimizer. We are going to choose from Adam, AdaGrad and SGD. This is clearly a categorical parameter.\n",
    "* Dropout rate, ranging between 0.05 and 0.95. This parameter is continuous.  "
   ]
  },
  {
   "cell_type": "markdown",
   "metadata": {},
   "source": [
    "Here is the definition of the function we are going to optimize:"
   ]
  },
  {
   "cell_type": "code",
   "execution_count": 3,
   "metadata": {},
   "outputs": [],
   "source": [
    "mnist = tf.keras.datasets.mnist\n",
    "\n",
    "(x_train, y_train),(x_test, y_test) = mnist.load_data()\n",
    "x_train, x_test = x_train / 255.0, x_test / 255.0 \n",
    "\n",
    "def eval_model(dropout_rate, optimizer):\n",
    "    model = tf.keras.models.Sequential([\n",
    "      tf.keras.layers.Flatten(),\n",
    "      tf.keras.layers.Dense(512, activation=tf.nn.relu),\n",
    "      tf.keras.layers.Dropout(dropout_rate),\n",
    "      tf.keras.layers.Dense(10, activation=tf.nn.softmax)\n",
    "    ])\n",
    "    model.compile(optimizer=optimizer,\n",
    "                  loss='sparse_categorical_crossentropy',\n",
    "                  metrics=['accuracy'])\n",
    "\n",
    "    model.fit(x_train, y_train, epochs=1)\n",
    "    loss, accuracy = model.evaluate(x_test, y_test)\n",
    "    \n",
    "    return accuracy"
   ]
  },
  {
   "cell_type": "markdown",
   "metadata": {},
   "source": [
    "Emukit takes both objective and model as inputs. So when users come to Emukit it is expected that they have already done necessary conversions to turn categorical parameters into numerical values, known as encodings.\n",
    "\n",
    "Encodings in Emukit are represented with `Encoding` class and its subclasses. Emukit provides implementations for a few standard encodings (at the time of writing there are two: one hot and ordinal). If your encoding is not included in one of these, you can either `Encoding` class directly, or subclass it. We should leave discussion of these options to a different tutorial.\n",
    "\n",
    "For this example we will use one hot encoding already included in Emukit."
   ]
  },
  {
   "cell_type": "code",
   "execution_count": 4,
   "metadata": {},
   "outputs": [],
   "source": [
    "optimizers = ['adam', 'adagrad', 'sgd']\n",
    "encoding = OneHotEncoding(optimizers)\n",
    "space = ParameterSpace([\n",
    "    ContinuousParameter('dropout_rate', 0.05, 0.95),\n",
    "    CategoricalParameter('optimizer', encoding)\n",
    "])"
   ]
  },
  {
   "cell_type": "markdown",
   "metadata": {},
   "source": [
    "Emukit requires objective function to accept 2d array as an input, and it also expects model and objective function to accept input of the same form. It is not the case with our objective yet: it declares input parameters explicitly, and expects optimizer name instead of encoding value. Let's fix it. Note how we can use our encoding object here:"
   ]
  },
  {
   "cell_type": "code",
   "execution_count": 5,
   "metadata": {},
   "outputs": [],
   "source": [
    "def emukit_friendly_objective_function(input_rows):\n",
    "    output = []\n",
    "    for row in input_rows:\n",
    "        dropout_rate = row[0]\n",
    "        optimizer = encoding.get_category(row[1:])\n",
    "        eval_result = eval_model(dropout_rate, optimizer)\n",
    "        output.append([eval_result])\n",
    "    \n",
    "    return np.array(output)"
   ]
  },
  {
   "cell_type": "markdown",
   "metadata": {},
   "source": [
    "We can use random forest as our model, which comes in Emukit's examples package. Notice that you need Scikit-learn installed to be able to use it. We will use a couple of random values to initialize it:"
   ]
  },
  {
   "cell_type": "code",
   "execution_count": 6,
   "metadata": {},
   "outputs": [
    {
     "name": "stdout",
     "output_type": "stream",
     "text": [
      "Epoch 1/1\n",
      "60000/60000 [==============================] - 12s 192us/step - loss: 0.2064 - acc: 0.9414\n",
      "10000/10000 [==============================] - 1s 62us/step\n",
      "Epoch 1/1\n",
      "60000/60000 [==============================] - 11s 192us/step - loss: 0.2002 - acc: 0.9425\n",
      "10000/10000 [==============================] - 1s 72us/step\n",
      "Epoch 1/1\n",
      "60000/60000 [==============================] - 15s 248us/step - loss: 0.1980 - acc: 0.9410\n",
      "10000/10000 [==============================] - 1s 80us/step\n",
      "Epoch 1/1\n",
      "60000/60000 [==============================] - 15s 242us/step - loss: 0.2036 - acc: 0.9405\n",
      "10000/10000 [==============================] - 1s 128us/step\n",
      "Epoch 1/1\n",
      "60000/60000 [==============================] - 22s 367us/step - loss: 0.2018 - acc: 0.9394\n",
      "10000/10000 [==============================] - 1s 84us/step\n"
     ]
    }
   ],
   "source": [
    "from emukit.examples.models.random_forest import RandomForest\n",
    "from emukit.experimental_design import RandomDesign\n",
    "\n",
    "random_design = RandomDesign(space)\n",
    "initial_points_count = 5\n",
    "X_init = random_design.get_samples(initial_points_count)\n",
    "Y_init = emukit_friendly_objective_function(X_init)\n",
    "\n",
    "rf_model = RandomForest(X_init, Y_init)"
   ]
  },
  {
   "cell_type": "markdown",
   "metadata": {},
   "source": [
    "Let's examine the returned data:"
   ]
  },
  {
   "cell_type": "code",
   "execution_count": 7,
   "metadata": {},
   "outputs": [
    {
     "data": {
      "text/plain": [
       "array([[0.9636],\n",
       "       [0.9649],\n",
       "       [0.9716],\n",
       "       [0.965 ],\n",
       "       [0.9709]])"
      ]
     },
     "execution_count": 7,
     "metadata": {},
     "output_type": "execute_result"
    }
   ],
   "source": [
    "Y_init"
   ]
  },
  {
   "cell_type": "markdown",
   "metadata": {},
   "source": [
    "At this point everything is ready to run the optimization loop."
   ]
  },
  {
   "cell_type": "code",
   "execution_count": 8,
   "metadata": {},
   "outputs": [
    {
     "name": "stdout",
     "output_type": "stream",
     "text": [
      "Epoch 1/1\n",
      "60000/60000 [==============================] - 14s 231us/step - loss: 0.1984 - acc: 0.9429\n",
      "10000/10000 [==============================] - 1s 105us/step\n",
      "Epoch 1/1\n",
      "60000/60000 [==============================] - 17s 283us/step - loss: 0.2025 - acc: 0.9412\n",
      "10000/10000 [==============================] - 1s 96us/step\n",
      "Epoch 1/1\n",
      "60000/60000 [==============================] - 9s 156us/step - loss: 0.6010 - acc: 0.8551\n",
      "10000/10000 [==============================] - 1s 76us/step\n",
      "Epoch 1/1\n",
      "60000/60000 [==============================] - 9s 157us/step - loss: 0.6000 - acc: 0.8567\n",
      "10000/10000 [==============================] - 1s 81us/step\n",
      "Epoch 1/1\n",
      "60000/60000 [==============================] - 9s 145us/step - loss: 0.6084 - acc: 0.8507\n",
      "10000/10000 [==============================] - 1s 75us/step\n",
      "Epoch 1/1\n",
      "60000/60000 [==============================] - 9s 149us/step - loss: 0.6119 - acc: 0.8508\n",
      "10000/10000 [==============================] - 1s 79us/step\n",
      "Epoch 1/1\n",
      "60000/60000 [==============================] - 12s 199us/step - loss: 0.2014 - acc: 0.9419\n",
      "10000/10000 [==============================] - 1s 82us/step\n",
      "Epoch 1/1\n",
      "60000/60000 [==============================] - 9s 153us/step - loss: 0.6083 - acc: 0.8525\n",
      "10000/10000 [==============================] - 1s 75us/step\n",
      "Epoch 1/1\n",
      "60000/60000 [==============================] - 15s 255us/step - loss: 0.2050 - acc: 0.9397\n",
      "10000/10000 [==============================] - 1s 84us/step\n",
      "Epoch 1/1\n",
      "60000/60000 [==============================] - 10s 161us/step - loss: 0.6019 - acc: 0.8527\n",
      "10000/10000 [==============================] - 1s 98us/step\n"
     ]
    }
   ],
   "source": [
    "loop = BayesianOptimizationLoop(rf_model, space)\n",
    "loop.run_loop(emukit_friendly_objective_function, 10)"
   ]
  },
  {
   "cell_type": "markdown",
   "metadata": {},
   "source": [
    "Let's plot the results of the optimization run."
   ]
  },
  {
   "cell_type": "code",
   "execution_count": 9,
   "metadata": {},
   "outputs": [
    {
     "data": {
      "image/png": "[encoded data removed]",
      "text/plain": [
       "<Figure size 432x288 with 1 Axes>"
      ]
     },
     "metadata": {},
     "output_type": "display_data"
    }
   ],
   "source": [
    "%matplotlib inline\n",
    "import matplotlib.pyplot as plt\n",
    "\n",
    "plt.title('Executions of objective')\n",
    "plt.xlabel('Iterations')\n",
    "plt.ylabel('Accuracy')\n",
    "plt.plot(range(loop.loop_state.Y.shape[0]), loop.loop_state.Y[:, 0], c='k')\n",
    "plt.scatter(range(initial_points_count), loop.loop_state.Y[:initial_points_count, 0], c='r', linewidths=5, label=\"Initial values\")\n",
    "plt.scatter(range(initial_points_count, loop.loop_state.Y.shape[0]), loop.loop_state.Y[initial_points_count:, 0], c='b', linewidths=5, label=\"Optimizaion executions\")\n",
    "plt.legend();"
   ]
  }
 ],
 "metadata": {
  "kernelspec": {
   "display_name": "Python 3",
   "language": "python",
   "name": "python3"
  },
  "language_info": {
   "codemirror_mode": {
    "name": "ipython",
    "version": 3
   },
   "file_extension": ".py",
   "mimetype": "text/x-python",
   "name": "python",
   "nbconvert_exporter": "python",
   "pygments_lexer": "ipython3",
   "version": "3.6.5"
  }
 },
 "nbformat": 4,
 "nbformat_minor": 2
}
