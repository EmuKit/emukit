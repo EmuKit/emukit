{
 "cells": [
  {
   "cell_type": "markdown",
   "metadata": {},
   "source": [
    "# Categorical variables: optimizing neural network with TensorFlow and Emukit"
   ]
  },
  {
   "cell_type": "markdown",
   "metadata": {},
   "source": [
    "This notebook is going to illustrate how to use categorical variables with Emukit."
   ]
  },
  {
   "cell_type": "code",
   "execution_count": 1,
   "metadata": {},
   "outputs": [],
   "source": [
    "### General imports\n",
    "%matplotlib inline\n",
    "import numpy as np\n",
    "import matplotlib.pyplot as plt"
   ]
  },
  {
   "cell_type": "code",
   "execution_count": 2,
   "metadata": {},
   "outputs": [],
   "source": [
    "### Necessary imports\n",
    "import tensorflow as tf\n",
    "import GPy\n",
    "\n",
    "from emukit.core import ContinuousParameter, DiscreteParameter, ParameterSpace, CategoricalParameter\n",
    "from emukit.model_wrappers import GPyModelWrapper\n",
    "from emukit.bayesian_optimization.loops import BayesianOptimizationLoop"
   ]
  },
  {
   "cell_type": "markdown",
   "metadata": {},
   "source": [
    "For this example we are going to optimize a very simple neural network built with TensorFlow. We will reuse the very first example of [how to use TensorFlow](https://colab.research.google.com/github/tensorflow/docs/blob/master/site/en/tutorials/_index.ipynb) with number of epochs reduced to 1 in the interest of saving time. We are going to consider two hyper parameters that are going to be subjects of optimization:\n",
    "* Type of optimizer. We are going to choose from Adam, AdaGrad and SGD. This is clearly a categorical parameter.\n",
    "* Dropout rate, ranging between 0.05 and 0.95. This parameter is continuous.  "
   ]
  },
  {
   "cell_type": "markdown",
   "metadata": {},
   "source": [
    "Here is the definition of the function we are going to optimize:"
   ]
  },
  {
   "cell_type": "code",
   "execution_count": 3,
   "metadata": {},
   "outputs": [],
   "source": [
    "mnist = tf.keras.datasets.mnist\n",
    "\n",
    "(x_train, y_train),(x_test, y_test) = mnist.load_data()\n",
    "x_train, x_test = x_train / 255.0, x_test / 255.0 \n",
    "\n",
    "def eval_model(dropout_rate, optimizer):\n",
    "    model = tf.keras.models.Sequential([\n",
    "      tf.keras.layers.Flatten(),\n",
    "      tf.keras.layers.Dense(512, activation=tf.nn.relu),\n",
    "      tf.keras.layers.Dropout(dropout_rate),\n",
    "      tf.keras.layers.Dense(10, activation=tf.nn.softmax)\n",
    "    ])\n",
    "    model.compile(optimizer=optimizer,\n",
    "                  loss='sparse_categorical_crossentropy',\n",
    "                  metrics=['accuracy'])\n",
    "\n",
    "    model.fit(x_train, y_train, epochs=1)\n",
    "    loss, accuracy = model.evaluate(x_test, y_test)\n",
    "    \n",
    "    return accuracy"
   ]
  },
  {
   "cell_type": "markdown",
   "metadata": {},
   "source": [
    "Emukit takes both objective and model as inputs. So when users come to Emukit it is expected that they have already done necessary conversions to turn categorical parameters into numerical values. If that is the case, users should create a DiscreteParameter object with numerical values as the domain. If that is not the case yet, Emukit can generate [one-hot encoding](https://www.kaggle.com/dansbecker/using-categorical-data-with-one-hot-encoding).\n",
    "\n",
    "Emukit provides a convenience method for both cases, which takes optinal encodings if they are already created. In this example we will use Emukit to generate encodings for us."
   ]
  },
  {
   "cell_type": "code",
   "execution_count": 4,
   "metadata": {},
   "outputs": [],
   "source": [
    "space = ParameterSpace([\n",
    "    ContinuousParameter('dropout_rate', 0.05, 0.95),\n",
    "    CategoricalParameter('optimizer', np.array([[1, 0, 0],[0, 1, 0],[0, 0, 1]]))\n",
    "])"
   ]
  },
  {
   "cell_type": "markdown",
   "metadata": {},
   "source": [
    "We can use random forest as our model, which comes in Emukit's examples package. Notice that you need Scikit-learn installed to be able to use it:"
   ]
  },
  {
   "cell_type": "code",
   "execution_count": 5,
   "metadata": {},
   "outputs": [],
   "source": [
    "from emukit.examples.models.random_forest import RandomForest\n",
    "\n",
    "encoding_to_cat = {(1,0,0): 'adam', (0,1,0):'adagrad', (0,0,1):'sgd'}\n",
    "\n",
    "X_init = np.array([[0.9, 1, 0, 0], [0.3, 0, 0, 1], [0.75, 1, 0, 0]])\n",
    "#Y_init = np.array([[eval_model(x[0], encoding_to_cat[x[1]])] for x in X_init])\n",
    "Y_init = np.array([[0.966 ],[0.9094],[0.9681]])\n",
    "\n",
    "rf_model = RandomForest(X_init, Y_init)"
   ]
  },
  {
   "cell_type": "markdown",
   "metadata": {},
   "source": [
    "Let's examine the returned data:"
   ]
  },
  {
   "cell_type": "code",
   "execution_count": 6,
   "metadata": {},
   "outputs": [
    {
     "data": {
      "text/plain": [
       "array([[0.966 ],\n",
       "       [0.9094],\n",
       "       [0.9681]])"
      ]
     },
     "execution_count": 6,
     "metadata": {},
     "output_type": "execute_result"
    }
   ],
   "source": [
    "Y_init"
   ]
  },
  {
   "cell_type": "markdown",
   "metadata": {},
   "source": [
    "Emukit requires objective function to accept 2d array as an input, and it also expects model and objective function to accept input of the same form. It is not the case with our objective yet: it declares input parameters explicitly, and expects optimizer name instead of encoding value. Let's fix it. This is where mappings we obtained before may come handy:"
   ]
  },
  {
   "cell_type": "code",
   "execution_count": 7,
   "metadata": {},
   "outputs": [],
   "source": [
    "def emukit_friendly_objective_function(input_rows):\n",
    "    output = []\n",
    "    for row in input_rows:\n",
    "        print(row)\n",
    "        dropout_rate = row[0]\n",
    "        optimizer = encoding_to_cat[tuple(row[1:].astype(int).tolist())]\n",
    "        print(dropout_rate)\n",
    "        print(optimizer)\n",
    "        eval_result = eval_model(dropout_rate, optimizer)\n",
    "        output.append([eval_result])\n",
    "    \n",
    "    return np.array(output)"
   ]
  },
  {
   "cell_type": "markdown",
   "metadata": {},
   "source": [
    "At this point everything is ready to run the optimization loop."
   ]
  },
  {
   "cell_type": "code",
   "execution_count": 8,
   "metadata": {},
   "outputs": [
    {
     "name": "stdout",
     "output_type": "stream",
     "text": [
      "[0.06409119 0.         1.         0.        ]\n",
      "0.06409119253494487\n",
      "adagrad\n",
      "Epoch 1/1\n",
      "60000/60000 [==============================] - 18s 307us/step - loss: 0.2014 - acc: 0.9416\n",
      "10000/10000 [==============================] - 1s 144us/step\n",
      "[0.48958783 1.         0.         0.        ]\n",
      "0.4895878290419129\n",
      "adam\n",
      "Epoch 1/1\n",
      "60000/60000 [==============================] - 30s 492us/step - loss: 0.1996 - acc: 0.9414\n",
      "10000/10000 [==============================] - 1s 109us/step\n",
      "[0.29035148 0.         0.         1.        ]\n",
      "0.29035148123391175\n",
      "sgd\n",
      "Epoch 1/1\n",
      "60000/60000 [==============================] - 15s 252us/step - loss: 0.6033 - acc: 0.8537\n",
      "10000/10000 [==============================] - 1s 133us/step\n",
      "[0.29450534 0.         0.         1.        ]\n",
      "0.2945053384953453\n",
      "sgd\n",
      "Epoch 1/1\n",
      "60000/60000 [==============================] - 12s 208us/step - loss: 0.6030 - acc: 0.8557\n",
      "10000/10000 [==============================] - 1s 110us/step\n",
      "[0.60651183 0.         0.         1.        ]\n",
      "0.6065118345958654\n",
      "sgd\n",
      "Epoch 1/1\n",
      "60000/60000 [==============================] - 13s 219us/step - loss: 0.6038 - acc: 0.85220s - loss: 0.6141 - acc\n",
      "10000/10000 [==============================] - 1s 105us/step\n",
      "[0.15222698 0.         0.         1.        ]\n",
      "0.15222697771843285\n",
      "sgd\n",
      "Epoch 1/1\n",
      "60000/60000 [==============================] - 11s 189us/step - loss: 0.6107 - acc: 0.8506\n",
      "10000/10000 [==============================] - 1s 103us/step\n",
      "[0.76982934 0.         0.         1.        ]\n",
      "0.7698293439528807\n",
      "sgd\n",
      "Epoch 1/1\n",
      "60000/60000 [==============================] - 15s 245us/step - loss: 0.6079 - acc: 0.8518\n",
      "10000/10000 [==============================] - 1s 97us/step\n",
      "[0.79317675 0.         0.         1.        ]\n",
      "0.7931767459514544\n",
      "sgd\n",
      "Epoch 1/1\n",
      "60000/60000 [==============================] - 12s 203us/step - loss: 0.6167 - acc: 0.8510\n",
      "10000/10000 [==============================] - 1s 111us/step\n",
      "[0.22247891 0.         0.         1.        ]\n",
      "0.22247890980018242\n",
      "sgd\n",
      "Epoch 1/1\n",
      "60000/60000 [==============================] - 12s 195us/step - loss: 0.6217 - acc: 0.8463\n",
      "10000/10000 [==============================] - 1s 116us/step\n",
      "[0.2304928 0.        1.        0.       ]\n",
      "0.23049280044642811\n",
      "adagrad\n",
      "Epoch 1/1\n",
      "60000/60000 [==============================] - 17s 286us/step - loss: 0.2017 - acc: 0.94230s - loss: 0.2039 - ac\n",
      "10000/10000 [==============================] - 1s 105us/step\n"
     ]
    }
   ],
   "source": [
    "loop = BayesianOptimizationLoop(rf_model, space)\n",
    "loop.run_loop(emukit_friendly_objective_function, 10)"
   ]
  },
  {
   "cell_type": "markdown",
   "metadata": {},
   "source": [
    "Let's plot the results of the optimization run."
   ]
  },
  {
   "cell_type": "code",
   "execution_count": 9,
   "metadata": {},
   "outputs": [
    {
     "data": {
      "image/png": "[encoded data removed]",
      "text/plain": [
       "<Figure size 432x288 with 1 Axes>"
      ]
     },
     "metadata": {},
     "output_type": "display_data"
    }
   ],
   "source": [
    "%matplotlib inline\n",
    "import matplotlib.pyplot as plt\n",
    "\n",
    "plt.title('Executions of objective')\n",
    "plt.xlabel('Iterations')\n",
    "plt.ylabel('Accuracy')\n",
    "plt.plot(range(loop.loop_state.Y.shape[0]), loop.loop_state.Y[:, 0], c='k')\n",
    "plt.scatter(range(3), loop.loop_state.Y[:3, 0], c='r', linewidths=5, label=\"Initial values\")\n",
    "plt.scatter(range(3, loop.loop_state.Y.shape[0]), loop.loop_state.Y[3:, 0], c='b', linewidths=5, label=\"Optimizaion executions\")\n",
    "plt.legend();"
   ]
  },
  {
   "cell_type": "code",
   "execution_count": null,
   "metadata": {},
   "outputs": [],
   "source": []
  }
 ],
 "metadata": {
  "kernelspec": {
   "display_name": "Python 3",
   "language": "python",
   "name": "python3"
  },
  "language_info": {
   "codemirror_mode": {
    "name": "ipython",
    "version": 3
   },
   "file_extension": ".py",
   "mimetype": "text/x-python",
   "name": "python",
   "nbconvert_exporter": "python",
   "pygments_lexer": "ipython3",
   "version": "3.6.5"
  }
 },
 "nbformat": 4,
 "nbformat_minor": 2
}
