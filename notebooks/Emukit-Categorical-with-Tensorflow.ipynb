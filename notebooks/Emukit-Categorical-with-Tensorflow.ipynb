{
 "cells": [
  {
   "cell_type": "markdown",
   "metadata": {},
   "source": [
    "# Categorical variables: optimizing a neural network with TensorFlow and Emukit"
   ]
  },
  {
   "cell_type": "markdown",
   "metadata": {},
   "source": [
    "This notebook is going to illustrate how to use categorical variables with Emukit."
   ]
  },
  {
   "cell_type": "code",
   "execution_count": 1,
   "metadata": {},
   "outputs": [],
   "source": [
    "### General imports\n",
    "%matplotlib inline\n",
    "import numpy as np\n",
    "import matplotlib.pyplot as plt"
   ]
  },
  {
   "cell_type": "code",
   "execution_count": 2,
   "metadata": {},
   "outputs": [],
   "source": [
    "### Necessary imports\n",
    "import tensorflow as tf\n",
    "import GPy\n",
    "\n",
    "from emukit.core import ContinuousParameter, ParameterSpace, CategoricalParameter, OneHotEncoding\n",
    "from emukit.model_wrappers import GPyModelWrapper\n",
    "from emukit.bayesian_optimization.loops import BayesianOptimizationLoop"
   ]
  },
  {
   "cell_type": "markdown",
   "metadata": {},
   "source": [
    "For this example we are going to optimize a very simple neural network built with TensorFlow. We will reuse the very first example of [how to use TensorFlow](https://colab.research.google.com/github/tensorflow/docs/blob/master/site/en/tutorials/_index.ipynb) with number of epochs reduced to 1 in the interest of saving time. We are going to consider two hyper parameters that are going to be subjects of optimization:\n",
    "* Type of optimizer. We are going to choose from Adam, AdaGrad and SGD. This is clearly a categorical parameter.\n",
    "* Dropout rate, ranging between 0.05 and 0.95. This parameter is continuous.  "
   ]
  },
  {
   "cell_type": "markdown",
   "metadata": {},
   "source": [
    "Here is the definition of the function we are going to optimize:"
   ]
  },
  {
   "cell_type": "code",
   "execution_count": 3,
   "metadata": {},
   "outputs": [],
   "source": [
    "mnist = tf.keras.datasets.mnist\n",
    "\n",
    "(x_train, y_train),(x_test, y_test) = mnist.load_data()\n",
    "x_train, x_test = x_train / 255.0, x_test / 255.0 \n",
    "\n",
    "def eval_model(dropout_rate, optimizer):\n",
    "    model = tf.keras.models.Sequential([\n",
    "      tf.keras.layers.Flatten(),\n",
    "      tf.keras.layers.Dense(512, activation=tf.nn.relu),\n",
    "      tf.keras.layers.Dropout(dropout_rate),\n",
    "      tf.keras.layers.Dense(10, activation=tf.nn.softmax)\n",
    "    ])\n",
    "    model.compile(optimizer=optimizer,\n",
    "                  loss='sparse_categorical_crossentropy',\n",
    "                  metrics=['accuracy'])\n",
    "\n",
    "    model.fit(x_train, y_train, epochs=1)\n",
    "    loss, accuracy = model.evaluate(x_test, y_test)\n",
    "    \n",
    "    return accuracy"
   ]
  },
  {
   "cell_type": "markdown",
   "metadata": {},
   "source": [
    "Emukit takes both objective and model as inputs. So when users come to Emukit it is expected that they have already done necessary conversions to turn categorical parameters into numerical values, known as encodings.\n",
    "\n",
    "Encodings in Emukit are represented with `Encoding` class and its subclasses. Emukit provides implementations for a few standard encodings (at the time of writing there are two: one hot and ordinal). If your encoding is not included in one of these, you can either `Encoding` class directly, or subclass it. We should leave discussion of these options to a different tutorial.\n",
    "\n",
    "For this example we will use one hot encoding already included in Emukit."
   ]
  },
  {
   "cell_type": "code",
   "execution_count": 4,
   "metadata": {},
   "outputs": [],
   "source": [
    "optimizers = ['adam', 'adagrad', 'sgd']\n",
    "encoding = OneHotEncoding(optimizers)\n",
    "space = ParameterSpace([\n",
    "    ContinuousParameter('dropout_rate', 0.05, 0.95),\n",
    "    CategoricalParameter('optimizer', encoding)\n",
    "])"
   ]
  },
  {
   "cell_type": "markdown",
   "metadata": {},
   "source": [
    "Emukit requires objective function to accept 2d array as an input, and it also expects model and objective function to accept input of the same form. It is not the case with our objective yet: it declares input parameters explicitly, and expects optimizer name instead of encoding value. Let's fix it. Note how we can use our encoding object here:"
   ]
  },
  {
   "cell_type": "code",
   "execution_count": 5,
   "metadata": {},
   "outputs": [],
   "source": [
    "def emukit_friendly_objective_function(input_rows):\n",
    "    output = []\n",
    "    for row in input_rows:\n",
    "        dropout_rate = row[0]\n",
    "        optimizer = encoding.get_category(row[1:])\n",
    "        eval_result = eval_model(dropout_rate, optimizer)\n",
    "        \n",
    "        # Emukit minimizes, so we need to revert accuracy\n",
    "        output.append([-1 * eval_result])\n",
    "    \n",
    "    return np.array(output)"
   ]
  },
  {
   "cell_type": "markdown",
   "metadata": {},
   "source": [
    "We can use random forest as our model, which comes in Emukit's examples package. Notice that you need Scikit-learn installed to be able to use it. We will use a couple of random values to initialize it:"
   ]
  },
  {
   "cell_type": "code",
   "execution_count": 6,
   "metadata": {},
   "outputs": [
    {
     "name": "stdout",
     "output_type": "stream",
     "text": [
      "WARNING:tensorflow:From /home/kleinaa/virtualenvs/virtual/lib/python3.5/site-packages/tensorflow/python/ops/resource_variable_ops.py:435: colocate_with (from tensorflow.python.framework.ops) is deprecated and will be removed in a future version.\n",
      "Instructions for updating:\n",
      "Colocations handled automatically by placer.\n",
      "WARNING:tensorflow:From /home/kleinaa/virtualenvs/virtual/lib/python3.5/site-packages/tensorflow/python/keras/layers/core.py:143: calling dropout (from tensorflow.python.ops.nn_ops) with keep_prob is deprecated and will be removed in a future version.\n",
      "Instructions for updating:\n",
      "Please use `rate` instead of `keep_prob`. Rate should be set to `rate = 1 - keep_prob`.\n",
      "60000/60000 [==============================] - 6s 93us/sample - loss: 0.7834 - acc: 0.7683\n",
      "10000/10000 [==============================] - 0s 41us/sample - loss: 0.3635 - acc: 0.9029\n",
      "60000/60000 [==============================] - 6s 108us/sample - loss: 0.2635 - acc: 0.9230\n",
      "10000/10000 [==============================] - 0s 42us/sample - loss: 0.1402 - acc: 0.9571\n",
      "60000/60000 [==============================] - 6s 92us/sample - loss: 0.6451 - acc: 0.8328\n",
      "10000/10000 [==============================] - 0s 42us/sample - loss: 0.3487 - acc: 0.9047\n",
      "60000/60000 [==============================] - 7s 110us/sample - loss: 0.2146 - acc: 0.9375\n",
      "10000/10000 [==============================] - 0s 42us/sample - loss: 0.1323 - acc: 0.9615\n",
      "60000/60000 [==============================] - 7s 113us/sample - loss: 0.4103 - acc: 0.8769\n",
      "10000/10000 [==============================] - 0s 44us/sample - loss: 0.1893 - acc: 0.9435\n"
     ]
    }
   ],
   "source": [
    "from emukit.examples.models.random_forest import RandomForest\n",
    "from emukit.experimental_design import RandomDesign\n",
    "\n",
    "random_design = RandomDesign(space)\n",
    "initial_points_count = 5\n",
    "X_init = random_design.get_samples(initial_points_count)\n",
    "Y_init = emukit_friendly_objective_function(X_init)\n",
    "\n",
    "rf_model = RandomForest(X_init, Y_init)"
   ]
  },
  {
   "cell_type": "markdown",
   "metadata": {},
   "source": [
    "Let's examine the returned data:"
   ]
  },
  {
   "cell_type": "code",
   "execution_count": 8,
   "metadata": {},
   "outputs": [
    {
     "data": {
      "text/plain": [
       "array([[-0.90289998],\n",
       "       [-0.95709997],\n",
       "       [-0.90469998],\n",
       "       [-0.96149999],\n",
       "       [-0.94349998]])"
      ]
     },
     "execution_count": 8,
     "metadata": {},
     "output_type": "execute_result"
    }
   ],
   "source": [
    "Y_init"
   ]
  },
  {
   "cell_type": "markdown",
   "metadata": {},
   "source": [
    "At this point everything is ready to run the optimization loop."
   ]
  },
  {
   "cell_type": "code",
   "execution_count": 12,
   "metadata": {},
   "outputs": [
    {
     "name": "stdout",
     "output_type": "stream",
     "text": [
      "60000/60000 [==============================] - 6s 108us/sample - loss: 0.2186 - acc: 0.9364\n",
      "10000/10000 [==============================] - 0s 43us/sample - loss: 0.1273 - acc: 0.9637\n",
      "60000/60000 [==============================] - 7s 110us/sample - loss: 0.2283 - acc: 0.9329\n",
      "10000/10000 [==============================] - 0s 45us/sample - loss: 0.1321 - acc: 0.9613\n",
      "60000/60000 [==============================] - 7s 110us/sample - loss: 0.2305 - acc: 0.9323\n",
      "10000/10000 [==============================] - 0s 45us/sample - loss: 0.1333 - acc: 0.9614\n",
      "60000/60000 [==============================] - 8s 140us/sample - loss: 0.2135 - acc: 0.9365\n",
      "10000/10000 [==============================] - 0s 46us/sample - loss: 0.1193 - acc: 0.9628\n",
      "60000/60000 [==============================] - 9s 143us/sample - loss: 0.2172 - acc: 0.9357\n",
      "10000/10000 [==============================] - 0s 47us/sample - loss: 0.1115 - acc: 0.9657\n",
      "60000/60000 [==============================] - 8s 139us/sample - loss: 0.2146 - acc: 0.9366\n",
      "10000/10000 [==============================] - 0s 47us/sample - loss: 0.1129 - acc: 0.9641\n",
      "60000/60000 [==============================] - 10s 162us/sample - loss: 0.2807 - acc: 0.9166\n",
      "10000/10000 [==============================] - 1s 78us/sample - loss: 0.1209 - acc: 0.9644\n",
      "60000/60000 [==============================] - 11s 187us/sample - loss: 0.3071 - acc: 0.9075\n",
      "10000/10000 [==============================] - 1s 62us/sample - loss: 0.1357 - acc: 0.9603\n",
      "60000/60000 [==============================] - 11s 176us/sample - loss: 0.3092 - acc: 0.9066\n",
      "10000/10000 [==============================] - 1s 65us/sample - loss: 0.1244 - acc: 0.9616\n",
      "60000/60000 [==============================] - 9s 156us/sample - loss: 0.2215 - acc: 0.9338\n",
      "10000/10000 [==============================] - 1s 53us/sample - loss: 0.1089 - acc: 0.9690\n"
     ]
    }
   ],
   "source": [
    "from emukit.core.optimization import LocalSearchAcquisitionOptimizer\n",
    "\n",
    "ls = LocalSearchAcquisitionOptimizer(space, num_steps=10, num_init_points=5)\n",
    "loop = BayesianOptimizationLoop(model=rf_model, space=space, acquisition_optimizer=ls)\n",
    "loop.run_loop(emukit_friendly_objective_function, 10)"
   ]
  },
  {
   "cell_type": "markdown",
   "metadata": {},
   "source": [
    "Let's plot the results of the optimization run."
   ]
  },
  {
   "cell_type": "code",
   "execution_count": 13,
   "metadata": {},
   "outputs": [
    {
     "data": {
      "image/png": "[encoded data removed]",
      "text/plain": [
       "<Figure size 432x288 with 1 Axes>"
      ]
     },
     "metadata": {},
     "output_type": "display_data"
    }
   ],
   "source": [
    "%matplotlib inline\n",
    "import matplotlib.pyplot as plt\n",
    "\n",
    "accuracies = -1 * loop.loop_state.Y\n",
    "\n",
    "plt.title('Executions of objective')\n",
    "plt.xlabel('Iterations')\n",
    "plt.ylabel('Accuracy')\n",
    "plt.plot(range(accuracies.shape[0]), accuracies[:, 0], c='k')\n",
    "plt.scatter(range(initial_points_count), accuracies[:initial_points_count, 0], c='r', linewidths=5, label=\"Initial values\")\n",
    "plt.scatter(range(initial_points_count, accuracies.shape[0]), accuracies[initial_points_count:, 0], c='b', linewidths=5, label=\"Optimizaion executions\")\n",
    "plt.legend();"
   ]
  }
 ],
 "metadata": {
  "kernelspec": {
   "display_name": "Python 3",
   "language": "python",
   "name": "python3"
  },
  "language_info": {
   "codemirror_mode": {
    "name": "ipython",
    "version": 3
   },
   "file_extension": ".py",
   "mimetype": "text/x-python",
   "name": "python",
   "nbconvert_exporter": "python",
   "pygments_lexer": "ipython3",
   "version": "3.5.2"
  }
 },
 "nbformat": 4,
 "nbformat_minor": 2
}
