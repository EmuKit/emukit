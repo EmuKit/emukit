{
 "cells": [
  {
   "cell_type": "markdown",
   "metadata": {},
   "source": [
    "# Title of notebook\n",
    "\n",
    "You may want to append \"with Emukit\" to the title"
   ]
  },
  {
   "cell_type": "markdown",
   "metadata": {},
   "source": [
    "## Overview"
   ]
  },
  {
   "cell_type": "code",
   "execution_count": 1,
   "metadata": {},
   "outputs": [],
   "source": [
    "# General imports and parameters of figures should be loaded at the beginning of the overview\n",
    "\n",
    "### General imports\n",
    "%matplotlib inline\n",
    "import numpy as np\n",
    "import matplotlib.pyplot as plt\n",
    "from matplotlib import colors as mcolors\n",
    "\n",
    "### --- Figure config\n",
    "colors = dict(mcolors.BASE_COLORS, **mcolors.CSS4_COLORS)\n",
    "LEGEND_SIZE = 15\n",
    "TITLE_SIZE = 25\n",
    "AXIS_SIZE = 15"
   ]
  },
  {
   "cell_type": "markdown",
   "metadata": {},
   "source": [
    "Describe here the purpose and goal of the notebook. Notebooks can be used to:\n",
    "\n",
    "1. Introduce some UQ topic, e.g, optimization, quadrature, etc. Titles of these general purpose notebooks should finish with 'with Emukit'.\n",
    "2. Describe an advanced feature of a topic.\n",
    "3. Illustrate a particular functionality of Emukit.\n",
    "\n",
    "Notebooks should be self-contained but if they are of type 2 or 3 they can/must link to some background topic of type 1.\n",
    "\n",
    "The overview must start with the general imports and plots configuration\n",
    "\n",
    "The overview section must finish with a Navigation that links to the main sections of the notebook\n"
   ]
  },
  {
   "cell_type": "markdown",
   "metadata": {},
   "source": [
    "### Navigation\n",
    "\n",
    "1. [Section 1](#1.-Section-1)\n",
    "\n",
    "2. [Section 2](#2.-Section-2)\n",
    "\n",
    "3. [Conclusions](#3.-Conclusions)\n",
    "\n",
    "4. [References](#4.-References)"
   ]
  },
  {
   "cell_type": "markdown",
   "metadata": {},
   "source": [
    "## 1. Section 1"
   ]
  },
  {
   "cell_type": "code",
   "execution_count": 2,
   "metadata": {},
   "outputs": [],
   "source": [
    "# Specific imports that are used in a section should be loaded at the beginning of that section.\n",
    "# It is ok if an import is repeated multiple times over the notebook\n",
    "\n",
    "import GPy"
   ]
  },
  {
   "cell_type": "code",
   "execution_count": 3,
   "metadata": {},
   "outputs": [],
   "source": [
    "### Body of the section here"
   ]
  },
  {
   "cell_type": "markdown",
   "metadata": {},
   "source": [
    "Due to a [certain issue](https://github.com/spatialaudio/nbsphinx/issues/203) blockquotes cannot immediately follow code blocks, so make sure there is some text between a code block and a note. As soon as nbsphinx is updated with the [fix](https://github.com/spatialaudio/nbsphinx/pull/216) this can be relaxed.\n",
    "\n",
    ">**Note**: Important notes in the text can be added like that\n",
    ">\n",
    "> notes can be multiline"
   ]
  },
  {
   "cell_type": "markdown",
   "metadata": {},
   "source": [
    "Links to references done like that: [[Kennedy and O'Hagan, 2000]](#4.-References), the full reference should be included at the end of the notebook."
   ]
  },
  {
   "cell_type": "markdown",
   "metadata": {},
   "source": [
    "## 2. Section 2"
   ]
  },
  {
   "cell_type": "code",
   "execution_count": 4,
   "metadata": {},
   "outputs": [],
   "source": [
    "### Body of the section here\n"
   ]
  },
  {
   "cell_type": "markdown",
   "metadata": {},
   "source": [
    "More section content"
   ]
  },
  {
   "cell_type": "markdown",
   "metadata": {},
   "source": [
    "## 3. Conclusions"
   ]
  },
  {
   "cell_type": "markdown",
   "metadata": {},
   "source": [
    "## 4. References"
   ]
  },
  {
   "cell_type": "markdown",
   "metadata": {},
   "source": [
    "- Kennedy, M.C. and O'Hagan, A., 2000. *Predicting the output from a complex computer code when fast approximations are available.* Biometrika, 87(1), pp.1-13."
   ]
  }
 ],
 "metadata": {
  "kernelspec": {
   "display_name": "Python 3",
   "language": "python",
   "name": "python3"
  },
  "language_info": {
   "codemirror_mode": {
    "name": "ipython",
    "version": 3
   },
   "file_extension": ".py",
   "mimetype": "text/x-python",
   "name": "python",
   "nbconvert_exporter": "python",
   "pygments_lexer": "ipython3",
   "version": "3.6.5"
  }
 },
 "nbformat": 4,
 "nbformat_minor": 2
}
