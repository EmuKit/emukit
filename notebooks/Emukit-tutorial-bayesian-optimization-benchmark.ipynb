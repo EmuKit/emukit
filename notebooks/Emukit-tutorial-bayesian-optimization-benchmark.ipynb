{
 "cells": [
  {
   "cell_type": "markdown",
   "metadata": {},
   "source": [
    "# Emukit Bayesian Optimization Benchmark\n",
    "\n",
    "This notebook uses the `emukit.benchmarking` package to compare two Bayesian optimization methods against each other, using the Branin test function."
   ]
  },
  {
   "cell_type": "code",
   "execution_count": 1,
   "metadata": {},
   "outputs": [],
   "source": [
    "import emukit\n",
    "import numpy as np"
   ]
  },
  {
   "cell_type": "markdown",
   "metadata": {},
   "source": [
    "## Set up test function\n",
    "\n",
    "We use the Branin function which is already included in Emukit, both the function and the appropriate input domain are ready made for us."
   ]
  },
  {
   "cell_type": "code",
   "execution_count": 2,
   "metadata": {},
   "outputs": [],
   "source": [
    "from emukit.test_functions.branin import branin_function\n",
    "branin_fcn, parameter_space = branin_function()"
   ]
  },
  {
   "cell_type": "markdown",
   "metadata": {},
   "source": [
    "## Set up methods to test\n",
    "\n",
    "We compare Bayesian optimization using different models. All the methods collect points one at a time in a sequential fashion and use the expected improvement acquisition function. The models we test are:\n",
    "- A Gaussian process with Matern52 covariance function\n",
    "- Random forest using the pyrfr package\n",
    "\n",
    "We choose to create lambda functions with a consistent interface that return an instance of a loop with a given initial data set."
   ]
  },
  {
   "cell_type": "code",
   "execution_count": 3,
   "metadata": {
    "scrolled": true
   },
   "outputs": [],
   "source": [
    "from emukit.examples.gp_bayesian_optimization.enums import ModelType, AcquisitionType\n",
    "from emukit.examples.gp_bayesian_optimization.optimization_loops import create_bayesian_optimization_loop\n",
    "from emukit.examples.gp_bayesian_optimization.single_objective_bayesian_optimization import GPBayesianOptimization\n",
    "\n",
    "loops = [\n",
    "    ('Random Forest', lambda loop_state: create_bayesian_optimization_loop(loop_state.X, loop_state.Y, parameter_space, AcquisitionType.EI, \n",
    "                                                                     ModelType.RandomForest)),\n",
    "    ('Gaussian Process', lambda loop_state: GPBayesianOptimization(parameter_space.parameters, loop_state.X, loop_state.Y, \n",
    "                                                             acquisition_type=AcquisitionType.EI, noiseless=True))\n",
    "]"
   ]
  },
  {
   "cell_type": "markdown",
   "metadata": {},
   "source": [
    "# Run benchmark\n",
    "\n",
    "A total of 10 initial data sets are generated of 5 observations that are randomly sampled from the input domain. For every intial data set, each method is run for 30 optimization iterations. The Gaussian process model has its hyper-parameters optimized after each function observation whereas the other models have fixed hyper-parameters."
   ]
  },
  {
   "cell_type": "code",
   "execution_count": 7,
   "metadata": {
    "scrolled": true
   },
   "outputs": [
    {
     "name": "stdout",
     "output_type": "stream",
     "text": [
      "Optimization restart 1/1, f = 21.763249492052537\n",
      "Optimization restart 1/1, f = 26.504729612407633\n",
      "Optimization restart 1/1, f = 34.45715835852148\n",
      "Optimization restart 1/1, f = 38.996755167380186\n",
      "Optimization restart 1/1, f = 42.94422434769595\n",
      "Optimization restart 1/1, f = 47.87703277186525\n",
      "Optimization restart 1/1, f = 51.674829238667186\n",
      "Optimization restart 1/1, f = 56.53156918292102\n",
      "Optimization restart 1/1, f = 59.636641203215234\n",
      "Optimization restart 1/1, f = 62.087483158973576\n",
      "Optimization restart 1/1, f = 67.15079774051686\n",
      "Optimization restart 1/1, f = 69.8181081530785\n",
      "Optimization restart 1/1, f = 69.59183977904745\n",
      "Optimization restart 1/1, f = 69.92428264457216\n",
      "Optimization restart 1/1, f = 70.81423161523114\n",
      "Optimization restart 1/1, f = 71.04633446671875\n",
      "Optimization restart 1/1, f = 84.77814491457683\n",
      "Optimization restart 1/1, f = 88.54710644238985\n",
      "Optimization restart 1/1, f = 92.04720340678085\n",
      "Optimization restart 1/1, f = 96.05245933478095\n",
      "Optimization restart 1/1, f = 94.35812730092147\n",
      "Optimization restart 1/1, f = 24.28435750803283\n",
      "Optimization restart 1/1, f = 33.56284649712692\n",
      "Optimization restart 1/1, f = 38.684743467806\n",
      "Optimization restart 1/1, f = 45.94802776898982\n",
      "Optimization restart 1/1, f = 51.17129071313896\n",
      "Optimization restart 1/1, f = 58.0239891612214\n",
      "Optimization restart 1/1, f = 63.3879994642574\n",
      "Optimization restart 1/1, f = 68.71295545242145\n",
      "Optimization restart 1/1, f = 76.75506825562766\n",
      "Optimization restart 1/1, f = 83.48426690065433\n",
      "Optimization restart 1/1, f = 89.19016843323197\n",
      "Optimization restart 1/1, f = 94.87368613526856\n",
      "Optimization restart 1/1, f = 100.4336251727274\n",
      "Optimization restart 1/1, f = 105.93504798120176\n",
      "Optimization restart 1/1, f = 111.3487725792329\n",
      "Optimization restart 1/1, f = 116.96318380415926\n",
      "Optimization restart 1/1, f = 122.37909219036997\n",
      "Optimization restart 1/1, f = 127.69513621851985\n",
      "Optimization restart 1/1, f = 132.99240123893068\n",
      "Optimization restart 1/1, f = 138.26484657719632\n",
      "Optimization restart 1/1, f = 146.16805306379538\n",
      "Optimization restart 1/1, f = 3439746.3237961163\n",
      "Optimization restart 1/1, f = 10953770.552901084\n",
      "Optimization restart 1/1, f = 13420119.100903383\n",
      "Optimization restart 1/1, f = 14419970.688504241\n",
      "Optimization restart 1/1, f = 15732672.83458053\n",
      "Optimization restart 1/1, f = 15980903.195425939\n",
      "Optimization restart 1/1, f = 15991996.477534859\n",
      "Optimization restart 1/1, f = 18331361.096322823\n",
      "Optimization restart 1/1, f = 18470102.47976023\n",
      "Optimization restart 1/1, f = 18769385.197399564\n",
      "Optimization restart 1/1, f = 18778054.147958953\n",
      "Optimization restart 1/1, f = 19174702.37337732\n",
      "Optimization restart 1/1, f = 19510950.869468976\n",
      "Optimization restart 1/1, f = 19629951.632290795\n",
      "Optimization restart 1/1, f = 20261558.148716174\n",
      "Optimization restart 1/1, f = 20266589.358689334\n",
      "Optimization restart 1/1, f = 21188374.75306574\n",
      "Optimization restart 1/1, f = 21890098.60356531\n",
      "Optimization restart 1/1, f = 21896303.251606833\n",
      "Optimization restart 1/1, f = 21960573.331905674\n",
      "Optimization restart 1/1, f = 24016635.2350951\n",
      "Optimization restart 1/1, f = 31.288865605237646\n",
      "Optimization restart 1/1, f = 38.09068110890412\n",
      "Optimization restart 1/1, f = 43.90199360256101\n",
      "Optimization restart 1/1, f = 49.639656779862186\n",
      "Optimization restart 1/1, f = 55.31491734205056\n",
      "Optimization restart 1/1, f = 61.12373894828768\n",
      "Optimization restart 1/1, f = 67.06049663670663\n",
      "Optimization restart 1/1, f = 72.84658673636618\n",
      "Optimization restart 1/1, f = 78.46090461969183\n",
      "Optimization restart 1/1, f = 84.02145940197961\n",
      "Optimization restart 1/1, f = 89.51455846661412\n",
      "Optimization restart 1/1, f = 94.9660494609585\n",
      "Optimization restart 1/1, f = 100.43606440307263\n",
      "Optimization restart 1/1, f = 107.33019860106768\n",
      "Optimization restart 1/1, f = 112.79172356052122\n",
      "Optimization restart 1/1, f = 119.73664945262442\n",
      "Optimization restart 1/1, f = 125.2119661919677\n",
      "Optimization restart 1/1, f = 131.65677674228212\n",
      "Optimization restart 1/1, f = 137.21106753714812\n",
      "Optimization restart 1/1, f = 142.6665891598458\n",
      "Optimization restart 1/1, f = 148.20402421103958\n",
      "Optimization restart 1/1, f = 28.14376491443529\n",
      "Optimization restart 1/1, f = 33.83384645038799\n",
      "Optimization restart 1/1, f = 39.34020635506733\n",
      "Optimization restart 1/1, f = 44.07975864098811\n",
      "Optimization restart 1/1, f = 49.266426147365344\n",
      "Optimization restart 1/1, f = 52.952098367249775\n",
      "Optimization restart 1/1, f = 56.98638264159969\n",
      "Optimization restart 1/1, f = 61.51814530618343\n",
      "Optimization restart 1/1, f = 64.33033145199225\n",
      "Optimization restart 1/1, f = 66.25329094966075\n",
      "Optimization restart 1/1, f = 67.43647784189625\n",
      "Optimization restart 1/1, f = 72.3563370886563\n",
      "Optimization restart 1/1, f = 76.54127640611776\n",
      "Optimization restart 1/1, f = 80.15486425373294\n",
      "Optimization restart 1/1, f = 80.29462285952658\n",
      "Optimization restart 1/1, f = 83.667756094786\n",
      "Optimization restart 1/1, f = 89.14559457273896\n",
      "Optimization restart 1/1, f = 92.50342105144031\n",
      "Optimization restart 1/1, f = 95.32247389157074\n",
      "Optimization restart 1/1, f = 96.6551636511056\n",
      "Optimization restart 1/1, f = 98.07621203551753\n",
      "Optimization restart 1/1, f = 29.32383923047981\n",
      "Optimization restart 1/1, f = 34.673927817151124\n",
      "Optimization restart 1/1, f = 40.05288770199726\n",
      "Optimization restart 1/1, f = 45.87645112252318\n",
      "Optimization restart 1/1, f = 51.12461984131092\n",
      "Optimization restart 1/1, f = 57.37130763929421\n",
      "Optimization restart 1/1, f = 62.61761106667577\n",
      "Optimization restart 1/1, f = 67.97438087131296\n",
      "Optimization restart 1/1, f = 73.12005656367421\n",
      "Optimization restart 1/1, f = 78.24060974650138\n",
      "Optimization restart 1/1, f = 83.49676650909402\n",
      "Optimization restart 1/1, f = 88.54831007130821\n",
      "Optimization restart 1/1, f = 93.60829857048212\n",
      "Optimization restart 1/1, f = 98.88064339284848\n",
      "Optimization restart 1/1, f = 105.15649129349899\n",
      "Optimization restart 1/1, f = 110.18510768541928\n",
      "Optimization restart 1/1, f = 115.18620823775\n",
      "Optimization restart 1/1, f = 126.44383967491201\n",
      "Optimization restart 1/1, f = 132.1099121684528\n",
      "Optimization restart 1/1, f = 137.77656104615397\n",
      "Optimization restart 1/1, f = 143.0418607627753\n",
      "Optimization restart 1/1, f = 23.479152990448775\n",
      "Optimization restart 1/1, f = 35.78616741144034\n",
      "Optimization restart 1/1, f = 41.75297756792919\n",
      "Optimization restart 1/1, f = 47.44321948485931\n",
      "Optimization restart 1/1, f = 52.37050875811492\n",
      "Optimization restart 1/1, f = 57.324881656323505\n",
      "Optimization restart 1/1, f = 61.92640212131489\n",
      "Optimization restart 1/1, f = 66.61375397349384\n",
      "Optimization restart 1/1, f = 71.37695675150513\n",
      "Optimization restart 1/1, f = 74.08014897718654\n",
      "Optimization restart 1/1, f = 78.147456984326\n",
      "Optimization restart 1/1, f = 81.35812168574051\n",
      "Optimization restart 1/1, f = 86.4629365774807\n",
      "Optimization restart 1/1, f = 89.93647144278296\n",
      "Optimization restart 1/1, f = 92.34610291264549\n",
      "Optimization restart 1/1, f = 94.35279486939571\n",
      "Optimization restart 1/1, f = 98.23993626493177\n",
      "Optimization restart 1/1, f = 103.49850651306441\n",
      "Optimization restart 1/1, f = 106.06395421689723\n",
      "Optimization restart 1/1, f = 107.6440394915246\n",
      "Optimization restart 1/1, f = 108.01076972914782\n",
      "Optimization restart 1/1, f = 713658.055570152\n",
      "Optimization restart 1/1, f = 1609061.414514336\n",
      "Optimization restart 1/1, f = 336837.1094333947\n",
      "Optimization restart 1/1, f = 36.16802848968698\n",
      "Optimization restart 1/1, f = 40.16576960862196\n",
      "Optimization restart 1/1, f = 45.99034709348657\n",
      "Optimization restart 1/1, f = 51.20478817314742\n",
      "Optimization restart 1/1, f = 55.33188330109118\n",
      "Optimization restart 1/1, f = 58.32423535493983\n",
      "Optimization restart 1/1, f = 61.532702002998676\n",
      "Optimization restart 1/1, f = 64.57190020120824\n",
      "Optimization restart 1/1, f = 68.15240002145852\n",
      "Optimization restart 1/1, f = 71.94782500125118\n",
      "Optimization restart 1/1, f = 75.11528797059346\n",
      "Optimization restart 1/1, f = 78.18858323960602\n",
      "Optimization restart 1/1, f = 82.80170092157358\n",
      "Optimization restart 1/1, f = 83.04898180573794\n",
      "Optimization restart 1/1, f = 85.03779410692476\n",
      "Optimization restart 1/1, f = 90.41464283624275\n",
      "Optimization restart 1/1, f = 95.28803528086803\n",
      "Optimization restart 1/1, f = 98.91095438834384\n",
      "Optimization restart 1/1, f = 20.785966078259044\n",
      "Optimization restart 1/1, f = 37.680169736604405\n",
      "Optimization restart 1/1, f = 43.42073131574933\n",
      "Optimization restart 1/1, f = 49.259617085525356\n",
      "Optimization restart 1/1, f = 55.97390870794924\n",
      "Optimization restart 1/1, f = 61.67806077414744\n",
      "Optimization restart 1/1, f = 67.3342863518653\n",
      "Optimization restart 1/1, f = 73.02141978867155\n",
      "Optimization restart 1/1, f = 78.66087865527318\n"
     ]
    },
    {
     "name": "stdout",
     "output_type": "stream",
     "text": [
      "Optimization restart 1/1, f = 84.60608464011534\n",
      "Optimization restart 1/1, f = 90.13194449420432\n",
      "Optimization restart 1/1, f = 96.14908161701135\n",
      "Optimization restart 1/1, f = 101.71274938730758\n",
      "Optimization restart 1/1, f = 107.96094925477432\n",
      "Optimization restart 1/1, f = 113.61853029459846\n",
      "Optimization restart 1/1, f = 119.76750654925954\n",
      "Optimization restart 1/1, f = 125.25298134788359\n",
      "Optimization restart 1/1, f = 130.7057592698655\n",
      "Optimization restart 1/1, f = 136.36344378889436\n",
      "Optimization restart 1/1, f = 143.6180229019242\n",
      "Optimization restart 1/1, f = 149.1026130923552\n",
      "Optimization restart 1/1, f = 1927569.4351349822\n",
      "Optimization restart 1/1, f = 5146467.01905448\n",
      "Optimization restart 1/1, f = 6550320.696311793\n",
      "Optimization restart 1/1, f = 7182412.44557667\n",
      "Optimization restart 1/1, f = 7665949.962034388\n",
      "Optimization restart 1/1, f = 7819318.668270855\n",
      "Optimization restart 1/1, f = 8162081.264127023\n",
      "Optimization restart 1/1, f = 10072031.740549482\n",
      "Optimization restart 1/1, f = 10072206.72559119\n",
      "Optimization restart 1/1, f = 10123486.59846111\n",
      "Optimization restart 1/1, f = 11358716.217228113\n",
      "Optimization restart 1/1, f = 12614933.888620663\n",
      "Optimization restart 1/1, f = 12824941.717794457\n",
      "Optimization restart 1/1, f = 5031473.484086115\n",
      "Optimization restart 1/1, f = 92.48775577692987\n",
      "Optimization restart 1/1, f = 97.55579913952919\n",
      "Optimization restart 1/1, f = 103.79995195601342\n",
      "Optimization restart 1/1, f = 109.60497253687181\n",
      "Optimization restart 1/1, f = 114.19563285157699\n",
      "Optimization restart 1/1, f = 118.25661469344114\n",
      "Optimization restart 1/1, f = 121.95962284675001\n"
     ]
    }
   ],
   "source": [
    "from emukit.benchmarking.loop_benchmarking.benchmarker import Benchmarker\n",
    "from emukit.benchmarking.loop_benchmarking.metrics import MinimumObservedValueMetric, TimeMetric\n",
    "n_repeats = 10\n",
    "n_initial_data = 5\n",
    "n_iterations = 20\n",
    "\n",
    "metrics = [MinimumObservedValueMetric(), TimeMetric()]\n",
    "\n",
    "benchmarkers = Benchmarker(loops, branin_fcn, parameter_space, metrics=metrics)\n",
    "benchmark_results = benchmarkers.run_benchmark(n_iterations=n_iterations, n_initial_data=n_initial_data, \n",
    "                                               n_repeats=n_repeats)"
   ]
  },
  {
   "cell_type": "markdown",
   "metadata": {},
   "source": [
    "# Plot results\n",
    "\n",
    "Plot the results of each method against each other. The plot shows the average value and standard deviation of the lowest observed value up to the given iteration."
   ]
  },
  {
   "cell_type": "code",
   "execution_count": 8,
   "metadata": {},
   "outputs": [
    {
     "data": {
      "image/png": "[encoded data removed]",
      "text/plain": [
       "<Figure size 432x288 with 1 Axes>"
      ]
     },
     "metadata": {
      "needs_background": "light"
     },
     "output_type": "display_data"
    }
   ],
   "source": [
    "from emukit.benchmarking.loop_benchmarking.benchmark_plot import BenchmarkPlot\n",
    "colours = ['m', 'c']\n",
    "line_styles = ['-', '--']\n",
    "\n",
    "metrics_to_plot = ['minimum_observed_value']\n",
    "plots = BenchmarkPlot(benchmark_results, loop_colours=colours, loop_line_styles=line_styles, \n",
    "                      metrics_to_plot=metrics_to_plot)\n",
    "plots.make_plot()"
   ]
  },
  {
   "cell_type": "markdown",
   "metadata": {},
   "source": [
    "# Plot results against time\n",
    "\n",
    "Using the `TimeMetric` object above, the time taken to complete each iteration of the loops was recorded. Here we plot the minimum observed value against the time taken."
   ]
  },
  {
   "cell_type": "code",
   "execution_count": 9,
   "metadata": {},
   "outputs": [
    {
     "data": {
      "image/png": "[encoded data removed]",
      "text/plain": [
       "<Figure size 432x288 with 1 Axes>"
      ]
     },
     "metadata": {
      "needs_background": "light"
     },
     "output_type": "display_data"
    }
   ],
   "source": [
    "# Plot against time\n",
    "plots = BenchmarkPlot(benchmark_results, loop_colours=colours, loop_line_styles=line_styles, \n",
    "                      x_axis_metric_name='time')\n",
    "plots.make_plot()"
   ]
  },
  {
   "cell_type": "markdown",
   "metadata": {},
   "source": [
    "# Conclusion\n",
    "\n",
    "We have shown how to use Emukit to benchmark different methods against each other for Bayesian optimziation. This methodology can easily be expanded to more loops using different models and acquisition functions."
   ]
  }
 ],
 "metadata": {
  "kernelspec": {
   "display_name": "Python 3",
   "language": "python",
   "name": "python3"
  },
  "language_info": {
   "codemirror_mode": {
    "name": "ipython",
    "version": 3
   },
   "file_extension": ".py",
   "mimetype": "text/x-python",
   "name": "python",
   "nbconvert_exporter": "python",
   "pygments_lexer": "ipython3",
   "version": "3.6.7"
  }
 },
 "nbformat": 4,
 "nbformat_minor": 2
}
