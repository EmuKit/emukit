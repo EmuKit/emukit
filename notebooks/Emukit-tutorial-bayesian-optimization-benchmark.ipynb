{
 "cells": [
  {
   "cell_type": "markdown",
   "metadata": {},
   "source": [
    "# Emukit Bayesian Optimization Benchmark\n",
    "\n",
    "This notebook uses the `emukit.benchmarking` package to compare two Bayesian optimization methods against each other, using the Branin test function."
   ]
  },
  {
   "cell_type": "code",
   "execution_count": 1,
   "metadata": {},
   "outputs": [],
   "source": [
    "import emukit\n",
    "import numpy as np"
   ]
  },
  {
   "cell_type": "markdown",
   "metadata": {},
   "source": [
    "## Set up test function\n",
    "\n",
    "We use the Branin function which is already included in Emukit, both the function and the appropriate input domain are ready made for us."
   ]
  },
  {
   "cell_type": "code",
   "execution_count": 2,
   "metadata": {},
   "outputs": [],
   "source": [
    "from emukit.test_functions.branin import branin_function\n",
    "branin_fcn, parameter_space = branin_function()"
   ]
  },
  {
   "cell_type": "markdown",
   "metadata": {},
   "source": [
    "## Set up methods to test\n",
    "\n",
    "We compare Bayesian optimization using different models. All the methods collect points one at a time in a sequential fashion and use the expected improvement acquisition function. The models we test are:\n",
    "- A Gaussian process with Matern52 covariance function\n",
    "- Random forest using the pyrfr package\n",
    "\n",
    "We choose to create lambda functions with a consistent interface that return an instance of a loop with a given initial data set."
   ]
  },
  {
   "cell_type": "code",
   "execution_count": 3,
   "metadata": {
    "scrolled": true
   },
   "outputs": [],
   "source": [
    "from emukit.examples.gp_bayesian_optimization.enums import ModelType, AcquisitionType\n",
    "from emukit.examples.gp_bayesian_optimization.optimization_loops import create_bayesian_optimization_loop\n",
    "from emukit.examples.gp_bayesian_optimization.single_objective_bayesian_optimization import GPBayesianOptimization\n",
    "\n",
    "loops = [\n",
    "    ('Random Forest', lambda loop_state: create_bayesian_optimization_loop(loop_state.X, loop_state.Y, parameter_space, AcquisitionType.EI, \n",
    "                                                                     ModelType.RandomForest)),\n",
    "    ('Gaussian Process', lambda loop_state: GPBayesianOptimization(parameter_space.parameters, loop_state.X, loop_state.Y, \n",
    "                                                             acquisition_type=AcquisitionType.EI, noiseless=True))\n",
    "]"
   ]
  },
  {
   "cell_type": "markdown",
   "metadata": {},
   "source": [
    "# Run benchmark\n",
    "\n",
    "A total of 10 initial data sets are generated of 5 observations that are randomly sampled from the input domain. For every intial data set, each method is run for 30 optimization iterations. The Gaussian process model has its hyper-parameters optimized after each function observation whereas the other models have fixed hyper-parameters."
   ]
  },
  {
   "cell_type": "code",
   "execution_count": 4,
   "metadata": {
    "scrolled": true
   },
   "outputs": [
    {
     "name": "stderr",
     "output_type": "stream",
     "text": [
      " /Users/marpulli/git/emukit/emukit/examples/models/random_forest.py:42: DataConversionWarning:A column-vector y was passed when a 1d array was expected. Please change the shape of y to (n_samples,), for example using ravel().\n"
     ]
    },
    {
     "ename": "AttributeError",
     "evalue": "'NoneType' object has no attribute 'shape'",
     "output_type": "error",
     "traceback": [
      "\u001b[0;31m---------------------------------------------------------------------------\u001b[0m",
      "\u001b[0;31mAttributeError\u001b[0m                            Traceback (most recent call last)",
      "\u001b[0;32m<ipython-input-4-4e88443dc82e>\u001b[0m in \u001b[0;36m<module>\u001b[0;34m\u001b[0m\n\u001b[1;32m      9\u001b[0m \u001b[0mbenchmarkers\u001b[0m \u001b[0;34m=\u001b[0m \u001b[0mBenchmarker\u001b[0m\u001b[0;34m(\u001b[0m\u001b[0mloops\u001b[0m\u001b[0;34m,\u001b[0m \u001b[0mbranin_fcn\u001b[0m\u001b[0;34m,\u001b[0m \u001b[0mparameter_space\u001b[0m\u001b[0;34m,\u001b[0m \u001b[0mmetrics\u001b[0m\u001b[0;34m=\u001b[0m\u001b[0mmetrics\u001b[0m\u001b[0;34m)\u001b[0m\u001b[0;34m\u001b[0m\u001b[0;34m\u001b[0m\u001b[0m\n\u001b[1;32m     10\u001b[0m benchmark_results = benchmarkers.run_benchmark(n_iterations=n_iterations, n_initial_data=n_initial_data, \n\u001b[0;32m---> 11\u001b[0;31m                                                n_repeats=n_repeats)\n\u001b[0m",
      "\u001b[0;32m~/git/emukit/emukit/benchmarking/loop_benchmarking/benchmarker.py\u001b[0m in \u001b[0;36mrun_benchmark\u001b[0;34m(self, n_initial_data, n_iterations, n_repeats)\u001b[0m\n\u001b[1;32m     62\u001b[0m                 \u001b[0m_log\u001b[0m\u001b[0;34m.\u001b[0m\u001b[0minfo\u001b[0m\u001b[0;34m(\u001b[0m\u001b[0;34m'Benchmarking loop '\u001b[0m \u001b[0;34m+\u001b[0m \u001b[0mstr\u001b[0m\u001b[0;34m(\u001b[0m\u001b[0mi\u001b[0m\u001b[0;34m)\u001b[0m \u001b[0;34m+\u001b[0m \u001b[0;34m' for repeat '\u001b[0m \u001b[0;34m+\u001b[0m \u001b[0mstr\u001b[0m\u001b[0;34m(\u001b[0m\u001b[0mj\u001b[0m\u001b[0;34m)\u001b[0m\u001b[0;34m)\u001b[0m\u001b[0;34m\u001b[0m\u001b[0;34m\u001b[0m\u001b[0m\n\u001b[1;32m     63\u001b[0m \u001b[0;34m\u001b[0m\u001b[0m\n\u001b[0;32m---> 64\u001b[0;31m                 \u001b[0mthis_loop\u001b[0m \u001b[0;34m=\u001b[0m \u001b[0mloop\u001b[0m\u001b[0;34m(\u001b[0m\u001b[0minitial_loop_state\u001b[0m\u001b[0;34m)\u001b[0m\u001b[0;34m\u001b[0m\u001b[0;34m\u001b[0m\u001b[0m\n\u001b[0m\u001b[1;32m     65\u001b[0m                 \u001b[0mthis_loop\u001b[0m\u001b[0;34m.\u001b[0m\u001b[0mloop_state\u001b[0m\u001b[0;34m.\u001b[0m\u001b[0mmetrics\u001b[0m \u001b[0;34m=\u001b[0m \u001b[0mdict\u001b[0m\u001b[0;34m(\u001b[0m\u001b[0;34m)\u001b[0m\u001b[0;34m\u001b[0m\u001b[0;34m\u001b[0m\u001b[0m\n\u001b[1;32m     66\u001b[0m                 \u001b[0mself\u001b[0m\u001b[0;34m.\u001b[0m\u001b[0m_subscribe_metrics_to_loop_events\u001b[0m\u001b[0;34m(\u001b[0m\u001b[0mthis_loop\u001b[0m\u001b[0;34m)\u001b[0m\u001b[0;34m\u001b[0m\u001b[0;34m\u001b[0m\u001b[0m\n",
      "\u001b[0;32m<ipython-input-3-efcfeeaa9647>\u001b[0m in \u001b[0;36m<lambda>\u001b[0;34m(loop_state)\u001b[0m\n\u001b[1;32m      5\u001b[0m loops = [\n\u001b[1;32m      6\u001b[0m     ('Random Forest', lambda loop_state: create_bayesian_optimization_loop(loop_state.X, loop_state.Y, parameter_space, AcquisitionType.EI, \n\u001b[0;32m----> 7\u001b[0;31m                                                                      ModelType.RandomForest)),\n\u001b[0m\u001b[1;32m      8\u001b[0m     ('Gaussian Process', lambda loop_state: GPBayesianOptimization(parameter_space.parameters, loop_state.X, loop_state.Y, \n\u001b[1;32m      9\u001b[0m                                                              acquisition_type=AcquisitionType.EI, noiseless=True))\n",
      "\u001b[0;32m~/git/emukit/emukit/examples/gp_bayesian_optimization/optimization_loops.py\u001b[0m in \u001b[0;36mcreate_bayesian_optimization_loop\u001b[0;34m(x_init, y_init, parameter_space, acquisition_type, model_type, cost_init, model_kwargs, acquisition_optimizer)\u001b[0m\n\u001b[1;32m     57\u001b[0m         \u001b[0macquisition_optimizer\u001b[0m \u001b[0;34m=\u001b[0m \u001b[0mGradientAcquisitionOptimizer\u001b[0m\u001b[0;34m(\u001b[0m\u001b[0mparameter_space\u001b[0m\u001b[0;34m)\u001b[0m\u001b[0;34m\u001b[0m\u001b[0;34m\u001b[0m\u001b[0m\n\u001b[1;32m     58\u001b[0m     \u001b[0mcandidate_point_calculator\u001b[0m \u001b[0;34m=\u001b[0m \u001b[0mSequentialPointCalculator\u001b[0m\u001b[0;34m(\u001b[0m\u001b[0macquisition\u001b[0m\u001b[0;34m,\u001b[0m \u001b[0macquisition_optimizer\u001b[0m\u001b[0;34m)\u001b[0m\u001b[0;34m\u001b[0m\u001b[0;34m\u001b[0m\u001b[0m\n\u001b[0;32m---> 59\u001b[0;31m     \u001b[0mloop_state\u001b[0m \u001b[0;34m=\u001b[0m \u001b[0mcreate_loop_state\u001b[0m\u001b[0;34m(\u001b[0m\u001b[0mx_init\u001b[0m\u001b[0;34m,\u001b[0m \u001b[0my_init\u001b[0m\u001b[0;34m,\u001b[0m \u001b[0mcost\u001b[0m\u001b[0;34m=\u001b[0m\u001b[0mcost_init\u001b[0m\u001b[0;34m)\u001b[0m\u001b[0;34m\u001b[0m\u001b[0;34m\u001b[0m\u001b[0m\n\u001b[0m\u001b[1;32m     60\u001b[0m     \u001b[0mmodel_updater\u001b[0m \u001b[0;34m=\u001b[0m \u001b[0mFixedIntervalUpdater\u001b[0m\u001b[0;34m(\u001b[0m\u001b[0mmodel\u001b[0m\u001b[0;34m,\u001b[0m \u001b[0;36m1\u001b[0m\u001b[0;34m)\u001b[0m\u001b[0;34m\u001b[0m\u001b[0;34m\u001b[0m\u001b[0m\n\u001b[1;32m     61\u001b[0m     \u001b[0;32mreturn\u001b[0m \u001b[0mOuterLoop\u001b[0m\u001b[0;34m(\u001b[0m\u001b[0mcandidate_point_calculator\u001b[0m\u001b[0;34m,\u001b[0m \u001b[0mmodel_updater\u001b[0m\u001b[0;34m,\u001b[0m \u001b[0mloop_state\u001b[0m\u001b[0;34m)\u001b[0m\u001b[0;34m\u001b[0m\u001b[0;34m\u001b[0m\u001b[0m\n",
      "\u001b[0;32m~/git/emukit/emukit/core/loop/loop_state.py\u001b[0m in \u001b[0;36mcreate_loop_state\u001b[0;34m(x_init, y_init, **kwargs)\u001b[0m\n\u001b[1;32m     68\u001b[0m \u001b[0;34m\u001b[0m\u001b[0m\n\u001b[1;32m     69\u001b[0m     \u001b[0;32mfor\u001b[0m \u001b[0mkey\u001b[0m\u001b[0;34m,\u001b[0m \u001b[0mvalue\u001b[0m \u001b[0;32min\u001b[0m \u001b[0mkwargs\u001b[0m\u001b[0;34m.\u001b[0m\u001b[0mitems\u001b[0m\u001b[0;34m(\u001b[0m\u001b[0;34m)\u001b[0m\u001b[0;34m:\u001b[0m\u001b[0;34m\u001b[0m\u001b[0;34m\u001b[0m\u001b[0m\n\u001b[0;32m---> 70\u001b[0;31m         \u001b[0;32mif\u001b[0m \u001b[0mvalue\u001b[0m\u001b[0;34m.\u001b[0m\u001b[0mshape\u001b[0m\u001b[0;34m[\u001b[0m\u001b[0;36m0\u001b[0m\u001b[0;34m]\u001b[0m \u001b[0;34m!=\u001b[0m \u001b[0mx_init\u001b[0m\u001b[0;34m.\u001b[0m\u001b[0mshape\u001b[0m\u001b[0;34m[\u001b[0m\u001b[0;36m0\u001b[0m\u001b[0;34m]\u001b[0m\u001b[0;34m:\u001b[0m\u001b[0;34m\u001b[0m\u001b[0;34m\u001b[0m\u001b[0m\n\u001b[0m\u001b[1;32m     71\u001b[0m             raise ValueError('Expected keyword argument {} to have length {} but actual length is {}'.format(\n\u001b[1;32m     72\u001b[0m                 key, x_init.shape[0], value.shape[0]))\n",
      "\u001b[0;31mAttributeError\u001b[0m: 'NoneType' object has no attribute 'shape'"
     ]
    }
   ],
   "source": [
    "from emukit.benchmarking.loop_benchmarking.benchmarker import Benchmarker\n",
    "from emukit.benchmarking.loop_benchmarking.metrics import MinimumObservedValueMetric, TimeMetric\n",
    "n_repeats = 10\n",
    "n_initial_data = 5\n",
    "n_iterations = 20\n",
    "\n",
    "metrics = [MinimumObservedValueMetric(), TimeMetric()]\n",
    "\n",
    "benchmarkers = Benchmarker(loops, branin_fcn, parameter_space, metrics=metrics)\n",
    "benchmark_results = benchmarkers.run_benchmark(n_iterations=n_iterations, n_initial_data=n_initial_data, \n",
    "                                               n_repeats=n_repeats)"
   ]
  },
  {
   "cell_type": "markdown",
   "metadata": {},
   "source": [
    "# Plot results\n",
    "\n",
    "Plot the results of each method against each other. The plot shows the average value and standard deviation of the lowest observed value up to the given iteration."
   ]
  },
  {
   "cell_type": "code",
   "execution_count": null,
   "metadata": {},
   "outputs": [],
   "source": [
    "from emukit.benchmarking.loop_benchmarking.benchmark_plot import BenchmarkPlot\n",
    "colours = ['m', 'c']\n",
    "line_styles = ['-', '--']\n",
    "\n",
    "metrics_to_plot = ['minimum_observed_value']\n",
    "plots = BenchmarkPlot(benchmark_results, loop_colours=colours, loop_line_styles=line_styles, \n",
    "                      metrics_to_plot=metrics_to_plot)\n",
    "plots.make_plot()"
   ]
  },
  {
   "cell_type": "markdown",
   "metadata": {},
   "source": [
    "# Plot results against time\n",
    "\n",
    "Using the `TimeMetric` object above, the time taken to complete each iteration of the loops was recorded. Here we plot the minimum observed value against the time taken."
   ]
  },
  {
   "cell_type": "code",
   "execution_count": 9,
   "metadata": {},
   "outputs": [
    {
     "data": {
      "image/png": "[encoded data removed]",
      "text/plain": [
       "<Figure size 432x288 with 1 Axes>"
      ]
     },
     "metadata": {
      "needs_background": "light"
     },
     "output_type": "display_data"
    }
   ],
   "source": [
    "# Plot against time\n",
    "plots = BenchmarkPlot(benchmark_results, loop_colours=colours, loop_line_styles=line_styles, \n",
    "                      x_axis_metric_name='time')\n",
    "plots.make_plot()"
   ]
  },
  {
   "cell_type": "markdown",
   "metadata": {},
   "source": [
    "# Conclusion\n",
    "\n",
    "We have shown how to use Emukit to benchmark different methods against each other for Bayesian optimziation. This methodology can easily be expanded to more loops using different models and acquisition functions."
   ]
  }
 ],
 "metadata": {
  "kernelspec": {
   "display_name": "Python 3",
   "language": "python",
   "name": "python3"
  },
  "language_info": {
   "codemirror_mode": {
    "name": "ipython",
    "version": 3
   },
   "file_extension": ".py",
   "mimetype": "text/x-python",
   "name": "python",
   "nbconvert_exporter": "python",
   "pygments_lexer": "ipython3",
   "version": "3.6.7"
  }
 },
 "nbformat": 4,
 "nbformat_minor": 2
}
