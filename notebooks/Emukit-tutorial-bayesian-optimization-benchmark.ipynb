{
 "cells": [
  {
   "cell_type": "markdown",
   "metadata": {},
   "source": [
    "# Emukit Bayesian Optimization Benchmark\n",
    "\n",
    "This notebook uses the `emukit.benchmarking` package to compare two Bayesian optimization methods against each other, using the Branin test function."
   ]
  },
  {
   "cell_type": "code",
   "execution_count": 1,
   "metadata": {},
   "outputs": [],
   "source": [
    "import emukit\n",
    "import numpy as np"
   ]
  },
  {
   "cell_type": "markdown",
   "metadata": {},
   "source": [
    "## Set up test function\n",
    "\n",
    "We use the Branin function which is already included in Emukit, both the function and the appropriate input domain are ready made for us."
   ]
  },
  {
   "cell_type": "code",
   "execution_count": 2,
   "metadata": {},
   "outputs": [],
   "source": [
    "from emukit.test_functions.branin import branin_function\n",
    "branin_fcn, parameter_space = branin_function()"
   ]
  },
  {
   "cell_type": "markdown",
   "metadata": {},
   "source": [
    "## Set up methods to test\n",
    "\n",
    "We compare Bayesian optimization using different models. All the methods collect points one at a time in a sequential fashion and use the expected improvement acquisition function. The models we test are:\n",
    "- A Gaussian process with Matern52 covariance function\n",
    "- Random forest using the pyrfr package\n",
    "\n",
    "We choose to create lambda functions with a consistent interface that return an instance of a loop with a given initial data set."
   ]
  },
  {
   "cell_type": "code",
   "execution_count": 3,
   "metadata": {
    "scrolled": true
   },
   "outputs": [],
   "source": [
    "from emukit.examples.gp_bayesian_optimization.enums import ModelType, AcquisitionType\n",
    "from emukit.examples.gp_bayesian_optimization.optimization_loops import create_bayesian_optimization_loop\n",
    "from emukit.examples.gp_bayesian_optimization.single_objective_bayesian_optimization import GPBayesianOptimization\n",
    "\n",
    "loops = [\n",
    "    ('Random Forest', lambda loop_state: create_bayesian_optimization_loop(loop_state.X, loop_state.Y, parameter_space, AcquisitionType.EI, \n",
    "                                                                     ModelType.RandomForest)),\n",
    "    ('Gaussian Process', lambda loop_state: GPBayesianOptimization(parameter_space.parameters, loop_state.X, loop_state.Y, \n",
    "                                                             acquisition_type=AcquisitionType.EI, noiseless=True))\n",
    "]"
   ]
  },
  {
   "cell_type": "markdown",
   "metadata": {},
   "source": [
    "# Run benchmark\n",
    "\n",
    "A total of 10 initial data sets are generated of 5 observations that are randomly sampled from the input domain. For every intial data set, each method is run for 30 optimization iterations. The Gaussian process model has its hyper-parameters optimized after each function observation whereas the other models have fixed hyper-parameters."
   ]
  },
  {
   "cell_type": "code",
   "execution_count": 4,
   "metadata": {
    "scrolled": true
   },
   "outputs": [
    {
     "name": "stderr",
     "output_type": "stream",
     "text": [
      " /Users/marpulli/miniconda3/lib/python3.6/site-packages/paramz/transformations.py:111: RuntimeWarning:overflow encountered in expm1\n"
     ]
    },
    {
     "name": "stdout",
     "output_type": "stream",
     "text": [
      "Optimization restart 1/1, f = 25.5470322184274\n",
      "Optimization restart 1/1, f = 30.18602300697501\n",
      "Optimization restart 1/1, f = 34.77383975972789\n",
      "Optimization restart 1/1, f = 39.27579970545233\n",
      "Optimization restart 1/1, f = 45.279742126096316\n",
      "Optimization restart 1/1, f = 49.83452548159511\n",
      "Optimization restart 1/1, f = 57.71211096023106\n",
      "Optimization restart 1/1, f = 63.408489237767775\n",
      "Optimization restart 1/1, f = 69.7657648537998\n",
      "Optimization restart 1/1, f = 74.11705706387997\n",
      "Optimization restart 1/1, f = 78.169700702114\n",
      "Optimization restart 1/1, f = 82.92986833538372\n",
      "Optimization restart 1/1, f = 85.96840421184503\n",
      "Optimization restart 1/1, f = 88.60100124126319\n",
      "Optimization restart 1/1, f = 91.58237562375848\n",
      "Optimization restart 1/1, f = 93.91219523954564\n",
      "Optimization restart 1/1, f = 97.81334922272859\n",
      "Optimization restart 1/1, f = 99.80933787223913\n",
      "Optimization restart 1/1, f = 99.64355892771789\n",
      "Optimization restart 1/1, f = 103.58354723380539\n",
      "Optimization restart 1/1, f = 106.36091412602798\n"
     ]
    },
    {
     "name": "stderr",
     "output_type": "stream",
     "text": [
      " /Users/marpulli/miniconda3/lib/python3.6/site-packages/paramz/transformations.py:111: RuntimeWarning:overflow encountered in expm1\n"
     ]
    },
    {
     "name": "stdout",
     "output_type": "stream",
     "text": [
      "Optimization restart 1/1, f = 27.836530536242154\n",
      "Optimization restart 1/1, f = 32.90842811940668\n",
      "Optimization restart 1/1, f = 37.829132482846155\n",
      "Optimization restart 1/1, f = 43.41402878466789\n",
      "Optimization restart 1/1, f = 49.399509158910774\n",
      "Optimization restart 1/1, f = 54.055567768906336\n",
      "Optimization restart 1/1, f = 59.02852439781061\n",
      "Optimization restart 1/1, f = 62.643812804139614\n",
      "Optimization restart 1/1, f = 66.20945944351806\n",
      "Optimization restart 1/1, f = 68.73018663314333\n",
      "Optimization restart 1/1, f = 74.19681739131704\n",
      "Optimization restart 1/1, f = 78.61873598586246\n",
      "Optimization restart 1/1, f = 82.52788425607052\n",
      "Optimization restart 1/1, f = 86.18976628665932\n",
      "Optimization restart 1/1, f = 89.33489501677641\n",
      "Optimization restart 1/1, f = 91.5829744818464\n",
      "Optimization restart 1/1, f = 91.9886851447681\n",
      "Optimization restart 1/1, f = 96.48998261888111\n",
      "Optimization restart 1/1, f = 98.24387224885808\n",
      "Optimization restart 1/1, f = 100.45961016133991\n",
      "Optimization restart 1/1, f = 100.69119315827253\n"
     ]
    },
    {
     "name": "stderr",
     "output_type": "stream",
     "text": [
      " /Users/marpulli/miniconda3/lib/python3.6/site-packages/GPy/kern/src/stationary.py:168: RuntimeWarning:overflow encountered in true_divide\n",
      " /Users/marpulli/miniconda3/lib/python3.6/site-packages/GPy/kern/src/stationary.py:551: RuntimeWarning:invalid value encountered in multiply\n",
      " /Users/marpulli/miniconda3/lib/python3.6/site-packages/paramz/transformations.py:111: RuntimeWarning:overflow encountered in expm1\n"
     ]
    },
    {
     "name": "stdout",
     "output_type": "stream",
     "text": [
      "Optimization restart 1/1, f = 9544.951010929284\n",
      "Optimization restart 1/1, f = 33.11222834217144\n",
      "Optimization restart 1/1, f = 38.55967077332465\n",
      "Optimization restart 1/1, f = 43.874377933891004\n",
      "Optimization restart 1/1, f = 49.035984917501246\n",
      "Optimization restart 1/1, f = 53.98493197355749\n",
      "Optimization restart 1/1, f = 58.86089856623372\n",
      "Optimization restart 1/1, f = 63.74302430235618\n",
      "Optimization restart 1/1, f = 68.5494755670191\n",
      "Optimization restart 1/1, f = 74.36117580422368\n",
      "Optimization restart 1/1, f = 83.93138680051584\n",
      "Optimization restart 1/1, f = 89.01206854101929\n",
      "Optimization restart 1/1, f = 94.151482205532\n",
      "Optimization restart 1/1, f = 99.18630445546243\n",
      "Optimization restart 1/1, f = 104.4463153879492\n",
      "Optimization restart 1/1, f = 109.55975581227881\n",
      "Optimization restart 1/1, f = 114.6545440311893\n",
      "Optimization restart 1/1, f = 119.84711215594932\n",
      "Optimization restart 1/1, f = 124.84692225463206\n",
      "Optimization restart 1/1, f = 129.80964666855542\n",
      "Optimization restart 1/1, f = 134.71738994792486\n"
     ]
    },
    {
     "name": "stderr",
     "output_type": "stream",
     "text": [
      " /Users/marpulli/miniconda3/lib/python3.6/site-packages/paramz/transformations.py:111: RuntimeWarning:overflow encountered in expm1\n"
     ]
    },
    {
     "name": "stdout",
     "output_type": "stream",
     "text": [
      "Optimization restart 1/1, f = 30.92053671806591\n",
      "Optimization restart 1/1, f = 36.69270045163513\n",
      "Optimization restart 1/1, f = 43.08722928307922\n",
      "Optimization restart 1/1, f = 48.715209249496965\n",
      "Optimization restart 1/1, f = 54.286887711716986\n",
      "Optimization restart 1/1, f = 59.803021607999256\n",
      "Optimization restart 1/1, f = 66.2233554897513\n",
      "Optimization restart 1/1, f = 71.9812271059596\n",
      "Optimization restart 1/1, f = 77.46091424321678\n",
      "Optimization restart 1/1, f = 83.38949983420338\n",
      "Optimization restart 1/1, f = 89.60768556125919\n",
      "Optimization restart 1/1, f = 95.1629006854754\n",
      "Optimization restart 1/1, f = 100.76361859376455\n",
      "Optimization restart 1/1, f = 106.52139919058997\n",
      "Optimization restart 1/1, f = 111.93813235050817\n",
      "Optimization restart 1/1, f = 117.37820437452115\n",
      "Optimization restart 1/1, f = 122.75696431620712\n",
      "Optimization restart 1/1, f = 128.2323914159556\n",
      "Optimization restart 1/1, f = 133.65744709181175\n",
      "Optimization restart 1/1, f = 140.11226634708146\n",
      "Optimization restart 1/1, f = 145.54048136504997\n"
     ]
    },
    {
     "name": "stderr",
     "output_type": "stream",
     "text": [
      " /Users/marpulli/miniconda3/lib/python3.6/site-packages/paramz/transformations.py:111: RuntimeWarning:overflow encountered in expm1\n"
     ]
    },
    {
     "name": "stdout",
     "output_type": "stream",
     "text": [
      "Optimization restart 1/1, f = 24.926239367637073\n",
      "Optimization restart 1/1, f = 29.913296272043123\n",
      "Optimization restart 1/1, f = 36.40558699733244\n",
      "Optimization restart 1/1, f = 39.755142756692116\n",
      "Optimization restart 1/1, f = 42.30143913670721\n",
      "Optimization restart 1/1, f = 45.76437651352971\n",
      "Optimization restart 1/1, f = 51.092407564899396\n",
      "Optimization restart 1/1, f = 51.56237750314517\n",
      "Optimization restart 1/1, f = 58.76811619248467\n",
      "Optimization restart 1/1, f = 61.27656211334025\n",
      "Optimization restart 1/1, f = 74.73919587850997\n",
      "Optimization restart 1/1, f = 80.01867352379257\n",
      "Optimization restart 1/1, f = 85.40327410380777\n",
      "Optimization restart 1/1, f = 89.86188181282293\n",
      "Optimization restart 1/1, f = 95.08032579388646\n",
      "Optimization restart 1/1, f = 98.88943241524956\n",
      "Optimization restart 1/1, f = 101.24537117205169\n",
      "Optimization restart 1/1, f = 104.9755892125606\n",
      "Optimization restart 1/1, f = 107.61680321317989\n",
      "Optimization restart 1/1, f = 110.91854725680273\n",
      "Optimization restart 1/1, f = 111.44872220221217\n"
     ]
    },
    {
     "name": "stderr",
     "output_type": "stream",
     "text": [
      " /Users/marpulli/miniconda3/lib/python3.6/site-packages/paramz/transformations.py:111: RuntimeWarning:overflow encountered in expm1\n",
      " /Users/marpulli/miniconda3/lib/python3.6/site-packages/GPy/kern/src/stationary.py:168: RuntimeWarning:overflow encountered in true_divide\n",
      " /Users/marpulli/miniconda3/lib/python3.6/site-packages/GPy/kern/src/stationary.py:551: RuntimeWarning:invalid value encountered in multiply\n"
     ]
    },
    {
     "name": "stdout",
     "output_type": "stream",
     "text": [
      "Optimization restart 1/1, f = 29.96298353733568\n",
      "Optimization restart 1/1, f = 37.249215187449884\n",
      "Optimization restart 1/1, f = 42.91909088008915\n",
      "Optimization restart 1/1, f = 48.532597903827494\n",
      "Optimization restart 1/1, f = 54.1446432053736\n",
      "Optimization restart 1/1, f = 60.14691407338602\n",
      "Optimization restart 1/1, f = 65.67118597812556\n",
      "Optimization restart 1/1, f = 71.11961655740332\n",
      "Optimization restart 1/1, f = 76.76292595953933\n",
      "Optimization restart 1/1, f = 82.20992167870186\n",
      "Optimization restart 1/1, f = 87.56808924936279\n",
      "Optimization restart 1/1, f = 92.95694214755117\n",
      "Optimization restart 1/1, f = 98.93600257416028\n",
      "Optimization restart 1/1, f = 104.4084100233467\n",
      "Optimization restart 1/1, f = 109.724946676732\n",
      "Optimization restart 1/1, f = 115.00143433135455\n",
      "Optimization restart 1/1, f = 120.24280058416423\n",
      "Optimization restart 1/1, f = 125.46470779313925\n",
      "Optimization restart 1/1, f = 133.22298624333274\n",
      "Optimization restart 1/1, f = 138.5372081772901\n",
      "Optimization restart 1/1, f = 144.6565822881205\n"
     ]
    },
    {
     "name": "stderr",
     "output_type": "stream",
     "text": [
      " /Users/marpulli/miniconda3/lib/python3.6/site-packages/paramz/transformations.py:111: RuntimeWarning:overflow encountered in expm1\n"
     ]
    },
    {
     "name": "stdout",
     "output_type": "stream",
     "text": [
      "Optimization restart 1/1, f = 26.575601087566117\n",
      "Optimization restart 1/1, f = 32.882870535059155\n",
      "Optimization restart 1/1, f = 39.64984328991697\n",
      "Optimization restart 1/1, f = 44.81791618813332\n",
      "Optimization restart 1/1, f = 49.55289494562957\n",
      "Optimization restart 1/1, f = 53.354402993778244\n",
      "Optimization restart 1/1, f = 57.05562740268452\n",
      "Optimization restart 1/1, f = 61.23118396014632\n",
      "Optimization restart 1/1, f = 63.25210324172785\n",
      "Optimization restart 1/1, f = 69.52071043115944\n",
      "Optimization restart 1/1, f = 73.74848204855833\n",
      "Optimization restart 1/1, f = 77.4845766740822\n",
      "Optimization restart 1/1, f = 81.03469008861182\n",
      "Optimization restart 1/1, f = 84.4996009910425\n",
      "Optimization restart 1/1, f = 88.0458898303127\n",
      "Optimization restart 1/1, f = 89.261498681588\n",
      "Optimization restart 1/1, f = 89.56680784205768\n",
      "Optimization restart 1/1, f = 96.42141147932134\n",
      "Optimization restart 1/1, f = 100.59401742441104\n",
      "Optimization restart 1/1, f = 102.80819544622007\n",
      "Optimization restart 1/1, f = 104.71019484428403\n"
     ]
    },
    {
     "name": "stderr",
     "output_type": "stream",
     "text": [
      " /Users/marpulli/miniconda3/lib/python3.6/site-packages/paramz/transformations.py:111: RuntimeWarning:overflow encountered in expm1\n"
     ]
    },
    {
     "name": "stdout",
     "output_type": "stream",
     "text": [
      "Optimization restart 1/1, f = 27.178649001856684\n",
      "Optimization restart 1/1, f = 37.415794323314486\n",
      "Optimization restart 1/1, f = 43.26418855844944\n",
      "Optimization restart 1/1, f = 48.872994259096686\n",
      "Optimization restart 1/1, f = 53.83731211803996\n",
      "Optimization restart 1/1, f = 57.783948361046924\n",
      "Optimization restart 1/1, f = 60.77223324212782\n",
      "Optimization restart 1/1, f = 64.4436095152125\n",
      "Optimization restart 1/1, f = 65.16229040765003\n",
      "Optimization restart 1/1, f = 71.78572805999839\n",
      "Optimization restart 1/1, f = 76.60495077043707\n",
      "Optimization restart 1/1, f = 81.70045595631865\n",
      "Optimization restart 1/1, f = 84.96136412986264\n",
      "Optimization restart 1/1, f = 88.70311744957556\n",
      "Optimization restart 1/1, f = 91.28128842590583\n",
      "Optimization restart 1/1, f = 93.0605235566763\n",
      "Optimization restart 1/1, f = 95.63102946259838\n",
      "Optimization restart 1/1, f = 101.19406888194794\n",
      "Optimization restart 1/1, f = 104.40000126195085\n",
      "Optimization restart 1/1, f = 107.21250954835983\n",
      "Optimization restart 1/1, f = 109.11987382818006\n"
     ]
    },
    {
     "name": "stderr",
     "output_type": "stream",
     "text": [
      " /Users/marpulli/miniconda3/lib/python3.6/site-packages/paramz/transformations.py:111: RuntimeWarning:overflow encountered in expm1\n"
     ]
    },
    {
     "name": "stdout",
     "output_type": "stream",
     "text": [
      "Optimization restart 1/1, f = 24.674982462585003\n",
      "Optimization restart 1/1, f = 30.070259172446303\n",
      "Optimization restart 1/1, f = 35.345858923294124\n",
      "Optimization restart 1/1, f = 40.200028900585025\n",
      "Optimization restart 1/1, f = 44.56369222774292\n",
      "Optimization restart 1/1, f = 48.946279457293315\n",
      "Optimization restart 1/1, f = 54.49337184317026\n",
      "Optimization restart 1/1, f = 59.02063493565577\n",
      "Optimization restart 1/1, f = 61.91197330591243\n",
      "Optimization restart 1/1, f = 64.12015151976517\n",
      "Optimization restart 1/1, f = 69.32330834826864\n",
      "Optimization restart 1/1, f = 73.07321233995994\n",
      "Optimization restart 1/1, f = 75.30464397830737\n",
      "Optimization restart 1/1, f = 76.83715778036525\n",
      "Optimization restart 1/1, f = 76.8423213499019\n",
      "Optimization restart 1/1, f = 75.9024873188911\n",
      "Optimization restart 1/1, f = 79.35770020247777\n",
      "Optimization restart 1/1, f = 77.25854674180363\n",
      "Optimization restart 1/1, f = 74.96637374073114\n",
      "Optimization restart 1/1, f = 76.30689067193683\n",
      "Optimization restart 1/1, f = 73.94028180092727\n"
     ]
    },
    {
     "name": "stderr",
     "output_type": "stream",
     "text": [
      " /Users/marpulli/miniconda3/lib/python3.6/site-packages/paramz/transformations.py:111: RuntimeWarning:overflow encountered in expm1\n"
     ]
    },
    {
     "name": "stdout",
     "output_type": "stream",
     "text": [
      "Optimization restart 1/1, f = 25.42688527703912\n",
      "Optimization restart 1/1, f = 30.274838621096944\n",
      "Optimization restart 1/1, f = 35.734871694265436\n",
      "Optimization restart 1/1, f = 40.12792530119823\n",
      "Optimization restart 1/1, f = 44.55455953151398\n",
      "Optimization restart 1/1, f = 49.10885504790364\n",
      "Optimization restart 1/1, f = 53.296560845020274\n",
      "Optimization restart 1/1, f = 61.78311343176486\n",
      "Optimization restart 1/1, f = 66.67700703232029\n",
      "Optimization restart 1/1, f = 77.955235089316\n",
      "Optimization restart 1/1, f = 82.40009097199221\n",
      "Optimization restart 1/1, f = 86.96416384747147\n",
      "Optimization restart 1/1, f = 90.83100786910975\n",
      "Optimization restart 1/1, f = 94.52319316563272\n",
      "Optimization restart 1/1, f = 97.66059573672568\n",
      "Optimization restart 1/1, f = 99.74513928678118\n",
      "Optimization restart 1/1, f = 104.926547510068\n",
      "Optimization restart 1/1, f = 108.61085238102743\n",
      "Optimization restart 1/1, f = 110.15468800248559\n",
      "Optimization restart 1/1, f = 113.02443993093505\n",
      "Optimization restart 1/1, f = 114.0193038228087\n"
     ]
    }
   ],
   "source": [
    "from emukit.benchmarking.loop_benchmarking.benchmarker import Benchmarker\n",
    "from emukit.benchmarking.loop_benchmarking.metrics import MinimumObservedValueMetric, TimeMetric\n",
    "n_repeats = 10\n",
    "n_initial_data = 5\n",
    "n_iterations = 20\n",
    "\n",
    "metrics = [MinimumObservedValueMetric(), TimeMetric()]\n",
    "\n",
    "benchmarkers = Benchmarker(loops, branin_fcn, parameter_space, metrics=metrics)\n",
    "benchmark_results = benchmarkers.run_benchmark(n_iterations=n_iterations, n_initial_data=n_initial_data, \n",
    "                                               n_repeats=n_repeats)"
   ]
  },
  {
   "cell_type": "markdown",
   "metadata": {},
   "source": [
    "# Plot results\n",
    "\n",
    "Plot the results of each method against each other. The plot shows the average value and standard deviation of the lowest observed value up to the given iteration."
   ]
  },
  {
   "cell_type": "code",
   "execution_count": 5,
   "metadata": {
    "scrolled": true
   },
   "outputs": [
    {
     "data": {
      "image/png": "[encoded data removed]",
      "text/plain": [
       "<Figure size 432x288 with 1 Axes>"
      ]
     },
     "metadata": {
      "needs_background": "light"
     },
     "output_type": "display_data"
    }
   ],
   "source": [
    "from emukit.benchmarking.loop_benchmarking.benchmark_plot import BenchmarkPlot\n",
    "colours = ['m', 'c']\n",
    "line_styles = ['-', '--']\n",
    "\n",
    "metrics_to_plot = ['minimum_observed_value']\n",
    "plots = BenchmarkPlot(benchmark_results, loop_colours=colours, loop_line_styles=line_styles, \n",
    "                      metrics_to_plot=metrics_to_plot)\n",
    "plots.make_plot()"
   ]
  },
  {
   "cell_type": "markdown",
   "metadata": {},
   "source": [
    "# Plot results against time\n",
    "\n",
    "Using the `TimeMetric` object above, the time taken to complete each iteration of the loops was recorded. Here we plot the minimum observed value against the time taken."
   ]
  },
  {
   "cell_type": "code",
   "execution_count": 6,
   "metadata": {},
   "outputs": [
    {
     "data": {
      "image/png": "[encoded data removed]",
      "text/plain": [
       "<Figure size 432x288 with 1 Axes>"
      ]
     },
     "metadata": {
      "needs_background": "light"
     },
     "output_type": "display_data"
    }
   ],
   "source": [
    "# Plot against time\n",
    "plots = BenchmarkPlot(benchmark_results, loop_colours=colours, loop_line_styles=line_styles, \n",
    "                      x_axis_metric_name='time')\n",
    "plots.make_plot()"
   ]
  },
  {
   "cell_type": "markdown",
   "metadata": {},
   "source": [
    "# Conclusion\n",
    "\n",
    "We have shown how to use Emukit to benchmark different methods against each other for Bayesian optimziation. This methodology can easily be expanded to more loops using different models and acquisition functions."
   ]
  }
 ],
 "metadata": {
  "kernelspec": {
   "display_name": "Python 3",
   "language": "python",
   "name": "python3"
  },
  "language_info": {
   "codemirror_mode": {
    "name": "ipython",
    "version": 3
   },
   "file_extension": ".py",
   "mimetype": "text/x-python",
   "name": "python",
   "nbconvert_exporter": "python",
   "pygments_lexer": "ipython3",
   "version": "3.6.7"
  }
 },
 "nbformat": 4,
 "nbformat_minor": 2
}
