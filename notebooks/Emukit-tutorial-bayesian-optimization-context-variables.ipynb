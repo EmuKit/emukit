{
 "cells": [
  {
   "cell_type": "markdown",
   "metadata": {},
   "source": [
    "# Bayesian optimization with context variables"
   ]
  },
  {
   "cell_type": "markdown",
   "metadata": {},
   "source": [
    "In this notebook we are going to see how to use Emukit to solve optimization problems in which certain variables are fixed during the optimization phase. These are called context variables [[1](#-references)]. This is useful when some of the variables in the optimization are controllable/known factors. And example is the optimization of a the movement of a robot under  conditions of the environment change (but the change is known)."
   ]
  },
  {
   "cell_type": "code",
   "execution_count": 12,
   "metadata": {
    "collapsed": true
   },
   "outputs": [],
   "source": [
    "from emukit.test_functions import branin_function\n",
    "from emukit.core import ParameterSpace, ContinuousParameter, DiscreteParameter\n",
    "from emukit.core.initial_designs import RandomDesign\n",
    "from GPy.models import GPRegression\n",
    "from emukit.model_wrappers import GPyModelWrapper\n",
    "from emukit.bayesian_optimization.acquisitions import ExpectedImprovement\n",
    "from emukit.bayesian_optimization.loops import BayesianOptimizationLoop\n",
    "from emukit.core.loop import FixedIterationsStoppingCondition"
   ]
  },
  {
   "cell_type": "markdown",
   "metadata": {},
   "source": [
    "### Loading the problem and the loop"
   ]
  },
  {
   "cell_type": "code",
   "execution_count": 13,
   "metadata": {
    "collapsed": true
   },
   "outputs": [],
   "source": [
    "f, parameter_space = branin_function()"
   ]
  },
  {
   "cell_type": "markdown",
   "metadata": {},
   "source": [
    "Now we define the domain of the function to optimize."
   ]
  },
  {
   "cell_type": "markdown",
   "metadata": {},
   "source": [
    "We build the model:"
   ]
  },
  {
   "cell_type": "code",
   "execution_count": 20,
   "metadata": {
    "collapsed": true
   },
   "outputs": [],
   "source": [
    "design = RandomDesign(parameter_space) # Collect random points\n",
    "X = design.get_samples(10)\n",
    "Y = f(X)\n",
    "model_gpy = GPRegression(X,Y) # Train and wrap the model in Emukit\n",
    "model_emukit = GPyModelWrapper(model_gpy)"
   ]
  },
  {
   "cell_type": "markdown",
   "metadata": {},
   "source": [
    "And prepare the optimization object to run the loop."
   ]
  },
  {
   "cell_type": "code",
   "execution_count": 21,
   "metadata": {
    "collapsed": true
   },
   "outputs": [],
   "source": [
    "expected_improvement = ExpectedImprovement(model = model_emukit)\n",
    "bayesopt_loop = BayesianOptimizationLoop(model = model_emukit,\n",
    "                                         space = parameter_space,\n",
    "                                         acquisition = expected_improvement,\n",
    "                                         batch_size = 1)"
   ]
  },
  {
   "cell_type": "markdown",
   "metadata": {},
   "source": [
    "Now, we set the number of iterations to run to 10."
   ]
  },
  {
   "cell_type": "code",
   "execution_count": 22,
   "metadata": {
    "collapsed": true,
    "scrolled": false
   },
   "outputs": [],
   "source": [
    "max_iter = 10"
   ]
  },
  {
   "cell_type": "markdown",
   "metadata": {},
   "source": [
    "### Running the optimization by setting a context variable"
   ]
  },
  {
   "cell_type": "markdown",
   "metadata": {},
   "source": [
    "To set a context, we just need to create a dictionary with the variables to fix and pass it to the Bayesian optimization object when running the optimization. Note that, every time we run new iterations we can set other variables to be the context. We run 3 sequences of 10 iterations each with different values of the context."
   ]
  },
  {
   "cell_type": "code",
   "execution_count": 23,
   "metadata": {},
   "outputs": [
    {
     "name": "stdout",
     "output_type": "stream",
     "text": [
      "Optimization restart 1/1, f = 55.82239092951151\n",
      "Optimization restart 1/1, f = 61.3846273395993\n",
      "Optimization restart 1/1, f = 65.9026092044098\n",
      "Optimization restart 1/1, f = 70.10888667806952\n",
      "Optimization restart 1/1, f = 74.1328973094729\n",
      "Optimization restart 1/1, f = 77.99175645392145\n",
      "Optimization restart 1/1, f = 52.29992606115588\n",
      "Optimization restart 1/1, f = 57.2135370696718\n",
      "Optimization restart 1/1, f = 61.71269586013616\n",
      "Optimization restart 1/1, f = 64.61711212283623\n",
      "Optimization restart 1/1, f = 67.32871572150273\n",
      "Optimization restart 1/1, f = 67.32871572150273\n",
      "Optimization restart 1/1, f = 72.46948949054092\n",
      "Optimization restart 1/1, f = 76.3396222448238\n",
      "Optimization restart 1/1, f = 80.13694597576568\n",
      "Optimization restart 1/1, f = 82.78050118466332\n",
      "Optimization restart 1/1, f = 85.53554907845636\n",
      "Optimization restart 1/1, f = 87.66997139826\n",
      "Optimization restart 1/1, f = 82.51513223264337\n",
      "Optimization restart 1/1, f = 74.56925204657252\n",
      "Optimization restart 1/1, f = 66.47734698335717\n",
      "Optimization restart 1/1, f = 58.330733958274834\n",
      "Optimization restart 1/1, f = 58.330733958274834\n",
      "Optimization restart 1/1, f = 64.60067656071124\n",
      "Optimization restart 1/1, f = 70.20437602983576\n",
      "Optimization restart 1/1, f = 75.80428915860006\n",
      "Optimization restart 1/1, f = 80.95909118096986\n",
      "Optimization restart 1/1, f = 85.034596272839\n",
      "Optimization restart 1/1, f = 89.12568615232692\n",
      "Optimization restart 1/1, f = 92.23693057747008\n",
      "Optimization restart 1/1, f = 97.40863200244975\n",
      "Optimization restart 1/1, f = 102.46737266911367\n",
      "Optimization restart 1/1, f = 106.5758265632924\n"
     ]
    }
   ],
   "source": [
    "bayesopt_loop.run_loop(f, max_iter, context={'x1':0.3}) # we set x1 as the context variable\n",
    "bayesopt_loop.run_loop(f, max_iter, context={'x2':0.1}) # we set x2 as the context variable\n",
    "bayesopt_loop.run_loop(f, max_iter) # no context"
   ]
  },
  {
   "cell_type": "markdown",
   "metadata": {},
   "source": [
    "We can now inspect the collected points."
   ]
  },
  {
   "cell_type": "code",
   "execution_count": 24,
   "metadata": {},
   "outputs": [
    {
     "data": {
      "text/plain": [
       "array([[-2.86743881,  3.59367664],\n",
       "       [-0.8549767 ,  4.35170154],\n",
       "       [-4.19297718,  5.75740955],\n",
       "       [ 4.09539566,  9.60446259],\n",
       "       [-1.1567395 ,  9.34152556],\n",
       "       [-4.78218511,  1.6005059 ],\n",
       "       [ 9.81108434,  0.68328574],\n",
       "       [-3.38000907,  7.03298957],\n",
       "       [ 2.24030232,  1.75291367],\n",
       "       [ 2.59017018,  7.90703187],\n",
       "       [ 0.3       , 15.        ],\n",
       "       [ 0.3       ,  5.9568478 ],\n",
       "       [ 0.3       ,  6.0418334 ],\n",
       "       [ 0.3       ,  6.02940932],\n",
       "       [ 0.3       ,  5.96593168],\n",
       "       [ 0.3       ,  5.79749794],\n",
       "       [ 0.3       ,  0.        ],\n",
       "       [ 0.3       , 11.39503045],\n",
       "       [ 0.3       ,  2.05768221],\n",
       "       [ 0.3       , 13.31713269],\n",
       "       [ 6.27026404,  0.1       ],\n",
       "       [10.        ,  0.1       ],\n",
       "       [ 3.8018847 ,  0.1       ],\n",
       "       [ 4.24030648,  0.1       ],\n",
       "       [ 3.23298497,  0.1       ],\n",
       "       [ 9.03660343,  0.1       ],\n",
       "       [ 3.43316197,  0.1       ],\n",
       "       [ 3.43169522,  0.1       ],\n",
       "       [ 3.42251264,  0.1       ],\n",
       "       [ 3.43341329,  0.1       ],\n",
       "       [10.        , 15.        ],\n",
       "       [10.        ,  6.17855086],\n",
       "       [-5.        , 12.67836313],\n",
       "       [ 5.73368901,  4.73475117],\n",
       "       [10.        ,  3.76300377],\n",
       "       [-3.81429212, 10.31416342],\n",
       "       [ 3.09393687,  4.05391353],\n",
       "       [-4.2297243 , 15.        ],\n",
       "       [10.        , 10.01932978],\n",
       "       [-2.99896834, 13.20862014]])"
      ]
     },
     "execution_count": 24,
     "metadata": {},
     "output_type": "execute_result"
    }
   ],
   "source": [
    "bayesopt_loop.loop_state.X"
   ]
  },
  {
   "cell_type": "markdown",
   "metadata": {
    "collapsed": true
   },
   "source": [
    "## References\n",
    "\n",
    "* [1] Krause, A. & Ong, C. S. Contextual gaussian process bandit optimization Advances in Neural Information Processing Systems (NIPS), 2011, 2447-2455*"
   ]
  }
 ],
 "metadata": {
  "anaconda-cloud": {},
  "kernelspec": {
   "display_name": "Python 3",
   "language": "python",
   "name": "python3"
  },
  "language_info": {
   "codemirror_mode": {
    "name": "ipython",
    "version": 3
   },
   "file_extension": ".py",
   "mimetype": "text/x-python",
   "name": "python",
   "nbconvert_exporter": "python",
   "pygments_lexer": "ipython3",
   "version": "3.6.8"
  }
 },
 "nbformat": 4,
 "nbformat_minor": 1
}
