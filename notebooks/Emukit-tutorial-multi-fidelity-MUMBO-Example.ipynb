{
 "cells": [
  {
   "cell_type": "markdown",
   "metadata": {},
   "source": [
    "# Demo of MUMBO for multi-fidelity Bayesian Optimisation"
   ]
  },
  {
   "cell_type": "markdown",
   "metadata": {},
   "source": [
    "This notebook provides a demo of the MUlti-task Max-value Bayesian Optimisation (MUMBO) acquisition function of Moss et al [2020].\n",
    "https://arxiv.org/abs/2006.12093\n",
    "\n",
    "MUMBO provides the high perfoming optimization of other entropy-based acquisitions. However, unlike the standard entropy-search for multi-fidelity optimization, MUMBO requires a fraction of the computational cost. MUMBO is a multi-fidelity (or multi-task) extension of max-value entropy search also availible in Emukit.\n",
    "\n",
    "Our implementation of MUMBO is controlled by two parameters: \"num_samples\" and \"grid_size\". \"num_samples\" controls how many mote-carlo samples we use to calculate entropy reductions. As we only approximate a 1-d integral, \"num_samples\" does not need to be large or be increased for problems with large d (unlike standard entropy-search). We recomend values between 5-15. \"grid_size\" controls the coarseness of the grid used to approximate the distribution of our max value and so must increase with d. We recommend 10,000*d. Note that as the grid must only be calculated once per BO step, the choice of \"grid_size\" does not have a large impact on computation time.  \n"
   ]
  },
  {
   "cell_type": "code",
   "execution_count": 1,
   "metadata": {},
   "outputs": [],
   "source": [
    "### General imports\n",
    "%matplotlib inline\n",
    "import numpy as np\n",
    "import matplotlib.pyplot as plt\n",
    "from matplotlib import colors as mcolors\n",
    "import GPy\n",
    "import time\n",
    "np.random.seed(12345)\n",
    "\n",
    "### Emukit imports\n",
    "from emukit.test_functions.forrester import multi_fidelity_forrester_function\n",
    "from emukit.core.loop.user_function import UserFunctionWrapper\n",
    "from emukit.multi_fidelity.convert_lists_to_array import convert_x_list_to_array\n",
    "from emukit.bayesian_optimization.acquisitions.entropy_search import MultiInformationSourceEntropySearch\n",
    "from emukit.bayesian_optimization.acquisitions.max_value_entropy_search import MUMBO\n",
    "from emukit.core.acquisition import Acquisition\n",
    "from emukit.multi_fidelity.models.linear_model import GPyLinearMultiFidelityModel\n",
    "from emukit.multi_fidelity.kernels.linear_multi_fidelity_kernel import LinearMultiFidelityKernel\n",
    "from emukit.multi_fidelity.convert_lists_to_array import convert_xy_lists_to_arrays\n",
    "from emukit.core import ParameterSpace, ContinuousParameter, InformationSourceParameter\n",
    "from emukit.model_wrappers import GPyMultiOutputWrapper\n",
    "from GPy.models.gp_regression import GPRegression\n",
    "\n",
    "\n",
    "### --- Figure config\n",
    "LEGEND_SIZE = 15"
   ]
  },
  {
   "cell_type": "markdown",
   "metadata": {},
   "source": [
    "Set up our toy problem (1D optimisation of the forrester function with two fidelity levels) and collect 6 initial points at low fidelity and 3 at high fidelitly. "
   ]
  },
  {
   "cell_type": "code",
   "execution_count": 2,
   "metadata": {},
   "outputs": [
    {
     "data": {
      "text/plain": [
       "<matplotlib.collections.PathCollection at 0x7feee3380400>"
      ]
     },
     "execution_count": 2,
     "metadata": {},
     "output_type": "execute_result"
    },
    {
     "data": {
      "image/png": "[encoded data removed]",
      "text/plain": [
       "<Figure size 432x288 with 1 Axes>"
      ]
     },
     "metadata": {
      "needs_background": "light"
     },
     "output_type": "display_data"
    }
   ],
   "source": [
    "# Load function\n",
    "# The multi-fidelity Forrester function is already wrapped as an Emukit UserFunction object in \n",
    "# the test_functions package\n",
    "forrester_fcn, _ = multi_fidelity_forrester_function()\n",
    "forrester_fcn_low = forrester_fcn.f[0]\n",
    "forrester_fcn_high = forrester_fcn.f[1]\n",
    "\n",
    "# Assign costs\n",
    "low_fidelity_cost = 1\n",
    "high_fidelity_cost = 10\n",
    "\n",
    "# Plot the function s\n",
    "x_plot = np.linspace(0, 1, 200)[:, None]\n",
    "y_plot_low = forrester_fcn_low(x_plot)\n",
    "y_plot_high = forrester_fcn_high(x_plot)\n",
    "plt.plot(x_plot, y_plot_low, 'b')\n",
    "plt.plot(x_plot, y_plot_high, 'r')\n",
    "plt.legend(['Low fidelity', 'High fidelity'])\n",
    "plt.xlim(0, 1)\n",
    "plt.title('High and low fidelity Forrester functions')\n",
    "plt.xlabel('x')\n",
    "plt.ylabel('y');\n",
    "\n",
    "\n",
    "# Collect and plot initial samples\n",
    "np.random.seed(123)\n",
    "x_low = np.random.rand(6)[:, None]\n",
    "x_high = x_low[:3]\n",
    "y_low = forrester_fcn_low(x_low)\n",
    "y_high = forrester_fcn_high(x_high)\n",
    "plt.scatter(x_low,y_low)\n",
    "plt.scatter(x_high,y_high)"
   ]
  },
  {
   "cell_type": "markdown",
   "metadata": {},
   "source": [
    "Fit our linear multi-fidelity GP model to the observed data. "
   ]
  },
  {
   "cell_type": "code",
   "execution_count": 3,
   "metadata": {},
   "outputs": [
    {
     "name": "stderr",
     "output_type": "stream",
     "text": [
      "reconstraining parameters rbf.lengthscale\n",
      "reconstraining parameters rbf.lengthscale\n"
     ]
    }
   ],
   "source": [
    "x_array, y_array = convert_xy_lists_to_arrays([x_low, x_high], [y_low, y_high])\n",
    "\n",
    "kern_low = GPy.kern.RBF(1)\n",
    "kern_low.lengthscale.constrain_bounded(0.01, 0.5)\n",
    "\n",
    "kern_err = GPy.kern.RBF(1)\n",
    "kern_err.lengthscale.constrain_bounded(0.01, 0.5)\n",
    "\n",
    "multi_fidelity_kernel = LinearMultiFidelityKernel([kern_low, kern_err])\n",
    "gpy_model = GPyLinearMultiFidelityModel(x_array, y_array, multi_fidelity_kernel, 2)\n",
    "\n",
    "gpy_model.likelihood.Gaussian_noise.fix(0.1)\n",
    "gpy_model.likelihood.Gaussian_noise_1.fix(0.1)\n",
    "\n",
    "model = GPyMultiOutputWrapper(gpy_model, 2, 5, verbose_optimization=False)\n",
    "model.optimize()"
   ]
  },
  {
   "cell_type": "markdown",
   "metadata": {},
   "source": [
    "Define acqusition functions for multi-fidelity problems"
   ]
  },
  {
   "cell_type": "code",
   "execution_count": 4,
   "metadata": {},
   "outputs": [],
   "source": [
    "# Define cost of different fidelities as acquisition function\n",
    "class Cost(Acquisition):\n",
    "    def __init__(self, costs):\n",
    "        self.costs = costs\n",
    "\n",
    "    def evaluate(self, x):\n",
    "        fidelity_index = x[:, -1].astype(int)\n",
    "        x_cost = np.array([self.costs[i] for i in fidelity_index])\n",
    "        return x_cost[:, None]\n",
    "    \n",
    "    @property\n",
    "    def has_gradients(self):\n",
    "        return True\n",
    "    \n",
    "    def evaluate_with_gradients(self, x):\n",
    "        return self.evalute(x), np.zeros(x.shape)\n",
    "\n",
    "parameter_space = ParameterSpace([ContinuousParameter('x', 0, 1), InformationSourceParameter(2)])\n",
    "cost_acquisition = Cost([low_fidelity_cost, high_fidelity_cost])\n",
    "es_acquisition = MultiInformationSourceEntropySearch(model, parameter_space) / cost_acquisition\n",
    "mumbo_acquisition = MUMBO(model, parameter_space, num_samples=5, grid_size=500) / cost_acquisition"
   ]
  },
  {
   "cell_type": "markdown",
   "metadata": {},
   "source": [
    "Lets plot the resulting acqusition functions (MUMBO and standard entropy search for multi-fidelity BO) for the chosen model on the collected data. Note that MES takes a fraction of the time of ES to compute (plotted on a log scale). This difference becomes even more apparent as you increase the dimensions of the sample space."
   ]
  },
  {
   "cell_type": "code",
   "execution_count": 5,
   "metadata": {},
   "outputs": [
    {
     "ename": "TypeError",
     "evalue": "'<' not supported between instances of 'NoneType' and 'float'",
     "output_type": "error",
     "traceback": [
      "\u001b[0;31m---------------------------------------------------------------------------\u001b[0m",
      "\u001b[0;31mTypeError\u001b[0m                                 Traceback (most recent call last)",
      "\u001b[0;32m<ipython-input-5-fc37a97e7c8c>\u001b[0m in \u001b[0;36m<module>\u001b[0;34m\u001b[0m\n\u001b[1;32m      5\u001b[0m \u001b[0mes_plot_high\u001b[0m \u001b[0;34m=\u001b[0m \u001b[0mes_acquisition\u001b[0m\u001b[0;34m.\u001b[0m\u001b[0mevaluate\u001b[0m\u001b[0;34m(\u001b[0m\u001b[0mx_plot_high\u001b[0m\u001b[0;34m)\u001b[0m\u001b[0;34m\u001b[0m\u001b[0;34m\u001b[0m\u001b[0m\n\u001b[1;32m      6\u001b[0m \u001b[0mt_es\u001b[0m\u001b[0;34m=\u001b[0m\u001b[0mtime\u001b[0m\u001b[0;34m.\u001b[0m\u001b[0mtime\u001b[0m\u001b[0;34m(\u001b[0m\u001b[0;34m)\u001b[0m\u001b[0;34m-\u001b[0m\u001b[0mt_0\u001b[0m\u001b[0;34m\u001b[0m\u001b[0;34m\u001b[0m\u001b[0m\n\u001b[0;32m----> 7\u001b[0;31m \u001b[0mmumbo_plot_low\u001b[0m \u001b[0;34m=\u001b[0m \u001b[0mmumbo_acquisition\u001b[0m\u001b[0;34m.\u001b[0m\u001b[0mevaluate\u001b[0m\u001b[0;34m(\u001b[0m\u001b[0mx_plot_low\u001b[0m\u001b[0;34m)\u001b[0m\u001b[0;34m\u001b[0m\u001b[0;34m\u001b[0m\u001b[0m\n\u001b[0m\u001b[1;32m      8\u001b[0m \u001b[0mmumbo_plot_high\u001b[0m \u001b[0;34m=\u001b[0m \u001b[0mmumbo_acquisition\u001b[0m\u001b[0;34m.\u001b[0m\u001b[0mevaluate\u001b[0m\u001b[0;34m(\u001b[0m\u001b[0mx_plot_high\u001b[0m\u001b[0;34m)\u001b[0m\u001b[0;34m\u001b[0m\u001b[0;34m\u001b[0m\u001b[0m\n\u001b[1;32m      9\u001b[0m \u001b[0mt_mumbo\u001b[0m\u001b[0;34m=\u001b[0m\u001b[0mtime\u001b[0m\u001b[0;34m.\u001b[0m\u001b[0mtime\u001b[0m\u001b[0;34m(\u001b[0m\u001b[0;34m)\u001b[0m\u001b[0;34m-\u001b[0m\u001b[0mt_es\u001b[0m\u001b[0;34m-\u001b[0m\u001b[0mt_0\u001b[0m\u001b[0;34m\u001b[0m\u001b[0;34m\u001b[0m\u001b[0m\n",
      "\u001b[0;32m~/emukit_dev/emukit/emukit/core/acquisition/acquisition.py\u001b[0m in \u001b[0;36mevaluate\u001b[0;34m(self, x)\u001b[0m\n\u001b[1;32m     94\u001b[0m         \u001b[0;34m:\u001b[0m\u001b[0;32mreturn\u001b[0m\u001b[0;34m:\u001b[0m \u001b[0;34m(\u001b[0m\u001b[0mn_points\u001b[0m \u001b[0mx\u001b[0m \u001b[0;36m1\u001b[0m\u001b[0;34m)\u001b[0m \u001b[0marray\u001b[0m \u001b[0mof\u001b[0m \u001b[0macquisition\u001b[0m \u001b[0mfunction\u001b[0m \u001b[0mvalues\u001b[0m\u001b[0;34m\u001b[0m\u001b[0;34m\u001b[0m\u001b[0m\n\u001b[1;32m     95\u001b[0m         \"\"\"\n\u001b[0;32m---> 96\u001b[0;31m         \u001b[0;32mreturn\u001b[0m \u001b[0mself\u001b[0m\u001b[0;34m.\u001b[0m\u001b[0mnumerator\u001b[0m\u001b[0;34m.\u001b[0m\u001b[0mevaluate\u001b[0m\u001b[0;34m(\u001b[0m\u001b[0mx\u001b[0m\u001b[0;34m)\u001b[0m \u001b[0;34m/\u001b[0m \u001b[0mself\u001b[0m\u001b[0;34m.\u001b[0m\u001b[0mdenominator\u001b[0m\u001b[0;34m.\u001b[0m\u001b[0mevaluate\u001b[0m\u001b[0;34m(\u001b[0m\u001b[0mx\u001b[0m\u001b[0;34m)\u001b[0m\u001b[0;34m\u001b[0m\u001b[0;34m\u001b[0m\u001b[0m\n\u001b[0m\u001b[1;32m     97\u001b[0m \u001b[0;34m\u001b[0m\u001b[0m\n\u001b[1;32m     98\u001b[0m     \u001b[0;32mdef\u001b[0m \u001b[0mevaluate_with_gradients\u001b[0m\u001b[0;34m(\u001b[0m\u001b[0mself\u001b[0m\u001b[0;34m,\u001b[0m \u001b[0mx\u001b[0m\u001b[0;34m:\u001b[0m \u001b[0mnp\u001b[0m\u001b[0;34m.\u001b[0m\u001b[0mndarray\u001b[0m\u001b[0;34m)\u001b[0m \u001b[0;34m->\u001b[0m \u001b[0mTuple\u001b[0m\u001b[0;34m[\u001b[0m\u001b[0mnp\u001b[0m\u001b[0;34m.\u001b[0m\u001b[0mndarray\u001b[0m\u001b[0;34m,\u001b[0m \u001b[0mnp\u001b[0m\u001b[0;34m.\u001b[0m\u001b[0mndarray\u001b[0m\u001b[0;34m]\u001b[0m\u001b[0;34m:\u001b[0m\u001b[0;34m\u001b[0m\u001b[0;34m\u001b[0m\u001b[0m\n",
      "\u001b[0;32m~/emukit_dev/emukit/emukit/bayesian_optimization/acquisitions/max_value_entropy_search.py\u001b[0m in \u001b[0;36mevaluate\u001b[0;34m(self, x)\u001b[0m\n\u001b[1;32m    215\u001b[0m         \"\"\"\n\u001b[1;32m    216\u001b[0m         \u001b[0;32mif\u001b[0m \u001b[0;32mnot\u001b[0m \u001b[0mself\u001b[0m\u001b[0;34m.\u001b[0m\u001b[0m_required_parameters_initialized\u001b[0m\u001b[0;34m(\u001b[0m\u001b[0;34m)\u001b[0m\u001b[0;34m:\u001b[0m\u001b[0;34m\u001b[0m\u001b[0;34m\u001b[0m\u001b[0m\n\u001b[0;32m--> 217\u001b[0;31m             \u001b[0mself\u001b[0m\u001b[0;34m.\u001b[0m\u001b[0mupdate_parameters\u001b[0m\u001b[0;34m(\u001b[0m\u001b[0;34m)\u001b[0m\u001b[0;34m\u001b[0m\u001b[0;34m\u001b[0m\u001b[0m\n\u001b[0m\u001b[1;32m    218\u001b[0m \u001b[0;34m\u001b[0m\u001b[0m\n\u001b[1;32m    219\u001b[0m         \u001b[0;31m# need model predictions at x and at the  x evaluated on the target fidelity (x_target_fidelity)\u001b[0m\u001b[0;34m\u001b[0m\u001b[0;34m\u001b[0m\u001b[0;34m\u001b[0m\u001b[0m\n",
      "\u001b[0;32m~/emukit_dev/emukit/emukit/bayesian_optimization/acquisitions/max_value_entropy_search.py\u001b[0m in \u001b[0;36mupdate_parameters\u001b[0;34m(self)\u001b[0m\n\u001b[1;32m    189\u001b[0m             \u001b[0mnp\u001b[0m\u001b[0;34m.\u001b[0m\u001b[0mexp\u001b[0m\u001b[0;34m(\u001b[0m\u001b[0mnp\u001b[0m\u001b[0;34m.\u001b[0m\u001b[0msum\u001b[0m\u001b[0;34m(\u001b[0m\u001b[0mnorm\u001b[0m\u001b[0;34m.\u001b[0m\u001b[0mlogcdf\u001b[0m\u001b[0;34m(\u001b[0m\u001b[0;34m-\u001b[0m\u001b[0;34m(\u001b[0m\u001b[0mx\u001b[0m \u001b[0;34m-\u001b[0m \u001b[0mfmean\u001b[0m\u001b[0;34m)\u001b[0m \u001b[0;34m/\u001b[0m \u001b[0mfsd\u001b[0m\u001b[0;34m)\u001b[0m\u001b[0;34m,\u001b[0m \u001b[0maxis\u001b[0m\u001b[0;34m=\u001b[0m\u001b[0;36m0\u001b[0m\u001b[0;34m)\u001b[0m\u001b[0;34m)\u001b[0m\u001b[0;34m\u001b[0m\u001b[0;34m\u001b[0m\u001b[0m\n\u001b[1;32m    190\u001b[0m         \u001b[0mi\u001b[0m \u001b[0;34m=\u001b[0m \u001b[0;36m0\u001b[0m\u001b[0;34m\u001b[0m\u001b[0;34m\u001b[0m\u001b[0m\n\u001b[0;32m--> 191\u001b[0;31m         \u001b[0;32mwhile\u001b[0m \u001b[0mprobf\u001b[0m\u001b[0;34m(\u001b[0m\u001b[0mleft\u001b[0m\u001b[0;34m)\u001b[0m \u001b[0;34m<\u001b[0m \u001b[0;36m0.75\u001b[0m\u001b[0;34m:\u001b[0m\u001b[0;34m\u001b[0m\u001b[0;34m\u001b[0m\u001b[0m\n\u001b[0m\u001b[1;32m    192\u001b[0m             \u001b[0mleft\u001b[0m \u001b[0;34m=\u001b[0m \u001b[0;36m2.\u001b[0m \u001b[0;34m**\u001b[0m \u001b[0mi\u001b[0m \u001b[0;34m*\u001b[0m \u001b[0mnp\u001b[0m\u001b[0;34m.\u001b[0m\u001b[0mmin\u001b[0m\u001b[0;34m(\u001b[0m\u001b[0mfmean\u001b[0m \u001b[0;34m-\u001b[0m \u001b[0;36m5.\u001b[0m \u001b[0;34m*\u001b[0m \u001b[0mfsd\u001b[0m\u001b[0;34m)\u001b[0m \u001b[0;34m+\u001b[0m \u001b[0;34m(\u001b[0m\u001b[0;36m1.\u001b[0m \u001b[0;34m-\u001b[0m \u001b[0;36m2.\u001b[0m \u001b[0;34m**\u001b[0m \u001b[0mi\u001b[0m\u001b[0;34m)\u001b[0m \u001b[0;34m*\u001b[0m \u001b[0mright\u001b[0m\u001b[0;34m\u001b[0m\u001b[0;34m\u001b[0m\u001b[0m\n\u001b[1;32m    193\u001b[0m             \u001b[0mi\u001b[0m \u001b[0;34m+=\u001b[0m \u001b[0;36m1\u001b[0m\u001b[0;34m\u001b[0m\u001b[0;34m\u001b[0m\u001b[0m\n",
      "\u001b[0;31mTypeError\u001b[0m: '<' not supported between instances of 'NoneType' and 'float'"
     ]
    }
   ],
   "source": [
    "x_plot_low = np.concatenate([np.atleast_2d(x_plot), np.zeros((x_plot.shape[0], 1))], axis=1)\n",
    "x_plot_high = np.concatenate([np.atleast_2d(x_plot), np.ones((x_plot.shape[0], 1))], axis=1)\n",
    "t_0=time.time()\n",
    "es_plot_low = es_acquisition.evaluate(x_plot_low)\n",
    "es_plot_high = es_acquisition.evaluate(x_plot_high)\n",
    "t_es=time.time()-t_0\n",
    "mumbo_plot_low = mumbo_acquisition.evaluate(x_plot_low)\n",
    "mumbo_plot_high = mumbo_acquisition.evaluate(x_plot_high)\n",
    "t_mumbo=time.time()-t_es-t_0\n",
    "\n",
    "fig, (ax1, ax2) = plt.subplots(1, 2)\n",
    "ax1.plot(x_plot, es_plot_low , \"blue\")\n",
    "ax1.plot(x_plot, es_plot_high, \"red\")\n",
    "ax1.set_title(\"Multi-fidelity Entropy Search\")\n",
    "ax1.set_xlabel(r\"$x$\")\n",
    "ax1.set_ylabel(r\"$\\alpha(x)$\")\n",
    "ax1.set_xlim(0, 1)\n",
    "\n",
    "ax2.plot(x_plot, mumbo_plot_low , \"blue\", label=\"Low fidelity evaluations\")\n",
    "ax2.plot(x_plot, mumbo_plot_high , \"red\",label=\"High fidelity evaluations\")\n",
    "ax2.legend(loc=\"upper right\")\n",
    "ax2.set_title(\"MUMBO\")\n",
    "ax2.set_xlabel(r\"$x$\")\n",
    "ax2.set_ylabel(r\"$\\alpha(x)$\")\n",
    "ax2.set_xlim(0, 1)\n",
    "plt.tight_layout()\n",
    "plt.figure()\n",
    "plt.bar([\"es\",\"MUMBO\"],[t_es,t_mumbo])\n",
    "plt.xlabel(\"Acquisition Choice\")\n",
    "plt.yscale('log')\n",
    "plt.ylabel(\"Calculation Time (secs)\")\n"
   ]
  }
 ],
 "metadata": {
  "kernelspec": {
   "display_name": "Python 3",
   "language": "python",
   "name": "emukit"
  },
  "language_info": {
   "codemirror_mode": {
    "name": "ipython",
    "version": 3
   },
   "file_extension": ".py",
   "mimetype": "text/x-python",
   "name": "python",
   "nbconvert_exporter": "python",
   "pygments_lexer": "ipython3",
   "version": "3.6.9"
  }
 },
 "nbformat": 4,
 "nbformat_minor": 2
}
