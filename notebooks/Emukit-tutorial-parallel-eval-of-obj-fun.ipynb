{
 "cells": [
  {
   "cell_type": "markdown",
   "metadata": {},
   "source": [
    "# Bayesian optimization with parallel evaluation of an external objection function using Emukit\n",
    "\n",
    "This tutorial will show you how to leverage Emukit to do Bayesian optimization on an external objective function that we can evaluate multiple times in parallel."
   ]
  },
  {
   "cell_type": "markdown",
   "metadata": {},
   "source": [
    "## Overview"
   ]
  },
  {
   "cell_type": "markdown",
   "metadata": {},
   "source": [
    "By the end of the tutorial, you will be able to:\n",
    "\n",
    "1. Generate batches $\\{X_t | t \\in 1..\\}$ of objective function evaluation locations $\\{x_i | x_i \\in X_t\\}$\n",
    "2. Evaluate the objective function at these suggested locations in parallel $f(x_i)$\n",
    "3. Use channels to implement the concurrency structure supporting this parallel evaluation\n",
    "\n",
    "This tutorial requires basic familiarity with Bayesian optimization and concurrency. If you've never run Bayesian optimization using Emukit before, please refer to the [introductory tutorial](Emukit-tutorial-intro.ipynb) for more information. The concurrency used here is not particularly complicated, so you should be able to follow just fine without much more than an understanding of the [active object design pattern](https://en.wikipedia.org/wiki/Active_object).\n",
    "\n",
    "The overview must start with the general imports and plots configuration\n",
    "\n",
    "The overview section must finish with a Navigation that links to the main sections of the notebook\n"
   ]
  },
  {
   "cell_type": "code",
   "execution_count": 1,
   "metadata": {},
   "outputs": [],
   "source": [
    "### General imports\n",
    "%matplotlib inline\n",
    "import numpy as np\n",
    "import matplotlib.pyplot as plt\n",
    "from matplotlib import colors as mcolors\n",
    "\n",
    "### --- Figure config\n",
    "colors = dict(mcolors.BASE_COLORS, **mcolors.CSS4_COLORS)\n",
    "LEGEND_SIZE = 15\n",
    "TITLE_SIZE = 25\n",
    "AXIS_SIZE = 15"
   ]
  },
  {
   "cell_type": "markdown",
   "metadata": {},
   "source": [
    "### Navigation\n",
    "\n",
    "1. [Section 1](#1.-Section-1)\n",
    "\n",
    "2. [Section 2](#2.-Section-2)\n",
    "\n",
    "3. [Conclusions](#3.-Conclusions)\n",
    "\n",
    "4. [References](#4.-References)"
   ]
  },
  {
   "cell_type": "markdown",
   "metadata": {},
   "source": [
    "## 1. Define objective function"
   ]
  },
  {
   "cell_type": "code",
   "execution_count": 11,
   "metadata": {},
   "outputs": [],
   "source": [
    "# Specific imports that are used in a section should be loaded at the beginning of that section.\n",
    "# It is ok if an import is repeated multiple times over the notebook\n",
    "\n",
    "import time\n",
    "import asyncio\n",
    "import GPy\n",
    "import emukit\n",
    "\n",
    "from emukit.test_functions.branin import (\n",
    "    branin_function as _branin_function,\n",
    ")"
   ]
  },
  {
   "cell_type": "code",
   "execution_count": 21,
   "metadata": {},
   "outputs": [],
   "source": [
    "### Define the cost and objective functions\n",
    "\n",
    "_branin, _ps = _branin_function()\n",
    "\n",
    "async def a_cost(x: np.ndarray):\n",
    "    # Cost function, defined arbitrarily\n",
    "    t = x.sum()/10\n",
    "    await asyncio.sleep(t)\n",
    "\n",
    "async def a_objective(x: np.ndarray):\n",
    "    # Objective function\n",
    "    r = _branin(x)\n",
    "    await a_cost(x)\n",
    "    return r\n",
    "\n",
    "async def demo_async_obj():\n",
    "    '''This function demonstrates a simple usage of the async objective function'''\n",
    "    # Configure\n",
    "    _x = [7.5, 12.5]\n",
    "    d = len(_x)\n",
    "    x = np.array(_x).reshape((1, d))\n",
    "    assert _ps.check_points_in_domain(x).all(), (\"You configured a point outside the objective\"\n",
    "        f\"function's domain: {x} is outside {_ps.get_bounds()}\")\n",
    "    # Execute\n",
    "    print(f\"Input: x={x}\")\n",
    "    t0 = time.perf_counter()\n",
    "    r = await a_objective(x)\n",
    "    t1 = time.perf_counter()\n",
    "    print(f\"Output: result={r}\")\n",
    "    print(f\"Time elapsed: {t1-t0} sec\")"
   ]
  },
  {
   "cell_type": "code",
   "execution_count": 22,
   "metadata": {},
   "outputs": [
    {
     "name": "stdout",
     "output_type": "stream",
     "text": [
      "Input: x=[[ 7.5 12.5]]\n",
      "Output: result=[[138.09715472]]\n",
      "Time elapsed: 2.000624129000016 sec\n"
     ]
    }
   ],
   "source": [
    "await demo_async_obj()"
   ]
  },
  {
   "cell_type": "markdown",
   "metadata": {},
   "source": [
    "Due to a [certain issue](https://github.com/spatialaudio/nbsphinx/issues/203) blockquotes cannot immediately follow code blocks, so make sure there is some text between a code block and a note. As soon as nbsphinx is updated with the [fix](https://github.com/spatialaudio/nbsphinx/pull/216) this can be relaxed.\n",
    "\n",
    ">**Note**: Important notes in the text can be added like that\n",
    ">\n",
    "> notes can be multiline"
   ]
  },
  {
   "cell_type": "markdown",
   "metadata": {},
   "source": [
    "Links to references done like that: [[Kennedy and O'Hagan, 2000]](#4.-References), the full reference should be included at the end of the notebook."
   ]
  },
  {
   "cell_type": "markdown",
   "metadata": {},
   "source": [
    "## 2. Run BO using parallel evaluation of batched suggestions"
   ]
  },
  {
   "cell_type": "code",
   "execution_count": null,
   "metadata": {},
   "outputs": [],
   "source": [
    "### First, setup the BO\n",
    "\n"
   ]
  },
  {
   "cell_type": "markdown",
   "metadata": {},
   "source": [
    "More section content"
   ]
  },
  {
   "cell_type": "markdown",
   "metadata": {},
   "source": [
    "## 3. Conclusions"
   ]
  },
  {
   "cell_type": "markdown",
   "metadata": {},
   "source": [
    "## 4. References"
   ]
  },
  {
   "cell_type": "markdown",
   "metadata": {},
   "source": [
    "- Kennedy, M.C. and O'Hagan, A., 2000. *Predicting the output from a complex computer code when fast approximations are available.* Biometrika, 87(1), pp.1-13."
   ]
  }
 ],
 "metadata": {
  "kernelspec": {
   "display_name": "Python 3",
   "language": "python",
   "name": "python3"
  },
  "language_info": {
   "codemirror_mode": {
    "name": "ipython",
    "version": 3
   },
   "file_extension": ".py",
   "mimetype": "text/x-python",
   "name": "python",
   "nbconvert_exporter": "python",
   "pygments_lexer": "ipython3",
   "version": "3.8.3"
  }
 },
 "nbformat": 4,
 "nbformat_minor": 2
}
