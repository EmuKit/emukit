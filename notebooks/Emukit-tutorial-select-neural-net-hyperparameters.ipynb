{
 "cells": [
  {
   "cell_type": "markdown",
   "metadata": {},
   "source": [
    "# Categorical variables: optimizing a neural network with TensorFlow and Emukit"
   ]
  },
  {
   "cell_type": "markdown",
   "metadata": {},
   "source": [
    "This notebook is going to illustrate how to use categorical variables with Emukit."
   ]
  },
  {
   "cell_type": "code",
   "execution_count": 1,
   "metadata": {},
   "outputs": [],
   "source": [
    "### General imports\n",
    "%matplotlib inline\n",
    "import numpy as np\n",
    "import matplotlib.pyplot as plt"
   ]
  },
  {
   "cell_type": "code",
   "execution_count": 2,
   "metadata": {},
   "outputs": [],
   "source": [
    "### Necessary imports\n",
    "import tensorflow as tf\n",
    "tf.logging.set_verbosity(tf.logging.ERROR)\n",
    "import GPy\n",
    "\n",
    "from emukit.core import ContinuousParameter, ParameterSpace, CategoricalParameter, OneHotEncoding\n",
    "from emukit.model_wrappers import GPyModelWrapper\n",
    "from emukit.bayesian_optimization.loops import BayesianOptimizationLoop"
   ]
  },
  {
   "cell_type": "markdown",
   "metadata": {},
   "source": [
    "For this example we are going to optimize a very simple neural network built with TensorFlow. We will reuse the very first example of [how to use TensorFlow](https://colab.research.google.com/github/tensorflow/docs/blob/master/site/en/tutorials/_index.ipynb) with number of epochs reduced to 1 in the interest of saving time. We are going to consider two hyper parameters that are going to be subjects of optimization:\n",
    "* Type of optimizer. We are going to choose from Adam, AdaGrad and SGD. This is clearly a categorical parameter.\n",
    "* Dropout rate, ranging between 0.05 and 0.95. This parameter is continuous.  "
   ]
  },
  {
   "cell_type": "markdown",
   "metadata": {},
   "source": [
    "Here is the definition of the function we are going to optimize:"
   ]
  },
  {
   "cell_type": "code",
   "execution_count": 3,
   "metadata": {},
   "outputs": [],
   "source": [
    "mnist = tf.keras.datasets.mnist\n",
    "\n",
    "(x_train, y_train),(x_test, y_test) = mnist.load_data()\n",
    "x_train, x_test = x_train / 255.0, x_test / 255.0 \n",
    "\n",
    "def eval_model(dropout_rate, optimizer):\n",
    "    model = tf.keras.models.Sequential([\n",
    "      tf.keras.layers.Flatten(),\n",
    "      tf.keras.layers.Dense(512, activation=tf.nn.relu),\n",
    "      tf.keras.layers.Dropout(dropout_rate),\n",
    "      tf.keras.layers.Dense(10, activation=tf.nn.softmax)\n",
    "    ])\n",
    "    model.compile(optimizer=optimizer,\n",
    "                  loss='sparse_categorical_crossentropy',\n",
    "                  metrics=['accuracy'])\n",
    "\n",
    "    model.fit(x_train, y_train, epochs=1)\n",
    "    loss, accuracy = model.evaluate(x_test, y_test)\n",
    "    \n",
    "    return accuracy"
   ]
  },
  {
   "cell_type": "markdown",
   "metadata": {},
   "source": [
    "Emukit takes both objective and model as inputs. So when users come to Emukit it is expected that they have already done necessary conversions to turn categorical parameters into numerical values, known as encodings.\n",
    "\n",
    "Encodings in Emukit are represented with `Encoding` class and its subclasses. Emukit provides implementations for a few standard encodings (at the time of writing there are two: one hot and ordinal). If your encoding is not included in one of these, you can either use `Encoding` class directly, or subclass it. We should leave discussion of these options to a different tutorial.\n",
    "\n",
    "For this example we will use one hot encoding already included in Emukit."
   ]
  },
  {
   "cell_type": "code",
   "execution_count": 4,
   "metadata": {},
   "outputs": [],
   "source": [
    "optimizers = ['adam', 'adagrad', 'sgd']\n",
    "encoding = OneHotEncoding(optimizers)\n",
    "space = ParameterSpace([\n",
    "    ContinuousParameter('dropout_rate', 0.05, 0.95),\n",
    "    CategoricalParameter('optimizer', encoding)\n",
    "])"
   ]
  },
  {
   "cell_type": "markdown",
   "metadata": {},
   "source": [
    "Emukit requires objective function to accept 2d array as an input, and it also expects model and objective function to accept input of the same form. It is not the case with our objective yet: it declares input parameters explicitly, and expects optimizer name instead of encoding value. Let's fix it. Note how we can use our encoding object here:"
   ]
  },
  {
   "cell_type": "code",
   "execution_count": 5,
   "metadata": {},
   "outputs": [],
   "source": [
    "def emukit_friendly_objective_function(input_rows):\n",
    "    output = []\n",
    "    for row in input_rows:\n",
    "        dropout_rate = row[0]\n",
    "        optimizer = encoding.get_category(row[1:])\n",
    "        eval_result = eval_model(dropout_rate, optimizer)\n",
    "        \n",
    "        # Emukit minimizes, so we need to revert accuracy\n",
    "        output.append([-1 * eval_result])\n",
    "    \n",
    "    return np.array(output)"
   ]
  },
  {
   "cell_type": "markdown",
   "metadata": {},
   "source": [
    "We can use random forest as our model, which comes in Emukit's examples package. Notice that you need Scikit-learn installed to be able to use it. We will use a couple of random values to initialize it:"
   ]
  },
  {
   "cell_type": "code",
   "execution_count": 6,
   "metadata": {},
   "outputs": [
    {
     "name": "stdout",
     "output_type": "stream",
     "text": [
      "60000/60000 [==============================] - 9s 147us/sample - loss: 0.5335 - acc: 0.8344\n",
      "10000/10000 [==============================] - 0s 41us/sample - loss: 0.1861 - acc: 0.9469\n",
      "60000/60000 [==============================] - 9s 143us/sample - loss: 0.2328 - acc: 0.9310\n",
      "10000/10000 [==============================] - 0s 42us/sample - loss: 0.1264 - acc: 0.9613\n",
      "60000/60000 [==============================] - 6s 94us/sample - loss: 0.9496 - acc: 0.6998\n",
      "10000/10000 [==============================] - 0s 44us/sample - loss: 0.3953 - acc: 0.8991\n",
      "60000/60000 [==============================] - 9s 145us/sample - loss: 0.2192 - acc: 0.9351\n",
      "10000/10000 [==============================] - 0s 44us/sample - loss: 0.1057 - acc: 0.9686\n",
      "60000/60000 [==============================] - 7s 117us/sample - loss: 0.2727 - acc: 0.9197\n",
      "10000/10000 [==============================] - 0s 45us/sample - loss: 0.1492 - acc: 0.9561\n"
     ]
    }
   ],
   "source": [
    "from emukit.examples.models.random_forest import RandomForest\n",
    "from emukit.experimental_design import RandomDesign\n",
    "\n",
    "random_design = RandomDesign(space)\n",
    "initial_points_count = 5\n",
    "X_init = random_design.get_samples(initial_points_count)\n",
    "Y_init = emukit_friendly_objective_function(X_init)\n",
    "\n",
    "rf_model = RandomForest(X_init, Y_init)"
   ]
  },
  {
   "cell_type": "markdown",
   "metadata": {},
   "source": [
    "Let's examine the returned data:"
   ]
  },
  {
   "cell_type": "code",
   "execution_count": 7,
   "metadata": {},
   "outputs": [
    {
     "data": {
      "text/plain": [
       "array([[-0.94690001],\n",
       "       [-0.96130002],\n",
       "       [-0.89910001],\n",
       "       [-0.96859998],\n",
       "       [-0.95609999]])"
      ]
     },
     "execution_count": 7,
     "metadata": {},
     "output_type": "execute_result"
    }
   ],
   "source": [
    "Y_init"
   ]
  },
  {
   "cell_type": "markdown",
   "metadata": {},
   "source": [
    "At this point everything is ready to run the optimization loop."
   ]
  },
  {
   "cell_type": "code",
   "execution_count": 8,
   "metadata": {},
   "outputs": [
    {
     "name": "stdout",
     "output_type": "stream",
     "text": [
      "60000/60000 [==============================] - 7s 113us/sample - loss: 0.2211 - acc: 0.9347\n",
      "10000/10000 [==============================] - 0s 45us/sample - loss: 0.1269 - acc: 0.9631\n",
      "60000/60000 [==============================] - 9s 145us/sample - loss: 0.2100 - acc: 0.9377\n",
      "10000/10000 [==============================] - 0s 46us/sample - loss: 0.1063 - acc: 0.9689\n",
      "60000/60000 [==============================] - 7s 113us/sample - loss: 0.2281 - acc: 0.9339\n",
      "10000/10000 [==============================] - 0s 47us/sample - loss: 0.1268 - acc: 0.9637\n",
      "60000/60000 [==============================] - 6s 96us/sample - loss: 0.6212 - acc: 0.8449\n",
      "10000/10000 [==============================] - 0s 49us/sample - loss: 0.3445 - acc: 0.9089\n",
      "60000/60000 [==============================] - 9s 144us/sample - loss: 0.2899 - acc: 0.9130\n",
      "10000/10000 [==============================] - 0s 48us/sample - loss: 0.1289 - acc: 0.9591\n",
      "60000/60000 [==============================] - 9s 146us/sample - loss: 0.2107 - acc: 0.9373\n",
      "10000/10000 [==============================] - 0s 49us/sample - loss: 0.1028 - acc: 0.9675\n",
      "60000/60000 [==============================] - 7s 118us/sample - loss: 0.3568 - acc: 0.8930\n",
      "10000/10000 [==============================] - 1s 50us/sample - loss: 0.1733 - acc: 0.9482\n",
      "60000/60000 [==============================] - 9s 147us/sample - loss: 0.2080 - acc: 0.9392\n",
      "10000/10000 [==============================] - 1s 51us/sample - loss: 0.1032 - acc: 0.9682\n",
      "60000/60000 [==============================] - 9s 149us/sample - loss: 0.2142 - acc: 0.9377\n",
      "10000/10000 [==============================] - 1s 52us/sample - loss: 0.0929 - acc: 0.9707\n",
      "60000/60000 [==============================] - 9s 150us/sample - loss: 0.2175 - acc: 0.9352\n",
      "10000/10000 [==============================] - 1s 54us/sample - loss: 0.1113 - acc: 0.9652\n"
     ]
    }
   ],
   "source": [
    "from emukit.core.optimization import LocalSearchAcquisitionOptimizer\n",
    "\n",
    "ls = LocalSearchAcquisitionOptimizer(space, num_steps=10, num_init_points=5)\n",
    "loop = BayesianOptimizationLoop(model=rf_model, space=space, acquisition_optimizer=ls)\n",
    "loop.run_loop(emukit_friendly_objective_function, 10)"
   ]
  },
  {
   "cell_type": "markdown",
   "metadata": {},
   "source": [
    "Let's plot the results of the optimization run."
   ]
  },
  {
   "cell_type": "code",
   "execution_count": 9,
   "metadata": {},
   "outputs": [
    {
     "data": {
      "image/png": "[encoded data removed]",
      "text/plain": [
       "<Figure size 432x288 with 1 Axes>"
      ]
     },
     "metadata": {},
     "output_type": "display_data"
    }
   ],
   "source": [
    "%matplotlib inline\n",
    "import matplotlib.pyplot as plt\n",
    "\n",
    "accuracies = -1 * loop.loop_state.Y\n",
    "\n",
    "plt.title('Executions of objective')\n",
    "plt.xlabel('Iterations')\n",
    "plt.ylabel('Accuracy')\n",
    "plt.plot(range(accuracies.shape[0]), accuracies[:, 0], c='k')\n",
    "plt.scatter(range(initial_points_count), accuracies[:initial_points_count, 0], c='r', linewidths=5, label=\"Initial values\")\n",
    "plt.scatter(range(initial_points_count, accuracies.shape[0]), accuracies[initial_points_count:, 0], c='b', linewidths=5, label=\"Optimizaion executions\")\n",
    "plt.legend();"
   ]
  }
 ],
 "metadata": {
  "kernelspec": {
   "display_name": "Python 3",
   "language": "python",
   "name": "python3"
  },
  "language_info": {
   "codemirror_mode": {
    "name": "ipython",
    "version": 3
   },
   "file_extension": ".py",
   "mimetype": "text/x-python",
   "name": "python",
   "nbconvert_exporter": "python",
   "pygments_lexer": "ipython3",
   "version": "3.6.8"
  }
 },
 "nbformat": 4,
 "nbformat_minor": 2
}
