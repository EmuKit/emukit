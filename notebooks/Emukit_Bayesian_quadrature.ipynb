{
 "cells": [
  {
   "cell_type": "code",
   "execution_count": 1,
   "metadata": {},
   "outputs": [],
   "source": [
    "import numpy as np\n",
    "import emukit.quadrature as eq\n",
    "from emukit.examples import BayesianQuadratureWithRBFKernel\n",
    "from emukit.core import MultiDimensionalContinuousParameter"
   ]
  },
  {
   "cell_type": "code",
   "execution_count": 2,
   "metadata": {},
   "outputs": [],
   "source": [
    "import GPy"
   ]
  },
  {
   "cell_type": "code",
   "execution_count": 3,
   "metadata": {},
   "outputs": [],
   "source": [
    "N_dat = 10\n",
    "X = np.linspace(0,1, N_dat).reshape(-1,1)\n",
    "Y = np.random.normal(size=(N_dat,1))\n",
    "\n",
    "integral_bounds = MultiDimensionalContinuousParameter('integral_bounds', np.zeros((1,1)), np.ones((1,1)))\n",
    "\n",
    "bq_model = BayesianQuadratureWithRBFKernel(X=X, Y=Y, integral_bounds=integral_bounds,kernel_hyperparams=(0.2,1))"
   ]
  },
  {
   "cell_type": "code",
   "execution_count": 4,
   "metadata": {},
   "outputs": [
    {
     "data": {
      "text/plain": [
       "(-0.4903158622740881, array([[0.0840904]]))"
      ]
     },
     "execution_count": 4,
     "metadata": {},
     "output_type": "execute_result"
    }
   ],
   "source": [
    "bq_model.integrate()"
   ]
  },
  {
   "cell_type": "code",
   "execution_count": 7,
   "metadata": {},
   "outputs": [
    {
     "data": {
      "text/plain": [
       "0.0"
      ]
     },
     "execution_count": 7,
     "metadata": {},
     "output_type": "execute_result"
    }
   ],
   "source": [
    "l,u = integral_bounds.get_bounds()\n",
    "np.float(l)"
   ]
  },
  {
   "cell_type": "code",
   "execution_count": null,
   "metadata": {},
   "outputs": [],
   "source": []
  }
 ],
 "metadata": {
  "kernelspec": {
   "display_name": "Python 3.7 (emukit)",
   "language": "python",
   "name": "emukit_venv"
  },
  "language_info": {
   "codemirror_mode": {
    "name": "ipython",
    "version": 3
   },
   "file_extension": ".py",
   "mimetype": "text/x-python",
   "name": "python",
   "nbconvert_exporter": "python",
   "pygments_lexer": "ipython3",
   "version": "3.7.0"
  }
 },
 "nbformat": 4,
 "nbformat_minor": 2
}
