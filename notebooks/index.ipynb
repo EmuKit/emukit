{
 "cells": [
  {
   "cell_type": "markdown",
   "metadata": {},
   "source": [
    "# Emukit tutorials\n",
    "\n",
    "Emukit tutorials can be added and used through the links below. The goal of each of these tutorials is to explain a particular functionality of the Emukit project. These tutorials are stand-alone notebooks that don't require any extra files and fully sit on Emukit components (apart from the creation of the model).\n",
    "\n",
    "Some tutorials have been written with the purpose of explaining some scientific concepts and can be used for learning about different topics in emulation and uncertainty quantification. Other tutorials are a small guide to describe some feature of the library.\n",
    "\n",
    "Another great resource to learn Emukit are the [examples](../emukit/examples) which are more elaborated modules focused either on the implementation of a new method with Emukit components or on the analysis and solution of some specific problem."
   ]
  },
  {
   "cell_type": "markdown",
   "metadata": {},
   "source": [
    "### Getting Started\n",
    "\n",
    "Tutorials in this section will get you up and running with Emukit as quickly as possible.\n",
    "\n",
    "* [5 minutes introduction to Emukit](Emukit-tutorial-intro.ipynb)\n",
    "* [Philosophy and Basic use of the library](Emukit-tutorial-basic-use-of-the-library.ipynb)"
   ]
  },
  {
   "cell_type": "markdown",
   "metadata": {},
   "source": [
    "### Scientific tutorials\n",
    "\n",
    "Tutorials in this section will teach you about the theoretical foundations of surrogate optimization using Emukit.\n",
    "* [Introduction to Bayesian optimization](Emukit-tutorial-Bayesian-optimization-introduction.ipynb)\n",
    "* [Introduction to multi-fidelity Gaussian processes](Emukit-tutorial-multi-fidelity.ipynb)\n",
    "* [Introduction to sensitivity analysis](Emukit-tutorial-sensitivity-montecarlo.ipynb)\n",
    "* [Introduction to Bayesian Quadrature](Emukit-tutorial-Bayesian-quadrature-introduction.ipynb)\n",
    "* [Introduction to Experimental Design](Emukit-tutorial-experimental-design-introduction.ipynb)"
   ]
  },
  {
   "cell_type": "markdown",
   "metadata": {},
   "source": [
    "### Features tutorials\n",
    "\n",
    "Tutorials in this section will give you code snippets and explanations of various practical features included in the Emukit project.\n",
    "* [Bayesian optimization with external evaluation of the objective](Emukit-tutorial-bayesian-optimization-external-objective-evaluation.ipynb)\n",
    "* [Bayesian optimization with context variables](Emukit-tutorial-bayesian-optimization-context-variables.ipynb)\n",
    "* [Learn how to to combine an acquisition function (entropy search) with a multi-source (fidelity) Gaussian process](Emukit-tutorial-multi-fidelity-bayesian-optimization.ipynb)\n",
    "* [How to benchmark several Bayesian optimization methods with Emukit](Emukit-tutorial-bayesian-optimization-benchmark.ipynb)\n",
    "* [Categorical variables in Emukit](Emukit-Categorical-with-Tensorflow.ipynb)\n",
    "* [How to perform Bayesian optimization with non-linear constraints](Emukit-tutorial-constrained-optimization.ipynb)\n",
    "* [Bayesian optimization integrating the hyper-parameters of the model](Emukit-tutorial-bayesian-optimization-integrating-model-hyperparameters.ipynb)\n",
    "* [How to use custom model](Emukit-tutorial-custom-model.ipynb)\n",
    "* [How to select neural network hyperparameters](Emukit-tutorial-select-neural-net-hyperparameters.ipynb)\n",
    "* [How to parallelize external objective function evaluations in Bayesian optimization](Emukit-tutorial-parallel-eval-of-obj-fun.ipynb)"
   ]
  },
  {
   "cell_type": "markdown",
   "metadata": {},
   "source": [
    "## Contribution guide\n",
    "\n",
    "Community contributions are vital to the success of any open source project. [Tutorials](Emukit-tutorial-how-to-write-a-notebook.ipynb) and [examples](https://github.com/amzn/emukit/tree/master/emukit/examples) are a great way to spread what you have learned about Emukit across the community and an excellent way to showcase new features. If you want to contribute with a new tutorial please follow [these steps](Emukit-tutorial-how-to-write-a-notebook.ipynb).\n",
    "\n",
    "We also welcome feedback, so if there is any aspect of Emukit that we can improve, please [raise an issue](https://github.com/EmuKit/emukit/issues/new)!"
   ]
  }
 ],
 "metadata": {
  "kernelspec": {
   "display_name": "Python 3",
   "language": "python",
   "name": "python3"
  },
  "language_info": {
   "codemirror_mode": {
    "name": "ipython",
    "version": 3
   },
   "file_extension": ".py",
   "mimetype": "text/x-python",
   "name": "python",
   "nbconvert_exporter": "python",
   "pygments_lexer": "ipython3",
   "version": "3.6.8"
  }
 },
 "nbformat": 4,
 "nbformat_minor": 2
}
