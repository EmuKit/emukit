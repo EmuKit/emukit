{
 "cells": [
  {
   "cell_type": "markdown",
   "metadata": {},
   "source": [
    "# Emukit tutorials\n",
    "\n",
    "Emukit tutorials can be added and used through the links below. The goal on these tutorials is to explain a particular functionality of Emukit. These tutorials are stand alone notebooks that don't require any extra file and fully sit on Emukit components (apart from the creation of the model).\n",
    "\n",
    "Some tutorials have been written with the purpose of explaining some scientific concepts and can be used for learning about different topics in emulation and uncertainty quantification. Other tutorials are a small guide to describe some feature of the library.\n",
    "\n",
    "Another great resource to learn Emukit are the [examples](https://github.com/amzn/emukit/tree/develop/emukit/examples) which are more elaborated modules focused either on the implementation of a new method with Emukit components or on the analysis and solution of some specific problem.\n",
    "\n",
    "\n",
    "\n"
   ]
  },
  {
   "cell_type": "markdown",
   "metadata": {},
   "source": [
    "## Available Tutorials"
   ]
  },
  {
   "cell_type": "markdown",
   "metadata": {},
   "source": [
    "* **Getting Started:**\n",
    "    * [Philosophy and Basic use of the library](http://nbviewer.jupyter.org/github/amzn/emukit/blob/develop/notebooks/Emukit-tutorial-intro.ipynb)\n",
    "    * [5 minutes introduction to Emukit](http://nbviewer.jupyter.org/github/amzn/emukit/blob/develop/notebooks/Emukit-tutorial-intro.ipynb)"
   ]
  },
  {
   "cell_type": "markdown",
   "metadata": {},
   "source": [
    "* **Scientific tutorials:**\n",
    "    * [Introduction to Bayesian optimization](http://nbviewer.jupyter.org/github/amzn/emukit/blob/develop/notebooks/Emukit-tutorial-Bayesian-optimization-introduction.ipynb)\n",
    "    * [Introduction to multi-fidelity Gaussian processes](http://nbviewer.jupyter.org/github/amzn/emukit/blob/develop/notebooks/Emukit-tutorial-multi-fidelity.ipynb)\n",
    "    * [Introduction to sensitivity analysis](http://nbviewer.jupyter.org/github/amzn/emukit/blob/develop/notebooks/Emukit-tutorial-sensitivity-montecarlo.ipynb)\n",
    "    * [Introduction to Bayesian Quadrature](http://nbviewer.jupyter.org/github/amzn/emukit/blob/develop/notebooks/Emukit-tutorial-Bayesian-quadrature-introduction.ipynb)"
   ]
  },
  {
   "cell_type": "markdown",
   "metadata": {},
   "source": [
    "* **Features tutorials:**\n",
    "    * [Bayesian optimization with external evaluation of the objective](http://nbviewer.jupyter.org/github/amzn/emukit/blob/develop/notebooks/Emukit-tutorial-bayesian-optimization-external-objective-evaluation.ipynb)\n",
    "    * [Bayesian optimization with context variables](http://nbviewer.jupyter.org/github/amzn/emukit/blob/develop/notebooks/Emukit-tutorial-bayesian-optimization-context-variables.ipynb)\n",
    "    * [Learn how to to combine an acquisition function (entropy search) with a multi-source (fidelity) Gaussian process](http://nbviewer.jupyter.org/github/amzn/emukit/blob/develop/notebooks/Emukit-tutorial-multi-fidelity-bayesian-optimization.ipynb)\n",
    "    * [Benchmark automatically several Bayesian optimization methods](http://nbviewer.jupyter.org/github/amzn/emukit/blob/develop/notebooks/Emukit-tutorial-bayesian-optimization-benchmark.ipynb)"
   ]
  },
  {
   "cell_type": "markdown",
   "metadata": {},
   "source": [
    "* **Do it yourself:**\n",
    "    * [How to write a tutorial notebook for Emukit](http://nbviewer.jupyter.org/github/amzn/emukit/blob/develop/notebooks/Emukit-tutorial-how-to-write-a-notebook.ipynb) (please follow the contribution guide below).  \n",
    "    * [How to use custom model](http://nbviewer.jupyter.org/github/amzn/emukit/blob/develop/notebooks/Emukit-tutorial-custom-model.ipynb)"
   ]
  },
  {
   "cell_type": "markdown",
   "metadata": {},
   "source": [
    "## Contribution guide\n",
    "\n",
    "We really appreciate contributions. Tutorials and examples are a great way to spread what you have learned about Emukit across the community and an excellent way to showcase new features. If you want to contribute with a new tutorial please follow [these](https://github.com/amzn/emukit/tree/develop/emukit/examples) steps.\n",
    "\n",
    "We also welcome feedback so if there is any aspect of Emukit that we can improve please raise an issue!"
   ]
  }
 ],
 "metadata": {
  "kernelspec": {
   "display_name": "Python 3",
   "language": "python",
   "name": "python3"
  },
  "language_info": {
   "codemirror_mode": {
    "name": "ipython",
    "version": 3
   },
   "file_extension": ".py",
   "mimetype": "text/x-python",
   "name": "python",
   "nbconvert_exporter": "python",
   "pygments_lexer": "ipython3",
   "version": "3.6.4"
  }
 },
 "nbformat": 4,
 "nbformat_minor": 2
}
